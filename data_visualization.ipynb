{
 "cells": [
  {
   "cell_type": "code",
   "execution_count": 1,
   "metadata": {},
   "outputs": [],
   "source": [
    "import os\n",
    "os.chdir('/home/hugo-dev/esirem-dev/4a/kmutt/kmutt_v2')"
   ]
  },
  {
   "cell_type": "code",
   "execution_count": 2,
   "metadata": {},
   "outputs": [],
   "source": [
    "import numpy as np\n",
    "import matplotlib.pyplot as plt\n",
    "from sklearn.decomposition import PCA\n",
    "from utils.load_data import load_data_with_mapping"
   ]
  },
  {
   "cell_type": "code",
   "execution_count": 3,
   "metadata": {},
   "outputs": [],
   "source": [
    "DATA_PATH = \"./data/data_25ms_h=50%_16mfcc.json\""
   ]
  },
  {
   "cell_type": "code",
   "execution_count": 4,
   "metadata": {},
   "outputs": [
    {
     "name": "stdout",
     "output_type": "stream",
     "text": [
      "Training sets loaded!\n",
      "(560121, 1, 16)\n",
      "(560121,)\n"
     ]
    }
   ],
   "source": [
    "X, y, mapping = load_data_with_mapping(DATA_PATH)\n",
    "\n",
    "print(X.shape)\n",
    "print(y.shape)"
   ]
  },
  {
   "cell_type": "code",
   "execution_count": 5,
   "metadata": {},
   "outputs": [],
   "source": [
    "# plot Total Segments for each class\n",
    "def plot_segments(y, mapping):\n",
    "    plt.figure(figsize=(10, 5))\n",
    "    values, counts = np.unique(y, return_counts=True)\n",
    "    plt.bar([mapping[val] for val in values], counts)\n",
    "    plt.xlabel('Classes')\n",
    "    plt.ylabel('Total Segments')\n",
    "    plt.title('Total Segments for each class')"
   ]
  },
  {
   "cell_type": "code",
   "execution_count": 6,
   "metadata": {},
   "outputs": [
    {
     "data": {
      "image/png": "[encoded data removed]",
      "text/plain": [
       "<Figure size 1000x500 with 1 Axes>"
      ]
     },
     "metadata": {},
     "output_type": "display_data"
    }
   ],
   "source": [
    "plot_segments(y, mapping)"
   ]
  },
  {
   "cell_type": "code",
   "execution_count": 7,
   "metadata": {},
   "outputs": [],
   "source": [
    "# plot the PCA\n",
    "def plot_pca(X, y, mapping):\n",
    "    X_reshaped = X.reshape(X.shape[0], -1)\n",
    "    plt.figure(figsize=(8,6))\n",
    "\n",
    "    for cls in range(len(mapping)):\n",
    "        cls_data = X_reshaped[y == cls]\n",
    "\n",
    "        pca = PCA(n_components=2)\n",
    "        data_pca = pca.fit_transform(cls_data)\n",
    "\n",
    "        plt.scatter(data_pca[:,0], data_pca[:,1], alpha=0.5, label=mapping[cls])\n",
    "\n",
    "    plt.xlabel('First componant')\n",
    "    plt.ylabel('Second componant')\n",
    "    plt.legend()"
   ]
  },
  {
   "cell_type": "code",
   "execution_count": 11,
   "metadata": {},
   "outputs": [],
   "source": [
    "# plot_pca(X, y, mapping)"
   ]
  },
  {
   "cell_type": "code",
   "execution_count": 9,
   "metadata": {},
   "outputs": [],
   "source": [
    "# import plotly.graph_objects as go\n",
    "\n",
    "# X = X.tolist()\n",
    "# y = y.tolist()\n",
    "# mapping = mapping.tolist()\n",
    "\n",
    "# # Créer des listes pour chaque classe\n",
    "# DPR = [X[i] for i in range(len(X)) if y[i] == mapping.index('DPR')]\n",
    "# HRK = [X[i] for i in range(len(X)) if y[i] == mapping.index('HRK')]\n",
    "# RMT = [X[i] for i in range(len(X)) if y[i] == mapping.index('RMT')]\n"
   ]
  },
  {
   "cell_type": "code",
   "execution_count": 10,
   "metadata": {},
   "outputs": [],
   "source": [
    "# # Créer une figure 3D\n",
    "# fig = go.Figure()\n",
    "\n",
    "# # Ajouter les données dans le graphique\n",
    "# for color, label in [('red', 'DPR'), ('blue', 'HRK'), ('green', 'RMT')]:\n",
    "#     if label == 'DPR':\n",
    "#         xs = [coef[0] for coef in DPR]\n",
    "#         ys = [coef[1] for coef in DPR]\n",
    "#         zs = [coef[2] for coef in DPR]\n",
    "#     elif label == 'HRK':\n",
    "#         xs = [coef[0] for coef in HRK]\n",
    "#         ys = [coef[1] for coef in HRK]\n",
    "#         zs = [coef[2] for coef in HRK]\n",
    "#     else:\n",
    "#         xs = [coef[0] for coef in RMT]\n",
    "#         ys = [coef[1] for coef in RMT]\n",
    "#         zs = [coef[2] for coef in RMT]\n",
    "#     fig.add_trace(go.Scatter3d(x=xs, y=ys, z=zs, mode='markers', marker=dict(size=3, color=color), name=label))\n",
    "\n",
    "# # Obtenir toutes les valeurs de MFCC dans une liste\n",
    "# all_mfcc = [coef for class_data in [DPR, HRK, RMT] for coef in class_data]\n",
    "\n",
    "# # Obtenir les valeurs min et max pour chaque coefficient\n",
    "# min_x = min(coef[0] for coef in all_mfcc)\n",
    "# max_x = max(coef[0] for coef in all_mfcc)\n",
    "\n",
    "# min_y = min(coef[1] for coef in all_mfcc)\n",
    "# max_y = max(coef[1] for coef in all_mfcc)\n",
    "\n",
    "# min_z = min(coef[2] for coef in all_mfcc)\n",
    "# max_z = max(coef[2] for coef in all_mfcc)\n",
    "\n",
    "# fig.update_layout(\n",
    "#     scene=dict(\n",
    "#         xaxis=dict(range=[min_x, max_x]),  # Remplacez par vos valeurs min et max pour l'axe X\n",
    "#         yaxis=dict(range=[min_y, max_y]),  # Remplacez par vos valeurs min et max pour l'axe Y\n",
    "#         zaxis=dict(range=[min_z, max_z])   # Remplacez par vos valeurs min et max pour l'axe Z\n",
    "#     )\n",
    "# )\n",
    "\n",
    "\n",
    "# # Afficher le graphique\n",
    "# fig.show()"
   ]
  }
 ],
 "metadata": {
  "kernelspec": {
   "display_name": ".venv",
   "language": "python",
   "name": "python3"
  },
  "language_info": {
   "codemirror_mode": {
    "name": "ipython",
    "version": 3
   },
   "file_extension": ".py",
   "mimetype": "text/x-python",
   "name": "python",
   "nbconvert_exporter": "python",
   "pygments_lexer": "ipython3",
   "version": "3.11.2"
  }
 },
 "nbformat": 4,
 "nbformat_minor": 2
}
