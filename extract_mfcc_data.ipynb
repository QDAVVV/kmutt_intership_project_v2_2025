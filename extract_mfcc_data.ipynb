{
 "cells": [
  {
   "cell_type": "code",
   "execution_count": 16,
   "metadata": {},
   "outputs": [],
   "source": [
    "import json\n",
    "import os\n",
    "from pathlib import Path\n",
    "import librosa\n",
    "import numpy as np\n",
    "from typing import Dict, List\n",
    "from tqdm import tqdm"
   ]
  },
  {
   "cell_type": "code",
   "execution_count": 17,
   "metadata": {},
   "outputs": [],
   "source": [
    "SAMPLE_RATE = 10000\n",
    "SEGMENT_DURATION = 0.0256  # duration of each segment in seconds\n",
    "OVERLAP_DURATION = 50   # overlap duration in % (0 means no overlap)\n",
    "NUM_MFCC = 16\n",
    "N_FFT = 2 ** int(np.ceil(np.log2(SEGMENT_DURATION * SAMPLE_RATE)))\n",
    "SEGMENT_HOP_LENGTH = int(SAMPLE_RATE * SEGMENT_DURATION * (1 - OVERLAP_DURATION / 100))\n",
    "MFCC_HOP_LENGTH = SEGMENT_HOP_LENGTH\n",
    "\n",
    "CLASSES = [\"RMT\", \"DPR\", \"HRK\"]\n",
    "\n",
    "#FILE_NAME = \"data_25ms_h=0%_16mfcc_\"\n",
    "FILE_NAME = \"data_25ms_h=\" + str(OVERLAP_DURATION) + \"%_16mfcc_\"\n",
    "\n",
    "\n",
    "\n",
    "for classname in CLASSES:\n",
    "    FILE_NAME += classname\n",
    "    if classname != CLASSES[len(CLASSES) - 1]:\n",
    "        FILE_NAME += \"-\""
   ]
  },
  {
   "cell_type": "code",
   "execution_count": 18,
   "metadata": {},
   "outputs": [
    {
     "name": "stdout",
     "output_type": "stream",
     "text": [
      "./data/data_25ms_h=50%_16mfcc_RMT-DPR-HRK.json\n"
     ]
    }
   ],
   "source": [
    "DATASET_PATH = \"./data/original_dataset\"\n",
    "JSON_PATH = \"./data/\" + FILE_NAME + \".json\"\n",
    "\n",
    "print(JSON_PATH)"
   ]
  },
  {
   "cell_type": "code",
   "execution_count": 19,
   "metadata": {},
   "outputs": [
    {
     "name": "stdout",
     "output_type": "stream",
     "text": [
      "n_fft: 256, hop_length: 128\n"
     ]
    }
   ],
   "source": [
    "print(f\"n_fft: {N_FFT}, hop_length: {SEGMENT_HOP_LENGTH}\")"
   ]
  },
  {
   "cell_type": "code",
   "execution_count": 20,
   "metadata": {},
   "outputs": [],
   "source": [
    "def extract_mfcc(file_path: str, num_mfcc: int, n_fft: int, hop_length: int) -> List[List[float]]:\n",
    "    \"\"\"Extract MFCCs from an audio file.\"\"\"\n",
    "    signal, sample_rate = librosa.load(file_path, sr=SAMPLE_RATE)\n",
    "    track_duration = librosa.get_duration(y=signal, sr=SAMPLE_RATE)\n",
    "    samples_per_track = SAMPLE_RATE * track_duration\n",
    "    samples_per_segment = int(SAMPLE_RATE * SEGMENT_DURATION)\n",
    "    num_segments = int((samples_per_track - samples_per_segment) / hop_length) + 1\n",
    "\n",
    "    mfccs = []\n",
    "    for d in range(num_segments):\n",
    "        start = hop_length * d\n",
    "        finish = start + samples_per_segment\n",
    "        if finish > len(signal):\n",
    "            finish = len(signal)\n",
    "        mfcc = librosa.feature.mfcc(y=signal[start:finish], sr=SAMPLE_RATE, n_mfcc=num_mfcc, n_fft=n_fft, hop_length=hop_length, center=False)\n",
    "        mfccs.append(mfcc.T.tolist())\n",
    "    return mfccs"
   ]
  },
  {
   "cell_type": "code",
   "execution_count": null,
   "metadata": {},
   "outputs": [],
   "source": [
    "def save_mfcc(dataset_path: str, json_path: str, selected_classes: List[str], voc_only: bool = True, num_mfcc: int = 16, n_fft: int = 256, hop_length: int = 256) -> None:\n",
    "    \"\"\"Extracts MFCCs from audio dataset and saves them into a json file along with class labels.\"\"\"\n",
    "    data: Dict[str, List] = {\"mapping\": [], \"labels\": [], \"mfcc\": [], \"files\": []}\n",
    "    dataset_path = Path(dataset_path)\n",
    "\n",
    "    # Create a dictionary to map the selected classes to their respective labels\n",
    "    class_to_label = {c: i for i, c in enumerate(selected_classes)}\n",
    "\n",
    "    # Walk through dataset path\n",
    "    for dirpath, _, filenames in os.walk(dataset_path):\n",
    "        if dirpath != str(dataset_path):\n",
    "            semantic_label = Path(dirpath).name\n",
    "            if semantic_label in [\"DPR\", \"HRK\"]:\n",
    "                if \"DPR+HRK\" in selected_classes:\n",
    "                    semantic_label = \"DPR+HRK\"\n",
    "                elif semantic_label not in selected_classes:\n",
    "                    continue\n",
    "            \n",
    "            if semantic_label in selected_classes:\n",
    "                if semantic_label not in data[\"mapping\"]:\n",
    "                    data[\"mapping\"].append(semantic_label)\n",
    "                print(f\"\\nProcessing: {semantic_label}\")\n",
    "\n",
    "                for f in tqdm(filenames, desc=f\"Processing files in {semantic_label}\", leave=False):\n",
    "                    if ('voc' in f) == voc_only:\n",
    "                        file_path = str(Path(dirpath) / f)\n",
    "                        mfccs = extract_mfcc(file_path, num_mfcc, n_fft, hop_length)\n",
    "                        data[\"mfcc\"].extend(mfccs)\n",
    "                        data[\"labels\"].extend([class_to_label[semantic_label]] * len(mfccs))\n",
    "                        data[\"files\"].extend([file_path] * len(mfccs))\n",
    "                        print(f\"{file_path}, segments: {len(mfccs)}\")\n",
    "\n",
    "    with open(json_path, \"w\") as fp:\n",
    "        json.dump(data, fp, indent=4)\n",
    "    \n",
    "    print(\"\\nDONE\")"
   ]
  },
  {
   "cell_type": "code",
   "execution_count": 22,
   "metadata": {},
   "outputs": [
    {
     "name": "stdout",
     "output_type": "stream",
     "text": [
      "\n",
      "Processing: DPR\n"
     ]
    },
    {
     "name": "stderr",
     "output_type": "stream",
     "text": [
      "Processing files in DPR:   8%|▊         | 2/26 [00:35<07:04, 17.68s/it]"
     ]
    },
    {
     "name": "stdout",
     "output_type": "stream",
     "text": [
      "data\\original_dataset\\DPR\\011106nt1_intvoc.wav, segments: 17053\n"
     ]
    },
    {
     "name": "stderr",
     "output_type": "stream",
     "text": [
      "Processing files in DPR:  15%|█▌        | 4/26 [01:20<07:33, 20.61s/it]"
     ]
    },
    {
     "name": "stdout",
     "output_type": "stream",
     "text": [
      "data\\original_dataset\\DPR\\013106ab3_intvoc.wav, segments: 21474\n"
     ]
    },
    {
     "name": "stderr",
     "output_type": "stream",
     "text": [
      "Processing files in DPR:  23%|██▎       | 6/26 [01:55<06:21, 19.07s/it]"
     ]
    },
    {
     "name": "stdout",
     "output_type": "stream",
     "text": [
      "data\\original_dataset\\DPR\\020106nt1_intvoc.wav, segments: 16467\n"
     ]
    },
    {
     "name": "stderr",
     "output_type": "stream",
     "text": [
      "Processing files in DPR:  31%|███       | 8/26 [02:25<05:16, 17.57s/it]"
     ]
    },
    {
     "name": "stdout",
     "output_type": "stream",
     "text": [
      "data\\original_dataset\\DPR\\021605nt3_intvoc.wav, segments: 14458\n"
     ]
    },
    {
     "name": "stderr",
     "output_type": "stream",
     "text": [
      "Processing files in DPR:  38%|███▊      | 10/26 [03:07<05:01, 18.85s/it]"
     ]
    },
    {
     "name": "stdout",
     "output_type": "stream",
     "text": [
      "data\\original_dataset\\DPR\\022505nt1_intvoc.wav, segments: 20377\n"
     ]
    },
    {
     "name": "stderr",
     "output_type": "stream",
     "text": [
      "Processing files in DPR:  46%|████▌     | 12/26 [03:18<03:18, 14.18s/it]"
     ]
    },
    {
     "name": "stdout",
     "output_type": "stream",
     "text": [
      "data\\original_dataset\\DPR\\040505nt2_intvoc.wav, segments: 4631\n"
     ]
    },
    {
     "name": "stderr",
     "output_type": "stream",
     "text": [
      "Processing files in DPR:  54%|█████▍    | 14/26 [03:36<02:29, 12.48s/it]"
     ]
    },
    {
     "name": "stdout",
     "output_type": "stream",
     "text": [
      "data\\original_dataset\\DPR\\051105nt1_intvoc.wav, segments: 8602\n"
     ]
    },
    {
     "name": "stderr",
     "output_type": "stream",
     "text": [
      "Processing files in DPR:  62%|██████▏   | 16/26 [04:19<02:34, 15.47s/it]"
     ]
    },
    {
     "name": "stdout",
     "output_type": "stream",
     "text": [
      "data\\original_dataset\\DPR\\061405nt1_intvoc.wav, segments: 20163\n"
     ]
    },
    {
     "name": "stderr",
     "output_type": "stream",
     "text": [
      "Processing files in DPR:  69%|██████▉   | 18/26 [04:25<01:32, 11.51s/it]"
     ]
    },
    {
     "name": "stdout",
     "output_type": "stream",
     "text": [
      "data\\original_dataset\\DPR\\072604nt1_intvoc.wav, segments: 2561\n"
     ]
    },
    {
     "name": "stderr",
     "output_type": "stream",
     "text": [
      "Processing files in DPR:  77%|███████▋  | 20/26 [05:01<01:21, 13.52s/it]"
     ]
    },
    {
     "name": "stdout",
     "output_type": "stream",
     "text": [
      "data\\original_dataset\\DPR\\090105nt1_intvoc.wav, segments: 17063\n"
     ]
    },
    {
     "name": "stderr",
     "output_type": "stream",
     "text": [
      "Processing files in DPR:  85%|████████▍ | 22/26 [05:04<00:39,  9.90s/it]"
     ]
    },
    {
     "name": "stdout",
     "output_type": "stream",
     "text": [
      "data\\original_dataset\\DPR\\092503hnf_intvoc.wav, segments: 1522\n"
     ]
    },
    {
     "name": "stderr",
     "output_type": "stream",
     "text": [
      "Processing files in DPR:  92%|█████████▏| 24/26 [05:44<00:25, 12.95s/it]"
     ]
    },
    {
     "name": "stdout",
     "output_type": "stream",
     "text": [
      "data\\original_dataset\\DPR\\101805ab1_intvoc.wav, segments: 18391\n"
     ]
    },
    {
     "name": "stderr",
     "output_type": "stream",
     "text": [
      "                                                                        \r"
     ]
    },
    {
     "name": "stdout",
     "output_type": "stream",
     "text": [
      "data\\original_dataset\\DPR\\110403hnf_intvoc.wav, segments: 11442\n",
      "\n",
      "Processing: HRK\n"
     ]
    },
    {
     "name": "stderr",
     "output_type": "stream",
     "text": [
      "Processing files in HRK:  10%|█         | 2/20 [00:29<04:28, 14.91s/it]"
     ]
    },
    {
     "name": "stdout",
     "output_type": "stream",
     "text": [
      "data\\original_dataset\\HRK\\020806nt1_intvoc.wav, segments: 14159\n"
     ]
    },
    {
     "name": "stderr",
     "output_type": "stream",
     "text": [
      "Processing files in HRK:  20%|██        | 4/20 [00:52<03:23, 12.75s/it]"
     ]
    },
    {
     "name": "stdout",
     "output_type": "stream",
     "text": [
      "data\\original_dataset\\HRK\\030905nt2_intvoc.wav, segments: 10522\n"
     ]
    },
    {
     "name": "stderr",
     "output_type": "stream",
     "text": [
      "Processing files in HRK:  30%|███       | 6/20 [01:19<03:03, 13.14s/it]"
     ]
    },
    {
     "name": "stdout",
     "output_type": "stream",
     "text": [
      "data\\original_dataset\\HRK\\032405nt2_intvoc.wav, segments: 12980\n"
     ]
    },
    {
     "name": "stderr",
     "output_type": "stream",
     "text": [
      "Processing files in HRK:  40%|████      | 8/20 [02:32<04:27, 22.32s/it]"
     ]
    },
    {
     "name": "stdout",
     "output_type": "stream",
     "text": [
      "data\\original_dataset\\HRK\\051105nt3_intvoc.wav, segments: 32642\n"
     ]
    },
    {
     "name": "stderr",
     "output_type": "stream",
     "text": [
      "Processing files in HRK:  50%|█████     | 10/20 [03:38<04:21, 26.16s/it]"
     ]
    },
    {
     "name": "stdout",
     "output_type": "stream",
     "text": [
      "data\\original_dataset\\HRK\\072604nt2_intvoc.wav, segments: 31341\n"
     ]
    },
    {
     "name": "stderr",
     "output_type": "stream",
     "text": [
      "Processing files in HRK:  60%|██████    | 12/20 [04:37<03:38, 27.32s/it]"
     ]
    },
    {
     "name": "stdout",
     "output_type": "stream",
     "text": [
      "data\\original_dataset\\HRK\\080304nt2_intvoc.wav, segments: 28274\n"
     ]
    },
    {
     "name": "stderr",
     "output_type": "stream",
     "text": [
      "Processing files in HRK:  70%|███████   | 14/20 [05:16<02:28, 24.76s/it]"
     ]
    },
    {
     "name": "stdout",
     "output_type": "stream",
     "text": [
      "data\\original_dataset\\HRK\\081204nt1_intvoc.wav, segments: 18697\n"
     ]
    },
    {
     "name": "stderr",
     "output_type": "stream",
     "text": [
      "Processing files in HRK:  80%|████████  | 16/20 [06:58<02:12, 33.18s/it]"
     ]
    },
    {
     "name": "stdout",
     "output_type": "stream",
     "text": [
      "data\\original_dataset\\HRK\\083004nt1_intvoc.wav, segments: 49102\n"
     ]
    },
    {
     "name": "stderr",
     "output_type": "stream",
     "text": [
      "Processing files in HRK:  90%|█████████ | 18/20 [07:01<00:46, 23.28s/it]"
     ]
    },
    {
     "name": "stdout",
     "output_type": "stream",
     "text": [
      "data\\original_dataset\\HRK\\091704nt1_intvoc.wav, segments: 1324\n"
     ]
    },
    {
     "name": "stderr",
     "output_type": "stream",
     "text": [
      "                                                                        \r"
     ]
    },
    {
     "name": "stdout",
     "output_type": "stream",
     "text": [
      "data\\original_dataset\\HRK\\103105nt2_intvoc.wav, segments: 24416\n",
      "\n",
      "Processing: RMT\n"
     ]
    },
    {
     "name": "stderr",
     "output_type": "stream",
     "text": [
      "Processing files in RMT:  10%|█         | 2/20 [00:26<04:01, 13.42s/it]"
     ]
    },
    {
     "name": "stdout",
     "output_type": "stream",
     "text": [
      "data\\original_dataset\\RMT\\010506nt1_intvoc.wav, segments: 12831\n"
     ]
    },
    {
     "name": "stderr",
     "output_type": "stream",
     "text": [
      "Processing files in RMT:  20%|██        | 4/20 [01:03<04:18, 16.18s/it]"
     ]
    },
    {
     "name": "stdout",
     "output_type": "stream",
     "text": [
      "data\\original_dataset\\RMT\\011706nt1_intvoc.wav, segments: 17434\n"
     ]
    },
    {
     "name": "stderr",
     "output_type": "stream",
     "text": [
      "Processing files in RMT:  30%|███       | 6/20 [01:49<04:30, 19.35s/it]"
     ]
    },
    {
     "name": "stdout",
     "output_type": "stream",
     "text": [
      "data\\original_dataset\\RMT\\021406nt2_intvoc.wav, segments: 21802\n"
     ]
    },
    {
     "name": "stderr",
     "output_type": "stream",
     "text": [
      "Processing files in RMT:  40%|████      | 8/20 [02:49<04:42, 23.52s/it]"
     ]
    },
    {
     "name": "stdout",
     "output_type": "stream",
     "text": [
      "data\\original_dataset\\RMT\\070805nt1_intvoc.wav, segments: 28563\n"
     ]
    },
    {
     "name": "stderr",
     "output_type": "stream",
     "text": [
      "Processing files in RMT:  50%|█████     | 10/20 [03:17<03:20, 20.09s/it]"
     ]
    },
    {
     "name": "stdout",
     "output_type": "stream",
     "text": [
      "data\\original_dataset\\RMT\\091305nt1_intvoc.wav, segments: 13541\n"
     ]
    },
    {
     "name": "stderr",
     "output_type": "stream",
     "text": [
      "Processing files in RMT:  60%|██████    | 12/20 [03:49<02:29, 18.69s/it]"
     ]
    },
    {
     "name": "stdout",
     "output_type": "stream",
     "text": [
      "data\\original_dataset\\RMT\\092005nt1_intvoc.wav, segments: 15133\n"
     ]
    },
    {
     "name": "stderr",
     "output_type": "stream",
     "text": [
      "Processing files in RMT:  70%|███████   | 14/20 [03:57<01:23, 13.91s/it]"
     ]
    },
    {
     "name": "stdout",
     "output_type": "stream",
     "text": [
      "data\\original_dataset\\RMT\\092403rms_intvoc.wav, segments: 3709\n"
     ]
    },
    {
     "name": "stderr",
     "output_type": "stream",
     "text": [
      "Processing files in RMT:  80%|████████  | 16/20 [03:58<00:38,  9.68s/it]"
     ]
    },
    {
     "name": "stdout",
     "output_type": "stream",
     "text": [
      "data\\original_dataset\\RMT\\100803hnf_intvoc.wav, segments: 567\n"
     ]
    },
    {
     "name": "stderr",
     "output_type": "stream",
     "text": [
      "Processing files in RMT:  90%|█████████ | 18/20 [04:05<00:15,  7.83s/it]"
     ]
    },
    {
     "name": "stdout",
     "output_type": "stream",
     "text": [
      "data\\original_dataset\\RMT\\100903hnf_intvoc.wav, segments: 3431\n"
     ]
    },
    {
     "name": "stderr",
     "output_type": "stream",
     "text": [
      "                                                                        "
     ]
    },
    {
     "name": "stdout",
     "output_type": "stream",
     "text": [
      "data\\original_dataset\\RMT\\121803hnf_intvoc.wav, segments: 45449\n"
     ]
    },
    {
     "name": "stderr",
     "output_type": "stream",
     "text": [
      "\r"
     ]
    },
    {
     "name": "stdout",
     "output_type": "stream",
     "text": [
      "\n",
      "DONE\n"
     ]
    }
   ],
   "source": [
    "save_mfcc(DATASET_PATH, JSON_PATH, selected_classes=CLASSES, voc_only=True, num_mfcc=NUM_MFCC, n_fft=N_FFT, hop_length=SEGMENT_HOP_LENGTH)"
   ]
  }
 ],
 "metadata": {
  "kernelspec": {
   "display_name": ".venv",
   "language": "python",
   "name": "python3"
  },
  "language_info": {
   "codemirror_mode": {
    "name": "ipython",
    "version": 3
   },
   "file_extension": ".py",
   "mimetype": "text/x-python",
   "name": "python",
   "nbconvert_exporter": "python",
   "pygments_lexer": "ipython3",
   "version": "3.11.9"
  }
 },
 "nbformat": 4,
 "nbformat_minor": 2
}
