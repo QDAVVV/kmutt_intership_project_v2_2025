{
 "cells": [
  {
   "cell_type": "code",
   "execution_count": 1,
   "metadata": {},
   "outputs": [],
   "source": [
    "import json\n",
    "import os\n",
    "from pathlib import Path\n",
    "import librosa\n",
    "import numpy as np\n",
    "from typing import Dict, List\n",
    "from tqdm import tqdm"
   ]
  },
  {
   "cell_type": "code",
   "execution_count": 2,
   "metadata": {},
   "outputs": [],
   "source": [
    "SAMPLE_RATE = 10000\n",
    "SEGMENT_DURATION = 0.0256  # duration of each segment in seconds\n",
    "OVERLAP_DURATION = 50   # overlap duration in % (0 means no overlap)\n",
    "NUM_MFCC = 16\n",
    "N_FFT = 2 ** int(np.ceil(np.log2(SEGMENT_DURATION * SAMPLE_RATE)))\n",
    "SEGMENT_HOP_LENGTH = int(SAMPLE_RATE * SEGMENT_DURATION * (1 - OVERLAP_DURATION / 100))\n",
    "MFCC_HOP_LENGTH = SEGMENT_HOP_LENGTH\n",
    "\n",
    "CLASSES = [\"RMT\", \"DPR\", \"HRK\"]\n",
    "\n",
    "#FILE_NAME = \"data_25ms_h=0%_16mfcc_\"\n",
    "FILE_NAME = \"data_25ms_h=\" + str(OVERLAP_DURATION) + \"%_16mfcc_\"\n",
    "\n",
    "\n",
    "\n",
    "for classname in CLASSES:\n",
    "    FILE_NAME += classname\n",
    "    if classname != CLASSES[len(CLASSES) - 1]:\n",
    "        FILE_NAME += \"-\""
   ]
  },
  {
   "cell_type": "code",
   "execution_count": 3,
   "metadata": {},
   "outputs": [
    {
     "name": "stdout",
     "output_type": "stream",
     "text": [
      "./data/data_25ms_h=50%_16mfcc_RMT-DPR-HRK.json\n"
     ]
    }
   ],
   "source": [
    "DATASET_PATH = \"./data/original_dataset\"\n",
    "JSON_PATH = \"./data/\" + FILE_NAME + \".json\"\n",
    "\n",
    "print(JSON_PATH)"
   ]
  },
  {
   "cell_type": "code",
   "execution_count": 4,
   "metadata": {},
   "outputs": [
    {
     "name": "stdout",
     "output_type": "stream",
     "text": [
      "n_fft: 256, hop_length: 128\n"
     ]
    }
   ],
   "source": [
    "print(f\"n_fft: {N_FFT}, hop_length: {SEGMENT_HOP_LENGTH}\")"
   ]
  },
  {
   "cell_type": "code",
   "execution_count": 5,
   "metadata": {},
   "outputs": [],
   "source": [
    "def extract_mfcc(file_path: str, num_mfcc: int, n_fft: int, hop_length: int) -> List[List[float]]:\n",
    "    \"\"\"Extract MFCCs from an audio file.\"\"\"\n",
    "    signal, sample_rate = librosa.load(file_path, sr=SAMPLE_RATE)\n",
    "    track_duration = librosa.get_duration(y=signal, sr=SAMPLE_RATE)\n",
    "    samples_per_track = SAMPLE_RATE * track_duration\n",
    "    samples_per_segment = int(SAMPLE_RATE * SEGMENT_DURATION)\n",
    "    num_segments = int((samples_per_track - samples_per_segment) / hop_length) + 1\n",
    "\n",
    "    mfccs = []\n",
    "    for d in range(num_segments):\n",
    "        start = hop_length * d\n",
    "        finish = start + samples_per_segment\n",
    "        if finish > len(signal):\n",
    "            finish = len(signal)\n",
    "        mfcc = librosa.feature.mfcc(y=signal[start:finish], sr=SAMPLE_RATE, n_mfcc=num_mfcc, n_fft=n_fft, hop_length=hop_length, center=False)\n",
    "        mfccs.append(mfcc.T.tolist())\n",
    "    return mfccs"
   ]
  },
  {
   "cell_type": "code",
   "execution_count": 6,
   "metadata": {},
   "outputs": [],
   "source": [
    "def calculate_delta(mfcc_a: list, mfcc_b: list):\n",
    "    # print(\"mfcc a shape : {mfcc_a.shape} \\nmfcc b shape : {mfcc_b.shape} \\n-----------\")\n",
    "    newdelta = []\n",
    "    for i in range(len(mfcc_b)):\n",
    "        if(type(mfcc_b[i]) == float and type(mfcc_a[i]) == float):\n",
    "\n",
    "            # print(mfcc_b[i])\n",
    "            \n",
    "            newdelta[i].append(mfcc_b[i]- mfcc_a[i])\n",
    "        else:\n",
    "            \n",
    "            newdelta.append(mfcc_b[0][i] - mfcc_a[0][i]) #added a 0 index because of the MFCC formating\n",
    "    return newdelta"
   ]
  },
  {
   "cell_type": "code",
   "execution_count": 7,
   "metadata": {},
   "outputs": [],
   "source": [
    "def calculate_deltas(mfccs: list):\n",
    "    deltamfccs = [len(mfccs)][1][16]\n",
    "\n",
    "\n",
    "    print(np.asarray(mfccs[0]).shape)\n",
    "    print(len(mfccs[0]))\n",
    "    print(len(mfccs[0][0]))\n",
    "\n",
    "    print(mfccs[0][0])\n",
    "\n",
    "    deltamfccs[0][0] = calculate_delta(mfccs[0][0], mfccs[1][0])\n",
    "\n",
    "    for ind_mfcc in enumerate(mfccs[1:-1][0]) :\n",
    "        adjusted_ind_mfcc = ind_mfcc[0] + 1\n",
    "        #need to exclude first and (second to) last index positions => done with the ...[1:-1]\n",
    "        deltamfccs[adjusted_ind_mfcc][0] = calculate_delta(mfccs[adjusted_ind_mfcc + 1], mfccs[adjusted_ind_mfcc - 1])\n",
    "    \n",
    "    deltamfccs[-1][0] = calculate_delta(mfccs[-2], mfccs[-1])\n",
    "    \n",
    "    return deltamfccs"
   ]
  },
  {
   "cell_type": "code",
   "execution_count": 8,
   "metadata": {},
   "outputs": [],
   "source": [
    "def save_mfcc(dataset_path: str, json_path: str, selected_classes: List[str], voc_only: bool = True, num_mfcc: int = 16, n_fft: int = 256, hop_length: int = 256) -> None:\n",
    "    \"\"\"Extracts MFCCs from audio dataset and saves them into a json file along with class labels.\"\"\"\n",
    "    data: Dict[str, List] = {\"mapping\": [], \"labels\": [], \"mfcc\": [], \"deltamfcc\": [], \"deltadeltamfcc\": [], \"files\": []}\n",
    "    dataset_path = Path(dataset_path)\n",
    "\n",
    "    # Create a dictionary to map the selected classes to their respective labels\n",
    "    class_to_label = {c: i for i, c in enumerate(selected_classes)}\n",
    "\n",
    "    # Walk through dataset path\n",
    "    for dirpath, _, filenames in os.walk(dataset_path):\n",
    "        if dirpath != str(dataset_path):\n",
    "            semantic_label = Path(dirpath).name\n",
    "            if semantic_label in [\"DPR\", \"HRK\"]:\n",
    "                if \"DPR+HRK\" in selected_classes:\n",
    "                    semantic_label = \"DPR+HRK\"\n",
    "                elif semantic_label not in selected_classes:\n",
    "                    continue\n",
    "            \n",
    "            if semantic_label in selected_classes:\n",
    "                if semantic_label not in data[\"mapping\"]:\n",
    "                    data[\"mapping\"].append(semantic_label)\n",
    "                print(f\"\\nProcessing: {semantic_label}\")\n",
    "\n",
    "                for f in tqdm(filenames, desc=f\"Processing files in {semantic_label}\", leave=False):\n",
    "                    if ('voc' in f) == voc_only:\n",
    "                        file_path = str(Path(dirpath) / f)\n",
    "                        mfccs = extract_mfcc(file_path, num_mfcc, n_fft, hop_length)\n",
    "                        # deltamfccs  = calculate_deltas(mfccs)\n",
    "                        # deltadeltamfccs = calculate_deltas(deltamfccs)\n",
    "                        data[\"mfcc\"].extend(mfccs)\n",
    "                        # data[\"deltamfcc\"].extend(deltamfccs)\n",
    "                        # data[\"deltadeltamfcc\"].extend(deltadeltamfccs)\n",
    "                        data[\"labels\"].extend([class_to_label[semantic_label]] * len(mfccs))\n",
    "                        data[\"files\"].extend([file_path] * len(mfccs))\n",
    "                        print(f\"{file_path}, segments: {len(mfccs)}\")\n",
    "\n",
    "    with open(json_path, \"w\") as fp:\n",
    "        json.dump(data, fp, indent=4)\n",
    "    \n",
    "    print(\"\\nDONE\")"
   ]
  },
  {
   "cell_type": "markdown",
   "metadata": {},
   "source": [
    "maybe what i can do is concatenating mfcc, delta mfcc and delta delta mfcc informations to be able to use the cnn2D"
   ]
  },
  {
   "cell_type": "code",
   "execution_count": null,
   "metadata": {},
   "outputs": [
    {
     "name": "stdout",
     "output_type": "stream",
     "text": [
      "\n",
      "Processing: DPR\n"
     ]
    },
    {
     "name": "stderr",
     "output_type": "stream",
     "text": [
      "Processing files in DPR:   0%|          | 0/26 [00:00<?, ?it/s]"
     ]
    },
    {
     "name": "stderr",
     "output_type": "stream",
     "text": [
      "Processing files in DPR:   8%|▊         | 2/26 [00:48<09:36, 24.02s/it]"
     ]
    },
    {
     "name": "stdout",
     "output_type": "stream",
     "text": [
      "data\\original_dataset\\DPR\\011106nt1_intvoc.wav, segments: 17053\n"
     ]
    },
    {
     "name": "stderr",
     "output_type": "stream",
     "text": [
      "Processing files in DPR:  15%|█▌        | 4/26 [01:34<08:39, 23.60s/it]"
     ]
    },
    {
     "name": "stdout",
     "output_type": "stream",
     "text": [
      "data\\original_dataset\\DPR\\013106ab3_intvoc.wav, segments: 21474\n"
     ]
    },
    {
     "name": "stderr",
     "output_type": "stream",
     "text": [
      "Processing files in DPR:  23%|██▎       | 6/26 [02:10<07:00, 21.05s/it]"
     ]
    },
    {
     "name": "stdout",
     "output_type": "stream",
     "text": [
      "data\\original_dataset\\DPR\\020106nt1_intvoc.wav, segments: 16467\n"
     ]
    },
    {
     "name": "stderr",
     "output_type": "stream",
     "text": [
      "Processing files in DPR:  31%|███       | 8/26 [02:42<05:42, 19.03s/it]"
     ]
    },
    {
     "name": "stdout",
     "output_type": "stream",
     "text": [
      "data\\original_dataset\\DPR\\021605nt3_intvoc.wav, segments: 14458\n"
     ]
    },
    {
     "name": "stderr",
     "output_type": "stream",
     "text": [
      "Processing files in DPR:  38%|███▊      | 10/26 [03:26<05:20, 20.04s/it]"
     ]
    },
    {
     "name": "stdout",
     "output_type": "stream",
     "text": [
      "data\\original_dataset\\DPR\\022505nt1_intvoc.wav, segments: 20377\n"
     ]
    },
    {
     "name": "stderr",
     "output_type": "stream",
     "text": [
      "Processing files in DPR:  46%|████▌     | 12/26 [03:36<03:29, 14.98s/it]"
     ]
    },
    {
     "name": "stdout",
     "output_type": "stream",
     "text": [
      "data\\original_dataset\\DPR\\040505nt2_intvoc.wav, segments: 4631\n"
     ]
    },
    {
     "name": "stderr",
     "output_type": "stream",
     "text": [
      "Processing files in DPR:  54%|█████▍    | 14/26 [03:57<02:42, 13.51s/it]"
     ]
    },
    {
     "name": "stdout",
     "output_type": "stream",
     "text": [
      "data\\original_dataset\\DPR\\051105nt1_intvoc.wav, segments: 8602\n"
     ]
    }
   ],
   "source": [
    "save_mfcc(DATASET_PATH, JSON_PATH, selected_classes=CLASSES, voc_only=True, num_mfcc=NUM_MFCC, n_fft=N_FFT, hop_length=SEGMENT_HOP_LENGTH)"
   ]
  }
 ],
 "metadata": {
  "kernelspec": {
   "display_name": ".venv (3.11.9)",
   "language": "python",
   "name": "python3"
  },
  "language_info": {
   "codemirror_mode": {
    "name": "ipython",
    "version": 3
   },
   "file_extension": ".py",
   "mimetype": "text/x-python",
   "name": "python",
   "nbconvert_exporter": "python",
   "pygments_lexer": "ipython3",
   "version": "3.11.9"
  }
 },
 "nbformat": 4,
 "nbformat_minor": 2
}
