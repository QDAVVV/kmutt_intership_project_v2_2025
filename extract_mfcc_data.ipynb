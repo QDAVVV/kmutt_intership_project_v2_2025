{
 "cells": [
  {
   "cell_type": "code",
   "execution_count": 1,
   "metadata": {},
   "outputs": [],
   "source": [
    "import json\n",
    "import os\n",
    "from pathlib import Path\n",
    "import librosa\n",
    "import numpy as np\n",
    "from typing import Dict, List\n",
    "from tqdm import tqdm"
   ]
  },
  {
   "cell_type": "code",
   "execution_count": 2,
   "metadata": {},
   "outputs": [],
   "source": [
    "FILE_NAME = \"data_25ms_h=0%_16mfcc_RMT-HRK\"\n",
    "CLASSES = [\"RMT\", \"HRK\"]\n",
    "\n",
    "SAMPLE_RATE = 10000\n",
    "SEGMENT_DURATION = 0.0256  # duration of each segment in seconds\n",
    "OVERLAP_DURATION = 0   # overlap duration in % (0 means no overlap)\n",
    "NUM_MFCC = 16\n",
    "N_FFT = 2 ** int(np.ceil(np.log2(SEGMENT_DURATION * SAMPLE_RATE)))\n",
    "SEGMENT_HOP_LENGTH = int(SAMPLE_RATE * SEGMENT_DURATION * (1 - OVERLAP_DURATION / 100))\n",
    "MFCC_HOP_LENGTH = SEGMENT_HOP_LENGTH"
   ]
  },
  {
   "cell_type": "code",
   "execution_count": 3,
   "metadata": {},
   "outputs": [],
   "source": [
    "DATASET_PATH = \"./data/original_dataset\"\n",
    "JSON_PATH = \"./data/\" + FILE_NAME + \".json\""
   ]
  },
  {
   "cell_type": "code",
   "execution_count": 4,
   "metadata": {},
   "outputs": [
    {
     "name": "stdout",
     "output_type": "stream",
     "text": [
      "n_fft: 256, hop_length: 256\n"
     ]
    }
   ],
   "source": [
    "print(f\"n_fft: {N_FFT}, hop_length: {SEGMENT_HOP_LENGTH}\")"
   ]
  },
  {
   "cell_type": "code",
   "execution_count": 5,
   "metadata": {},
   "outputs": [],
   "source": [
    "def extract_mfcc(file_path: str, num_mfcc: int, n_fft: int, hop_length: int) -> List[List[float]]:\n",
    "    \"\"\"Extract MFCCs from an audio file.\"\"\"\n",
    "    signal, sample_rate = librosa.load(file_path, sr=SAMPLE_RATE)\n",
    "    track_duration = librosa.get_duration(y=signal, sr=SAMPLE_RATE)\n",
    "    samples_per_track = SAMPLE_RATE * track_duration\n",
    "    samples_per_segment = int(SAMPLE_RATE * SEGMENT_DURATION)\n",
    "    num_segments = int((samples_per_track - samples_per_segment) / hop_length) + 1\n",
    "\n",
    "    mfccs = []\n",
    "    for d in range(num_segments):\n",
    "        start = hop_length * d\n",
    "        finish = start + samples_per_segment\n",
    "        if finish > len(signal):\n",
    "            finish = len(signal)\n",
    "        mfcc = librosa.feature.mfcc(y=signal[start:finish], sr=SAMPLE_RATE, n_mfcc=num_mfcc, n_fft=n_fft, hop_length=hop_length, center=False)\n",
    "        mfccs.append(mfcc.T.tolist())\n",
    "    return mfccs"
   ]
  },
  {
   "cell_type": "code",
   "execution_count": 6,
   "metadata": {},
   "outputs": [],
   "source": [
    "def save_mfcc(dataset_path: str, json_path: str, selected_classes: List[str], voc_only: bool = True, num_mfcc: int = 16, n_fft: int = 256, hop_length: int = 256) -> None:\n",
    "    \"\"\"Extracts MFCCs from audio dataset and saves them into a json file along with class labels.\"\"\"\n",
    "    data: Dict[str, List] = {\"mapping\": [], \"labels\": [], \"mfcc\": [], \"files\": []}\n",
    "    dataset_path = Path(dataset_path)\n",
    "\n",
    "    # Create a dictionary to map the selected classes to their respective labels\n",
    "    class_to_label = {c: i for i, c in enumerate(selected_classes)}\n",
    "\n",
    "    # Walk through dataset path\n",
    "    for dirpath, _, filenames in os.walk(dataset_path):\n",
    "        if dirpath != str(dataset_path):\n",
    "            semantic_label = Path(dirpath).name\n",
    "            if semantic_label in [\"DPR\", \"HRK\"]:\n",
    "                if \"DPR+HRK\" in selected_classes:\n",
    "                    semantic_label = \"DPR+HRK\"\n",
    "                elif semantic_label not in selected_classes:\n",
    "                    continue\n",
    "            \n",
    "            if semantic_label in selected_classes:\n",
    "                if semantic_label not in data[\"mapping\"]:\n",
    "                    data[\"mapping\"].append(semantic_label)\n",
    "                print(f\"\\nProcessing: {semantic_label}\")\n",
    "\n",
    "                for f in tqdm(filenames, desc=f\"Processing files in {semantic_label}\", leave=False):\n",
    "                    if ('voc' in f) == voc_only:\n",
    "                        file_path = str(Path(dirpath) / f)\n",
    "                        mfccs = extract_mfcc(file_path, num_mfcc, n_fft, hop_length)\n",
    "                        data[\"mfcc\"].extend(mfccs)\n",
    "                        data[\"labels\"].extend([class_to_label[semantic_label]] * len(mfccs))\n",
    "                        data[\"files\"].extend([file_path] * len(mfccs))\n",
    "                        print(f\"{file_path}, segments: {len(mfccs)}\")\n",
    "\n",
    "    with open(json_path, \"w\") as fp:\n",
    "        json.dump(data, fp, indent=4)\n",
    "    \n",
    "    print(\"\\nDONE\")"
   ]
  },
  {
   "cell_type": "code",
   "execution_count": 7,
   "metadata": {},
   "outputs": [
    {
     "name": "stdout",
     "output_type": "stream",
     "text": [
      "\n",
      "Processing: HRK\n"
     ]
    },
    {
     "name": "stderr",
     "output_type": "stream",
     "text": [
      "Processing files in HRK:   0%|          | 0/20 [00:00<?, ?it/s]"
     ]
    },
    {
     "name": "stderr",
     "output_type": "stream",
     "text": [
      "Processing files in HRK:  15%|█▌        | 3/20 [01:41<09:36, 33.93s/it]"
     ]
    },
    {
     "name": "stdout",
     "output_type": "stream",
     "text": [
      "data/original_dataset/HRK/020806nt1_intvoc.wav, segments: 7080\n"
     ]
    },
    {
     "name": "stderr",
     "output_type": "stream",
     "text": [
      "Processing files in HRK:  25%|██▌       | 5/20 [05:17<17:29, 70.00s/it]"
     ]
    },
    {
     "name": "stdout",
     "output_type": "stream",
     "text": [
      "data/original_dataset/HRK/083004nt1_intvoc.wav, segments: 24551\n"
     ]
    },
    {
     "name": "stderr",
     "output_type": "stream",
     "text": [
      "Processing files in HRK:  35%|███▌      | 7/20 [07:54<15:53, 73.38s/it]"
     ]
    },
    {
     "name": "stdout",
     "output_type": "stream",
     "text": [
      "data/original_dataset/HRK/080304nt2_intvoc.wav, segments: 14137\n"
     ]
    },
    {
     "name": "stderr",
     "output_type": "stream",
     "text": [
      "Processing files in HRK:  45%|████▌     | 9/20 [08:53<10:30, 57.27s/it]"
     ]
    },
    {
     "name": "stdout",
     "output_type": "stream",
     "text": [
      "data/original_dataset/HRK/030905nt2_intvoc.wav, segments: 5261\n"
     ]
    },
    {
     "name": "stderr",
     "output_type": "stream",
     "text": [
      "Processing files in HRK:  50%|█████     | 10/20 [10:56<11:49, 71.00s/it]"
     ]
    },
    {
     "name": "stdout",
     "output_type": "stream",
     "text": [
      "data/original_dataset/HRK/103105nt2_intvoc.wav, segments: 12208\n"
     ]
    },
    {
     "name": "stderr",
     "output_type": "stream",
     "text": [
      "Processing files in HRK:  65%|██████▌   | 13/20 [11:02<04:28, 38.35s/it]"
     ]
    },
    {
     "name": "stdout",
     "output_type": "stream",
     "text": [
      "data/original_dataset/HRK/091704nt1_intvoc.wav, segments: 662\n"
     ]
    },
    {
     "name": "stderr",
     "output_type": "stream",
     "text": [
      "Processing files in HRK:  80%|████████  | 16/20 [12:02<02:03, 30.95s/it]"
     ]
    },
    {
     "name": "stdout",
     "output_type": "stream",
     "text": [
      "data/original_dataset/HRK/032405nt2_intvoc.wav, segments: 6490\n"
     ]
    },
    {
     "name": "stderr",
     "output_type": "stream",
     "text": [
      "Processing files in HRK:  85%|████████▌ | 17/20 [16:35<03:29, 69.94s/it]"
     ]
    },
    {
     "name": "stdout",
     "output_type": "stream",
     "text": [
      "data/original_dataset/HRK/051105nt3_intvoc.wav, segments: 16321\n"
     ]
    },
    {
     "name": "stderr",
     "output_type": "stream",
     "text": [
      "Processing files in HRK:  95%|█████████▌| 19/20 [18:13<01:03, 63.40s/it]"
     ]
    },
    {
     "name": "stdout",
     "output_type": "stream",
     "text": [
      "data/original_dataset/HRK/081204nt1_intvoc.wav, segments: 9349\n"
     ]
    },
    {
     "name": "stderr",
     "output_type": "stream",
     "text": [
      "                                                                        \r"
     ]
    },
    {
     "name": "stdout",
     "output_type": "stream",
     "text": [
      "data/original_dataset/HRK/072604nt2_intvoc.wav, segments: 15671\n",
      "\n",
      "Processing: RMT\n"
     ]
    },
    {
     "name": "stderr",
     "output_type": "stream",
     "text": [
      "Processing files in RMT:  20%|██        | 4/20 [01:08<04:33, 17.09s/it]"
     ]
    },
    {
     "name": "stdout",
     "output_type": "stream",
     "text": [
      "data/original_dataset/RMT/091305nt1_intvoc.wav, segments: 6771\n"
     ]
    },
    {
     "name": "stderr",
     "output_type": "stream",
     "text": [
      "Processing files in RMT:  25%|██▌       | 5/20 [02:23<08:05, 32.37s/it]"
     ]
    },
    {
     "name": "stdout",
     "output_type": "stream",
     "text": [
      "data/original_dataset/RMT/092005nt1_intvoc.wav, segments: 7567\n"
     ]
    },
    {
     "name": "stderr",
     "output_type": "stream",
     "text": [
      "Processing files in RMT:  40%|████      | 8/20 [04:23<07:16, 36.36s/it]"
     ]
    },
    {
     "name": "stdout",
     "output_type": "stream",
     "text": [
      "data/original_dataset/RMT/070805nt1_intvoc.wav, segments: 14282\n"
     ]
    },
    {
     "name": "stderr",
     "output_type": "stream",
     "text": [
      "Processing files in RMT:  50%|█████     | 10/20 [04:25<04:05, 24.55s/it]"
     ]
    },
    {
     "name": "stdout",
     "output_type": "stream",
     "text": [
      "data/original_dataset/RMT/100803hnf_intvoc.wav, segments: 284\n"
     ]
    },
    {
     "name": "stderr",
     "output_type": "stream",
     "text": [
      "Processing files in RMT:  55%|█████▌    | 11/20 [07:27<08:14, 54.98s/it]"
     ]
    },
    {
     "name": "stdout",
     "output_type": "stream",
     "text": [
      "data/original_dataset/RMT/121803hnf_intvoc.wav, segments: 22725\n"
     ]
    },
    {
     "name": "stderr",
     "output_type": "stream",
     "text": [
      "Processing files in RMT:  60%|██████    | 12/20 [07:43<06:12, 46.56s/it]"
     ]
    },
    {
     "name": "stdout",
     "output_type": "stream",
     "text": [
      "data/original_dataset/RMT/092403rms_intvoc.wav, segments: 1855\n"
     ]
    },
    {
     "name": "stderr",
     "output_type": "stream",
     "text": [
      "Processing files in RMT:  65%|██████▌   | 13/20 [08:45<05:50, 50.09s/it]"
     ]
    },
    {
     "name": "stdout",
     "output_type": "stream",
     "text": [
      "data/original_dataset/RMT/010506nt1_intvoc.wav, segments: 6416\n"
     ]
    },
    {
     "name": "stderr",
     "output_type": "stream",
     "text": [
      "Processing files in RMT:  75%|███████▌  | 15/20 [09:01<02:46, 33.31s/it]"
     ]
    },
    {
     "name": "stdout",
     "output_type": "stream",
     "text": [
      "data/original_dataset/RMT/100903hnf_intvoc.wav, segments: 1716\n"
     ]
    },
    {
     "name": "stderr",
     "output_type": "stream",
     "text": [
      "Processing files in RMT:  85%|████████▌ | 17/20 [10:45<02:00, 40.02s/it]"
     ]
    },
    {
     "name": "stdout",
     "output_type": "stream",
     "text": [
      "data/original_dataset/RMT/021406nt2_intvoc.wav, segments: 10901\n"
     ]
    },
    {
     "name": "stderr",
     "output_type": "stream",
     "text": [
      "                                                                        "
     ]
    },
    {
     "name": "stdout",
     "output_type": "stream",
     "text": [
      "data/original_dataset/RMT/011706nt1_intvoc.wav, segments: 8717\n"
     ]
    },
    {
     "name": "stderr",
     "output_type": "stream",
     "text": [
      "\r"
     ]
    },
    {
     "name": "stdout",
     "output_type": "stream",
     "text": [
      "\n",
      "DONE\n"
     ]
    }
   ],
   "source": [
    "save_mfcc(DATASET_PATH, JSON_PATH, selected_classes=CLASSES, voc_only=True, num_mfcc=NUM_MFCC, n_fft=N_FFT, hop_length=SEGMENT_HOP_LENGTH)"
   ]
  }
 ],
 "metadata": {
  "kernelspec": {
   "display_name": ".venv",
   "language": "python",
   "name": "python3"
  },
  "language_info": {
   "codemirror_mode": {
    "name": "ipython",
    "version": 3
   },
   "file_extension": ".py",
   "mimetype": "text/x-python",
   "name": "python",
   "nbconvert_exporter": "python",
   "pygments_lexer": "ipython3",
   "version": "3.11.2"
  }
 },
 "nbformat": 4,
 "nbformat_minor": 2
}
