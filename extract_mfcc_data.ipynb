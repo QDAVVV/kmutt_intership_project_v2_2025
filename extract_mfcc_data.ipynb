{
 "cells": [
  {
   "cell_type": "code",
   "execution_count": 15,
   "metadata": {},
   "outputs": [],
   "source": [
    "import json\n",
    "import os\n",
    "from pathlib import Path\n",
    "import librosa\n",
    "import numpy as np\n",
    "from typing import Dict, List\n",
    "from tqdm import tqdm"
   ]
  },
  {
   "cell_type": "code",
   "execution_count": 16,
   "metadata": {},
   "outputs": [],
   "source": [
    "FILE_NAME = \"data_25ms_h=0%_16mfcc_DPR-HRK\"\n",
    "CLASSES = [\"DPR\", \"HRK\"]\n",
    "\n",
    "SAMPLE_RATE = 10000\n",
    "SEGMENT_DURATION = 0.0256  # duration of each segment in seconds\n",
    "OVERLAP_DURATION = 0   # overlap duration in % (0 means no overlap)\n",
    "NUM_MFCC = 16\n",
    "N_FFT = 2 ** int(np.ceil(np.log2(SEGMENT_DURATION * SAMPLE_RATE)))\n",
    "SEGMENT_HOP_LENGTH = int(SAMPLE_RATE * SEGMENT_DURATION * (1 - OVERLAP_DURATION / 100))\n",
    "MFCC_HOP_LENGTH = SEGMENT_HOP_LENGTH"
   ]
  },
  {
   "cell_type": "code",
   "execution_count": 17,
   "metadata": {},
   "outputs": [],
   "source": [
    "DATASET_PATH = \"./data/original_dataset\"\n",
    "JSON_PATH = \"./data/\" + FILE_NAME + \".json\""
   ]
  },
  {
   "cell_type": "code",
   "execution_count": 18,
   "metadata": {},
   "outputs": [
    {
     "name": "stdout",
     "output_type": "stream",
     "text": [
      "n_fft: 256, hop_length: 256\n"
     ]
    }
   ],
   "source": [
    "print(f\"n_fft: {N_FFT}, hop_length: {SEGMENT_HOP_LENGTH}\")"
   ]
  },
  {
   "cell_type": "code",
   "execution_count": 19,
   "metadata": {},
   "outputs": [],
   "source": [
    "def extract_mfcc(file_path: str, num_mfcc: int, n_fft: int, hop_length: int) -> List[List[float]]:\n",
    "    \"\"\"Extract MFCCs from an audio file.\"\"\"\n",
    "    signal, sample_rate = librosa.load(file_path, sr=SAMPLE_RATE)\n",
    "    track_duration = librosa.get_duration(y=signal, sr=SAMPLE_RATE)\n",
    "    samples_per_track = SAMPLE_RATE * track_duration\n",
    "    samples_per_segment = int(SAMPLE_RATE * SEGMENT_DURATION)\n",
    "    num_segments = int((samples_per_track - samples_per_segment) / hop_length) + 1\n",
    "\n",
    "    mfccs = []\n",
    "    for d in range(num_segments):\n",
    "        start = hop_length * d\n",
    "        finish = start + samples_per_segment\n",
    "        if finish > len(signal):\n",
    "            finish = len(signal)\n",
    "        mfcc = librosa.feature.mfcc(y=signal[start:finish], sr=SAMPLE_RATE, n_mfcc=num_mfcc, n_fft=n_fft, hop_length=hop_length, center=False)\n",
    "        mfccs.append(mfcc.T.tolist())\n",
    "    return mfccs"
   ]
  },
  {
   "cell_type": "code",
   "execution_count": 20,
   "metadata": {},
   "outputs": [],
   "source": [
    "def save_mfcc(dataset_path: str, json_path: str, selected_classes: List[str], voc_only: bool = True, num_mfcc: int = 16, n_fft: int = 256, hop_length: int = 256) -> None:\n",
    "    \"\"\"Extracts MFCCs from audio dataset and saves them into a json file along with class labels.\"\"\"\n",
    "    data: Dict[str, List] = {\"mapping\": [], \"labels\": [], \"mfcc\": [], \"files\": []}\n",
    "    dataset_path = Path(dataset_path)\n",
    "\n",
    "    # Create a dictionary to map the selected classes to their respective labels\n",
    "    class_to_label = {c: i for i, c in enumerate(selected_classes)}\n",
    "\n",
    "    # Walk through dataset path\n",
    "    for dirpath, _, filenames in os.walk(dataset_path):\n",
    "        if dirpath != str(dataset_path):\n",
    "            semantic_label = Path(dirpath).name\n",
    "            if semantic_label in [\"DPR\", \"HRK\"]:\n",
    "                if \"DPR+HRK\" in selected_classes:\n",
    "                    semantic_label = \"DPR+HRK\"\n",
    "                elif semantic_label not in selected_classes:\n",
    "                    continue\n",
    "            \n",
    "            if semantic_label in selected_classes:\n",
    "                if semantic_label not in data[\"mapping\"]:\n",
    "                    data[\"mapping\"].append(semantic_label)\n",
    "                print(f\"\\nProcessing: {semantic_label}\")\n",
    "\n",
    "                for f in tqdm(filenames, desc=f\"Processing files in {semantic_label}\", leave=False):\n",
    "                    if ('voc' in f) == voc_only:\n",
    "                        file_path = str(Path(dirpath) / f)\n",
    "                        mfccs = extract_mfcc(file_path, num_mfcc, n_fft, hop_length)\n",
    "                        data[\"mfcc\"].extend(mfccs)\n",
    "                        data[\"labels\"].extend([class_to_label[semantic_label]] * len(mfccs))\n",
    "                        data[\"files\"].extend([file_path] * len(mfccs))\n",
    "                        print(f\"{file_path}, segments: {len(mfccs)}\")\n",
    "\n",
    "    with open(json_path, \"w\") as fp:\n",
    "        json.dump(data, fp, indent=4)\n",
    "    \n",
    "    print(\"\\nDONE\")"
   ]
  },
  {
   "cell_type": "code",
   "execution_count": 21,
   "metadata": {},
   "outputs": [
    {
     "name": "stdout",
     "output_type": "stream",
     "text": [
      "\n",
      "Processing: DPR\n"
     ]
    },
    {
     "name": "stderr",
     "output_type": "stream",
     "text": [
      "Processing files in DPR:   0%|          | 0/26 [00:00<?, ?it/s]"
     ]
    },
    {
     "name": "stderr",
     "output_type": "stream",
     "text": [
      "Processing files in DPR:   4%|▍         | 1/26 [01:26<36:14, 86.99s/it]"
     ]
    },
    {
     "name": "stdout",
     "output_type": "stream",
     "text": [
      "data/original_dataset/DPR/090105nt1_intvoc.wav, segments: 8532\n"
     ]
    },
    {
     "name": "stderr",
     "output_type": "stream",
     "text": [
      "Processing files in DPR:  15%|█▌        | 4/26 [03:06<15:56, 43.47s/it]"
     ]
    },
    {
     "name": "stdout",
     "output_type": "stream",
     "text": [
      "data/original_dataset/DPR/061405nt1_intvoc.wav, segments: 10082\n"
     ]
    },
    {
     "name": "stderr",
     "output_type": "stream",
     "text": [
      "Processing files in DPR:  19%|█▉        | 5/26 [03:14<11:41, 33.41s/it]"
     ]
    },
    {
     "name": "stdout",
     "output_type": "stream",
     "text": [
      "data/original_dataset/DPR/092503hnf_intvoc.wav, segments: 761\n"
     ]
    },
    {
     "name": "stderr",
     "output_type": "stream",
     "text": [
      "Processing files in DPR:  23%|██▎       | 6/26 [04:34<15:33, 46.67s/it]"
     ]
    },
    {
     "name": "stdout",
     "output_type": "stream",
     "text": [
      "data/original_dataset/DPR/020106nt1_intvoc.wav, segments: 8234\n"
     ]
    },
    {
     "name": "stderr",
     "output_type": "stream",
     "text": [
      "Processing files in DPR:  27%|██▋       | 7/26 [06:28<20:59, 66.29s/it]"
     ]
    },
    {
     "name": "stdout",
     "output_type": "stream",
     "text": [
      "data/original_dataset/DPR/013106ab3_intvoc.wav, segments: 10737\n"
     ]
    },
    {
     "name": "stderr",
     "output_type": "stream",
     "text": [
      "Processing files in DPR:  31%|███       | 8/26 [06:43<15:19, 51.06s/it]"
     ]
    },
    {
     "name": "stdout",
     "output_type": "stream",
     "text": [
      "data/original_dataset/DPR/072604nt1_intvoc.wav, segments: 1281\n"
     ]
    },
    {
     "name": "stderr",
     "output_type": "stream",
     "text": [
      "Processing files in DPR:  35%|███▍      | 9/26 [08:32<19:18, 68.18s/it]"
     ]
    },
    {
     "name": "stdout",
     "output_type": "stream",
     "text": [
      "data/original_dataset/DPR/022505nt1_intvoc.wav, segments: 10189\n"
     ]
    },
    {
     "name": "stderr",
     "output_type": "stream",
     "text": [
      "Processing files in DPR:  38%|███▊      | 10/26 [10:05<20:10, 75.64s/it]"
     ]
    },
    {
     "name": "stdout",
     "output_type": "stream",
     "text": [
      "data/original_dataset/DPR/011106nt1_intvoc.wav, segments: 8527\n"
     ]
    },
    {
     "name": "stderr",
     "output_type": "stream",
     "text": [
      "Processing files in DPR:  50%|█████     | 13/26 [10:30<08:13, 37.96s/it]"
     ]
    },
    {
     "name": "stdout",
     "output_type": "stream",
     "text": [
      "data/original_dataset/DPR/040505nt2_intvoc.wav, segments: 2316\n"
     ]
    },
    {
     "name": "stderr",
     "output_type": "stream",
     "text": [
      "Processing files in DPR:  58%|█████▊    | 15/26 [11:14<05:56, 32.45s/it]"
     ]
    },
    {
     "name": "stdout",
     "output_type": "stream",
     "text": [
      "data/original_dataset/DPR/051105nt1_intvoc.wav, segments: 4301\n"
     ]
    },
    {
     "name": "stderr",
     "output_type": "stream",
     "text": [
      "Processing files in DPR:  69%|██████▉   | 18/26 [12:15<03:37, 27.20s/it]"
     ]
    },
    {
     "name": "stdout",
     "output_type": "stream",
     "text": [
      "data/original_dataset/DPR/110403hnf_intvoc.wav, segments: 5721\n"
     ]
    },
    {
     "name": "stderr",
     "output_type": "stream",
     "text": [
      "Processing files in DPR:  88%|████████▊ | 23/26 [13:31<01:03, 21.18s/it]"
     ]
    },
    {
     "name": "stdout",
     "output_type": "stream",
     "text": [
      "data/original_dataset/DPR/021605nt3_intvoc.wav, segments: 7229\n"
     ]
    },
    {
     "name": "stderr",
     "output_type": "stream",
     "text": [
      "                                                                        \r"
     ]
    },
    {
     "name": "stdout",
     "output_type": "stream",
     "text": [
      "data/original_dataset/DPR/101805ab1_intvoc.wav, segments: 9196\n",
      "\n",
      "Processing: HRK\n"
     ]
    },
    {
     "name": "stderr",
     "output_type": "stream",
     "text": [
      "Processing files in HRK:  15%|█▌        | 3/20 [01:15<07:08, 25.22s/it]"
     ]
    },
    {
     "name": "stdout",
     "output_type": "stream",
     "text": [
      "data/original_dataset/HRK/020806nt1_intvoc.wav, segments: 7080\n"
     ]
    },
    {
     "name": "stderr",
     "output_type": "stream",
     "text": [
      "Processing files in HRK:  25%|██▌       | 5/20 [05:36<19:07, 76.51s/it]"
     ]
    },
    {
     "name": "stdout",
     "output_type": "stream",
     "text": [
      "data/original_dataset/HRK/083004nt1_intvoc.wav, segments: 24551\n"
     ]
    },
    {
     "name": "stderr",
     "output_type": "stream",
     "text": [
      "Processing files in HRK:  35%|███▌      | 7/20 [07:59<16:08, 74.48s/it]"
     ]
    },
    {
     "name": "stdout",
     "output_type": "stream",
     "text": [
      "data/original_dataset/HRK/080304nt2_intvoc.wav, segments: 14137\n"
     ]
    },
    {
     "name": "stderr",
     "output_type": "stream",
     "text": [
      "Processing files in HRK:  45%|████▌     | 9/20 [09:00<10:41, 58.29s/it]"
     ]
    },
    {
     "name": "stdout",
     "output_type": "stream",
     "text": [
      "data/original_dataset/HRK/030905nt2_intvoc.wav, segments: 5261\n"
     ]
    },
    {
     "name": "stderr",
     "output_type": "stream",
     "text": [
      "Processing files in HRK:  50%|█████     | 10/20 [11:22<12:37, 75.76s/it]"
     ]
    },
    {
     "name": "stdout",
     "output_type": "stream",
     "text": [
      "data/original_dataset/HRK/103105nt2_intvoc.wav, segments: 12208\n"
     ]
    },
    {
     "name": "stderr",
     "output_type": "stream",
     "text": [
      "Processing files in HRK:  65%|██████▌   | 13/20 [11:31<04:49, 41.31s/it]"
     ]
    },
    {
     "name": "stdout",
     "output_type": "stream",
     "text": [
      "data/original_dataset/HRK/091704nt1_intvoc.wav, segments: 662\n"
     ]
    },
    {
     "name": "stderr",
     "output_type": "stream",
     "text": [
      "Processing files in HRK:  80%|████████  | 16/20 [12:37<02:14, 33.53s/it]"
     ]
    },
    {
     "name": "stdout",
     "output_type": "stream",
     "text": [
      "data/original_dataset/HRK/032405nt2_intvoc.wav, segments: 6490\n"
     ]
    },
    {
     "name": "stderr",
     "output_type": "stream",
     "text": [
      "Processing files in HRK:  85%|████████▌ | 17/20 [14:52<02:29, 49.87s/it]"
     ]
    },
    {
     "name": "stdout",
     "output_type": "stream",
     "text": [
      "data/original_dataset/HRK/051105nt3_intvoc.wav, segments: 16321\n"
     ]
    },
    {
     "name": "stderr",
     "output_type": "stream",
     "text": [
      "Processing files in HRK:  95%|█████████▌| 19/20 [16:27<00:49, 49.09s/it]"
     ]
    },
    {
     "name": "stdout",
     "output_type": "stream",
     "text": [
      "data/original_dataset/HRK/081204nt1_intvoc.wav, segments: 9349\n"
     ]
    },
    {
     "name": "stderr",
     "output_type": "stream",
     "text": [
      "                                                                        "
     ]
    },
    {
     "name": "stdout",
     "output_type": "stream",
     "text": [
      "data/original_dataset/HRK/072604nt2_intvoc.wav, segments: 15671\n"
     ]
    },
    {
     "name": "stderr",
     "output_type": "stream",
     "text": [
      "\r"
     ]
    },
    {
     "name": "stdout",
     "output_type": "stream",
     "text": [
      "\n",
      "DONE\n"
     ]
    }
   ],
   "source": [
    "save_mfcc(DATASET_PATH, JSON_PATH, selected_classes=CLASSES, voc_only=True, num_mfcc=NUM_MFCC, n_fft=N_FFT, hop_length=SEGMENT_HOP_LENGTH)"
   ]
  }
 ],
 "metadata": {
  "kernelspec": {
   "display_name": ".venv",
   "language": "python",
   "name": "python3"
  },
  "language_info": {
   "codemirror_mode": {
    "name": "ipython",
    "version": 3
   },
   "file_extension": ".py",
   "mimetype": "text/x-python",
   "name": "python",
   "nbconvert_exporter": "python",
   "pygments_lexer": "ipython3",
   "version": "3.11.2"
  }
 },
 "nbformat": 4,
 "nbformat_minor": 2
}
