{
 "cells": [
  {
   "cell_type": "code",
   "execution_count": 15,
   "metadata": {},
   "outputs": [],
   "source": [
    "import json\n",
    "import os\n",
    "from pathlib import Path\n",
    "import librosa\n",
    "import numpy as np\n",
    "from typing import Dict, List"
   ]
  },
  {
   "cell_type": "code",
   "execution_count": 16,
   "metadata": {},
   "outputs": [],
   "source": [
    "FILE_NAME = \"data_25ms_50%_16mfcc_RMT-HRK\"\n",
    "CLASSES = [\"RMT\", \"HRK\"]\n",
    "\n",
    "SAMPLE_RATE = 10000\n",
    "SEGMENT_DURATION = 0.0256  # duration of each segment in seconds\n",
    "OVERLAP_DURATION = 50   # overlap duration in % (0 means no overlap)\n",
    "NUM_MFCC = 16\n",
    "N_FFT = 2 ** int(np.ceil(np.log2(SEGMENT_DURATION * SAMPLE_RATE)))\n",
    "HOP_LENGTH = int(N_FFT * (1 - OVERLAP_DURATION / 100))"
   ]
  },
  {
   "cell_type": "code",
   "execution_count": 17,
   "metadata": {},
   "outputs": [],
   "source": [
    "DATASET_PATH = \"./data/original_dataset\"\n",
    "JSON_PATH = \"./data/\" + FILE_NAME + \".json\""
   ]
  },
  {
   "cell_type": "code",
   "execution_count": 18,
   "metadata": {},
   "outputs": [
    {
     "name": "stdout",
     "output_type": "stream",
     "text": [
      "n_fft: 256, hop_length: 128\n"
     ]
    }
   ],
   "source": [
    "print(f\"n_fft: {N_FFT}, hop_length: {HOP_LENGTH}\")"
   ]
  },
  {
   "cell_type": "code",
   "execution_count": 19,
   "metadata": {},
   "outputs": [],
   "source": [
    "def extract_mfcc(file_path: str, num_mfcc: int, n_fft: int, hop_length: int) -> List[List[float]]:\n",
    "    \"\"\"Extract MFCCs from an audio file.\"\"\"\n",
    "    signal, sample_rate = librosa.load(file_path, sr=SAMPLE_RATE)\n",
    "    track_duration = librosa.get_duration(y=signal, sr=SAMPLE_RATE)\n",
    "    samples_per_track = SAMPLE_RATE * track_duration\n",
    "    samples_per_segment = int(SAMPLE_RATE * SEGMENT_DURATION)\n",
    "    num_segments = int(samples_per_track / samples_per_segment)\n",
    "\n",
    "    mfccs = []\n",
    "    for d in range(num_segments):\n",
    "        start = samples_per_segment * d\n",
    "        finish = start + samples_per_segment\n",
    "        if finish > len(signal):\n",
    "            finish = len(signal)\n",
    "        mfcc = librosa.feature.mfcc(y=signal[start:finish], sr=SAMPLE_RATE, n_mfcc=num_mfcc, n_fft=n_fft, hop_length=hop_length, center=False)\n",
    "        mfccs.append(mfcc.T.tolist())\n",
    "    return mfccs"
   ]
  },
  {
   "cell_type": "code",
   "execution_count": 20,
   "metadata": {},
   "outputs": [],
   "source": [
    "def save_mfcc(dataset_path: str, json_path: str, selected_classes: List[str], voc_only: bool = True, num_mfcc: int = 13, n_fft: int = 256, hop_length: int = 128) -> None:\n",
    "    \"\"\"Extracts MFCCs from audio dataset and saves them into a json file along with class labels.\"\"\"\n",
    "    data: Dict[str, List] = {\"mapping\": [], \"labels\": [], \"mfcc\": [], \"files\": []}\n",
    "    dataset_path = Path(dataset_path)\n",
    "\n",
    "    # Create a dictionary to map the selected classes to their respective labels\n",
    "    class_to_label = {c: i for i, c in enumerate(selected_classes)}\n",
    "\n",
    "    for i, (dirpath, _, filenames) in enumerate(os.walk(dataset_path)):\n",
    "        if dirpath != dataset_path:\n",
    "            semantic_label = Path(dirpath).name\n",
    "            if semantic_label in selected_classes:  # Check if the current class is in the selected classes\n",
    "                data[\"mapping\"].append(semantic_label)\n",
    "                print(f\"\\nProcessing: {semantic_label}\")\n",
    "\n",
    "                for f in filenames:\n",
    "                    if ('voc' in f) == voc_only:\n",
    "                        file_path = str(Path(dirpath) / f)\n",
    "                        mfccs = extract_mfcc(file_path, num_mfcc, n_fft, hop_length)\n",
    "                        data[\"mfcc\"].extend(mfccs)\n",
    "                        # Use the class_to_label dictionary to get the correct label\n",
    "                        data[\"labels\"].extend([class_to_label[semantic_label]] * len(mfccs))\n",
    "                        data[\"files\"].extend([file_path] * len(mfccs))\n",
    "                        print(f\"{file_path}, segments: {len(mfccs)}\")\n",
    "\n",
    "    with open(json_path, \"w\") as fp:\n",
    "        json.dump(data, fp, indent=4)\n",
    "    \n",
    "    print(\"\\nDONE\")"
   ]
  },
  {
   "cell_type": "code",
   "execution_count": 21,
   "metadata": {},
   "outputs": [
    {
     "name": "stdout",
     "output_type": "stream",
     "text": [
      "\n",
      "Processing: HRK\n"
     ]
    },
    {
     "name": "stdout",
     "output_type": "stream",
     "text": [
      "data/original_dataset/HRK/020806nt1_intvoc.wav, segments: 7080\n",
      "data/original_dataset/HRK/083004nt1_intvoc.wav, segments: 24551\n",
      "data/original_dataset/HRK/080304nt2_intvoc.wav, segments: 14137\n",
      "data/original_dataset/HRK/030905nt2_intvoc.wav, segments: 5261\n",
      "data/original_dataset/HRK/103105nt2_intvoc.wav, segments: 12208\n",
      "data/original_dataset/HRK/091704nt1_intvoc.wav, segments: 662\n",
      "data/original_dataset/HRK/032405nt2_intvoc.wav, segments: 6490\n",
      "data/original_dataset/HRK/051105nt3_intvoc.wav, segments: 16321\n",
      "data/original_dataset/HRK/081204nt1_intvoc.wav, segments: 9349\n",
      "data/original_dataset/HRK/072604nt2_intvoc.wav, segments: 15671\n",
      "\n",
      "Processing: RMT\n",
      "data/original_dataset/RMT/091305nt1_intvoc.wav, segments: 6771\n",
      "data/original_dataset/RMT/092005nt1_intvoc.wav, segments: 7567\n",
      "data/original_dataset/RMT/070805nt1_intvoc.wav, segments: 14282\n",
      "data/original_dataset/RMT/100803hnf_intvoc.wav, segments: 284\n",
      "data/original_dataset/RMT/121803hnf_intvoc.wav, segments: 22725\n",
      "data/original_dataset/RMT/092403rms_intvoc.wav, segments: 1855\n",
      "data/original_dataset/RMT/010506nt1_intvoc.wav, segments: 6416\n",
      "data/original_dataset/RMT/100903hnf_intvoc.wav, segments: 1716\n",
      "data/original_dataset/RMT/021406nt2_intvoc.wav, segments: 10901\n",
      "data/original_dataset/RMT/011706nt1_intvoc.wav, segments: 8717\n",
      "\n",
      "DONE\n"
     ]
    }
   ],
   "source": [
    "save_mfcc(DATASET_PATH, JSON_PATH, selected_classes=CLASSES, voc_only=True, num_mfcc=NUM_MFCC, n_fft=N_FFT, hop_length=HOP_LENGTH)"
   ]
  }
 ],
 "metadata": {
  "kernelspec": {
   "display_name": ".venv",
   "language": "python",
   "name": "python3"
  },
  "language_info": {
   "codemirror_mode": {
    "name": "ipython",
    "version": 3
   },
   "file_extension": ".py",
   "mimetype": "text/x-python",
   "name": "python",
   "nbconvert_exporter": "python",
   "pygments_lexer": "ipython3",
   "version": "3.11.2"
  }
 },
 "nbformat": 4,
 "nbformat_minor": 2
}
