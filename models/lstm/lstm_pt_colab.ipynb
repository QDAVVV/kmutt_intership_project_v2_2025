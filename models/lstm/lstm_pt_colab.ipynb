{
  "cells": [
    {
      "cell_type": "code",
      "execution_count": 31,
      "metadata": {
        "id": "YTq6nmF7ZNoN"
      },
      "outputs": [],
      "source": [
        "import json\n",
        "import matplotlib.pyplot as plt\n",
        "import numpy as np\n",
        "import torch\n",
        "import torch.nn as nn\n",
        "import torch.nn.functional as F\n",
        "import torch.optim as optim\n",
        "from datetime import datetime\n",
        "from sklearn.model_selection import train_test_split\n",
        "from tqdm import tqdm"
      ]
    },
    {
      "cell_type": "code",
      "source": [
        "from google.colab import drive\n",
        "drive.mount('/content/drive/')"
      ],
      "metadata": {
        "colab": {
          "base_uri": "https://localhost:8080/"
        },
        "id": "t9q5tjqIZQWP",
        "outputId": "5c1110bf-4bed-48e8-d49d-fba3b99a2993"
      },
      "execution_count": 32,
      "outputs": [
        {
          "output_type": "stream",
          "name": "stdout",
          "text": [
            "Drive already mounted at /content/drive/; to attempt to forcibly remount, call drive.mount(\"/content/drive/\", force_remount=True).\n"
          ]
        }
      ]
    },
    {
      "cell_type": "code",
      "execution_count": 33,
      "metadata": {
        "id": "shv1VHbiZNoP"
      },
      "outputs": [],
      "source": [
        "DATA_PATH = '/content/drive/MyDrive/AI-Dataset/extract/data_25ms_h=50%_16mfcc.json'\n",
        "# SAVED_MODEL_PATH = './models/lstm/model.pt'\n",
        "EPOCHS = 10\n",
        "BATCH_SIZE = 32\n",
        "PATIENCE = 5\n",
        "LEARNING_RATE = 0.0001"
      ]
    },
    {
      "cell_type": "code",
      "execution_count": 34,
      "metadata": {
        "id": "8Tx-78WYZNoS"
      },
      "outputs": [],
      "source": [
        "def get_data_splits(data_path: str, test_size: float = 0.05, val_size: float = 0.1):\n",
        "    with open(data_path, 'rb') as f:\n",
        "        data = json.load(f)\n",
        "    X, y, files = np.array(data['mfcc']), np.array(data['labels']), np.array(data['files'])\n",
        "\n",
        "    X_train, X_test, y_train, y_test, files_train, files_test = train_test_split(\n",
        "        X, y, files, test_size=test_size, random_state=23)\n",
        "    X_train, X_val, y_train, y_val, files_train, files_val = train_test_split(\n",
        "        X_train, y_train, files_train, test_size=val_size, random_state=23)\n",
        "\n",
        "    return X_train, X_val, X_test, y_train, y_val, y_test, files_train, files_val, files_test"
      ]
    },
    {
      "cell_type": "code",
      "execution_count": 35,
      "metadata": {
        "id": "2AwIDG0cZNoV"
      },
      "outputs": [],
      "source": [
        "def plot_history(history):\n",
        "    r\"\"\"Plots accuracy/loss for training/validation set as a function of the epochs.\n",
        "\n",
        "    Args:\n",
        "        history:\n",
        "            Training history of the model.\n",
        "\n",
        "    Returns:\n",
        "        : matplotlib figure\n",
        "    \"\"\"\n",
        "    fig, axs = plt.subplots(2)\n",
        "\n",
        "    # create accuracy subplot\n",
        "    axs[0].plot(history['acc'] if isinstance(history, dict) else history.history['acc'], label='acc')\n",
        "    axs[0].plot(history['val_acc'] if isinstance(history, dict) else history.history['val_acc'], label='val_acc')\n",
        "    axs[0].set_ylabel('Accuracy')\n",
        "    axs[0].legend(loc='lower right')\n",
        "    axs[0].set_title('Accuracy evaluation')\n",
        "\n",
        "    # create loss subplot\n",
        "    axs[1].plot(history['loss'] if isinstance(history, dict) else history.history['loss'], label='loss')\n",
        "    axs[1].plot(history['val_loss'] if isinstance(history, dict) else history.history['val_loss'], label='val_loss')\n",
        "    axs[1].set_xlabel('Epoch')\n",
        "    axs[1].set_ylabel('Loss')\n",
        "    axs[1].legend(loc='upper right')\n",
        "    axs[1].set_title('Loss evaluation')\n",
        "    plt.show()"
      ]
    },
    {
      "cell_type": "code",
      "execution_count": 36,
      "metadata": {
        "id": "-hZrZ3EmZNoW"
      },
      "outputs": [],
      "source": [
        "def get_loss(\n",
        "        model: torch.nn.Module,\n",
        "        loss_fn,\n",
        "        dataloader: torch.utils.data.DataLoader,\n",
        "        device=torch.device('cuda' if torch.cuda.is_available() else 'cpu')\n",
        "):\n",
        "    model.eval()  # set the module in evaluation mode\n",
        "    running_loss_per_epoch = 0.0\n",
        "    running_number_of_samples_per_epoch = 0\n",
        "    with torch.no_grad():\n",
        "        for data in tqdm(dataloader):\n",
        "            inputs, labels = data  # get the inputs; data is a list of [inputs, labels]\n",
        "            inputs, labels = inputs.to(device), labels.to(device)\n",
        "            outputs = model(inputs).to(device)\n",
        "            loss = loss_fn(outputs, labels)\n",
        "            running_loss_per_epoch += loss.item() * len(labels)\n",
        "            running_number_of_samples_per_epoch += len(labels)\n",
        "    return running_loss_per_epoch / running_number_of_samples_per_epoch"
      ]
    },
    {
      "cell_type": "code",
      "execution_count": 37,
      "metadata": {
        "id": "6sDjb7NiZNoY"
      },
      "outputs": [],
      "source": [
        "def get_accuracy(\n",
        "        model: torch.nn.Module,\n",
        "        dataloader: torch.utils.data.DataLoader,\n",
        "        device=torch.device('cuda' if torch.cuda.is_available() else 'cpu')\n",
        "):\n",
        "    model.eval()  # set the module in evaluation mode\n",
        "    running_correct_samples_per_epoch = 0\n",
        "    running_number_of_samples_per_epoch = 0\n",
        "    with torch.no_grad():\n",
        "        for data in tqdm(dataloader):\n",
        "            inputs, labels = data  # get the inputs; data is a list of [inputs, labels]\n",
        "            inputs, labels = inputs.to(device), labels.to(device)\n",
        "            y_pred = torch.argmax(model(inputs), dim=1)\n",
        "            number_of_correct_predictions = sum(y_pred == labels).item()\n",
        "            running_correct_samples_per_epoch += number_of_correct_predictions\n",
        "            running_number_of_samples_per_epoch += len(labels)\n",
        "    return running_correct_samples_per_epoch / running_number_of_samples_per_epoch"
      ]
    },
    {
      "cell_type": "code",
      "execution_count": 38,
      "metadata": {
        "id": "CW_6QrIrZNoZ"
      },
      "outputs": [],
      "source": [
        "def predict(\n",
        "        model: torch.nn.Module,\n",
        "        dataloader: torch.utils.data.DataLoader,\n",
        "        device=torch.device('cuda' if torch.cuda.is_available() else 'cpu')\n",
        "):\n",
        "    model.eval()  # set the module in evaluation mode\n",
        "    test_preds = []\n",
        "    with torch.no_grad():\n",
        "        for data in tqdm(dataloader):\n",
        "            inputs, y = data  # get the inputs; data is a list of [inputs, labels]\n",
        "            inputs, y = inputs.to(device), y.to(device)\n",
        "            y_pred = torch.argmax(model(inputs), dim=1)\n",
        "            test_preds.extend(list(y_pred.detach().numpy()))\n",
        "    return np.array(test_preds)"
      ]
    },
    {
      "cell_type": "code",
      "execution_count": 39,
      "metadata": {
        "id": "B7B45mqpZNob"
      },
      "outputs": [],
      "source": [
        "def prepare_pt_dataloader(X: np.ndarray, y: np.ndarray, batch_size: int = 32, shuffle: bool = False):\n",
        "    dataset = torch.utils.data.TensorDataset(torch.tensor(X, dtype=torch.float32), torch.tensor(y, dtype=torch.int64))\n",
        "    dataloader = torch.utils.data.DataLoader(dataset, batch_size=batch_size, shuffle=shuffle)\n",
        "    return dataloader"
      ]
    },
    {
      "cell_type": "code",
      "execution_count": 40,
      "metadata": {
        "id": "13gxJEGVZNof"
      },
      "outputs": [],
      "source": [
        "class LSTMModel(nn.Module):\n",
        "    def __init__(self, input_size=16, hidden_size=128, num_layers=2, num_classes=3):\n",
        "        super(LSTMModel, self).__init__()\n",
        "        self.hidden_size = hidden_size\n",
        "        self.num_layers = num_layers\n",
        "        self.lstm = nn.LSTM(input_size, hidden_size, num_layers, batch_first=True)\n",
        "        self.fc = nn.Linear(hidden_size, num_classes)\n",
        "\n",
        "    def forward(self, x):\n",
        "        h0 = torch.zeros(self.num_layers, x.size(0), self.hidden_size).to(x.device)\n",
        "        c0 = torch.zeros(self.num_layers, x.size(0), self.hidden_size).to(x.device)\n",
        "        out, _ = self.lstm(x, (h0, c0))\n",
        "        out = self.fc(out[:, -1, :])\n",
        "        return out"
      ]
    },
    {
      "cell_type": "code",
      "execution_count": 41,
      "metadata": {
        "id": "ptTEfpv_ZNoh"
      },
      "outputs": [],
      "source": [
        "class EarlyStopper:\n",
        "    def __init__(self, monitor: str = 'val_loss', min_delta: float = 0.0, patience: int = 1):\n",
        "        self.monitor = monitor\n",
        "        self.min_delta = min_delta\n",
        "        self.patience = patience\n",
        "        self.counter = 0\n",
        "        self.min_val_loss = float('inf')\n",
        "        self.max_val_acc = 0\n",
        "\n",
        "    def early_stop(self, val):\n",
        "        if self.monitor.endswith('loss'):\n",
        "            if val < self.min_val_loss:\n",
        "                self.min_val_loss = val\n",
        "                self.counter = 0\n",
        "            elif val > self.min_val_loss + self.min_delta:\n",
        "                self.counter += 1\n",
        "                if self.counter >= self.patience:\n",
        "                    return True\n",
        "            return False\n",
        "        elif self.monitor.endswith('acc'):\n",
        "            if val > self.max_val_acc:\n",
        "                self.max_val_acc = val\n",
        "                self.counter = 0\n",
        "            elif val < self.max_val_acc - self.min_delta:\n",
        "                self.counter += 1\n",
        "                if self.counter >= self.patience:\n",
        "                    return True\n",
        "            return False\n",
        "        else:\n",
        "            raise ValueError(f'The only recognized quantities to be monitored are: loss, acc')"
      ]
    },
    {
      "cell_type": "code",
      "execution_count": 42,
      "metadata": {
        "id": "m1IkpGqVZNoi"
      },
      "outputs": [],
      "source": [
        "def build_pt_model(num_classes: int):\n",
        "    model = LSTMModel()\n",
        "    # print(torchinfo.summary(model, input_size=(BATCH_SIZE, 1, 44, 13)))\n",
        "    return model"
      ]
    },
    {
      "cell_type": "code",
      "execution_count": 43,
      "metadata": {
        "id": "HFfY7rsMZNoj"
      },
      "outputs": [],
      "source": [
        "def train_pt_model(\n",
        "        model: torch.nn.Module,\n",
        "        X_train,\n",
        "        y_train,\n",
        "        X_val=None,\n",
        "        y_val=None,\n",
        "        epochs: int = 40,\n",
        "        patience: int = 5,\n",
        "        batch_size: int = 32,\n",
        "        learning_rate: float = 0.001\n",
        "):\n",
        "    optimizer = torch.optim.Adam(model.parameters(), lr=learning_rate, weight_decay=0.001)\n",
        "    loss_fn = torch.nn.CrossEntropyLoss()\n",
        "\n",
        "    train_dataloader = prepare_pt_dataloader(X_train, y_train, batch_size=batch_size, shuffle=True)\n",
        "    val_dataloader = prepare_pt_dataloader(X_val, y_val, batch_size=batch_size, shuffle=False)\n",
        "\n",
        "    early_stopper = EarlyStopper(monitor='val_acc', min_delta=0.001, patience=patience)\n",
        "\n",
        "    #  creating history of logs\n",
        "    history = {\n",
        "        'loss': [],\n",
        "        'acc': [],\n",
        "        'val_loss': [],\n",
        "        'val_acc': []\n",
        "    }\n",
        "\n",
        "    device = torch.device('cuda' if torch.cuda.is_available() else 'cpu')\n",
        "    for epoch in range(epochs):\n",
        "        model.train()  # set the module in training mode  (you should set this here inside the `range(epochs)` loop)\n",
        "        model.cuda()\n",
        "        print(f'Epoch: {epoch+1}: Is model in train mode?', model.training)\n",
        "        running_loss_per_epoch = 0.0\n",
        "        running_number_of_correct_predictions_per_epoch = 0\n",
        "        running_number_of_samples_per_epoch = 0\n",
        "        for batch_idx, data in enumerate(tqdm(train_dataloader)):\n",
        "            optimizer.zero_grad()  # reset the gradients\n",
        "\n",
        "            inputs, labels = data  # get the inputs; data is a list of [inputs, labels]\n",
        "            inputs, labels = inputs.cuda(), labels.cuda()\n",
        "\n",
        "            outputs = model(inputs).cuda()\n",
        "            loss = loss_fn(outputs, labels)\n",
        "\n",
        "            loss.backward()  # compute gradients during backpropagation\n",
        "            optimizer.step()  # update the params\n",
        "\n",
        "            # epoch statistics\n",
        "            y_pred = torch.argmax(outputs, dim=1).to(device)\n",
        "            running_loss_per_epoch += loss.item() * len(labels)\n",
        "            running_number_of_correct_predictions_per_epoch += sum(y_pred == labels).item()\n",
        "            running_number_of_samples_per_epoch += len(labels)\n",
        "\n",
        "        train_loss = running_loss_per_epoch / running_number_of_samples_per_epoch\n",
        "        train_acc = running_number_of_correct_predictions_per_epoch / running_number_of_samples_per_epoch\n",
        "        val_loss = get_loss(model, loss_fn, val_dataloader, device=device)\n",
        "        val_acc = get_accuracy(model, val_dataloader, device=device)\n",
        "\n",
        "        history['loss'].append(train_loss)\n",
        "        history['acc'].append(train_acc)\n",
        "        history['val_loss'].append(val_loss)\n",
        "        history['val_acc'].append(val_acc)\n",
        "\n",
        "        print(f\"[{datetime.now().strftime('%Y-%m-%d %H:%M:%S')}] \"\n",
        "              f\"Epoch {epoch+1}/{epochs}\\n\"\n",
        "              f\"{len(train_dataloader)}/{len(train_dataloader)} [==============================] \"\n",
        "              f\"loss: {train_loss:.4f} - acc: {train_acc:.4f} - \"\n",
        "              f\"val_loss: {val_loss:.4f} - val_acc: {val_acc:.4f} - lr: {optimizer.state_dict()['param_groups'][0]['lr']}\")\n",
        "\n",
        "        if early_stopper.early_stop(val_acc):\n",
        "            print(f'Early stopping criterion triggered: We did not have an increase in val_acc after {patience} epochs.')\n",
        "            break\n",
        "\n",
        "    return model, history"
      ]
    },
    {
      "cell_type": "code",
      "execution_count": 44,
      "metadata": {
        "id": "gEwfTCqCZNok"
      },
      "outputs": [],
      "source": [
        "def eval_pt_model(\n",
        "        model: torch.nn.Module,\n",
        "        loss_fn,\n",
        "        X_test,\n",
        "        y_test,\n",
        "        files_test,\n",
        "        mapping=None,\n",
        "        device=torch.device('cuda' if torch.cuda.is_available() else 'cpu')\n",
        "):\n",
        "    test_dataloader = prepare_pt_dataloader(X_test, y_test, batch_size=32, shuffle=False)\n",
        "\n",
        "    # get accumulated statistics\n",
        "    test_loss = get_loss(model, loss_fn, test_dataloader, device=device)\n",
        "    test_acc = get_accuracy(model, test_dataloader, device=device)\n",
        "    print(f'\\ntest_loss: {test_loss:.4f}, test_acc: {test_acc:.4f}\\n')\n",
        "\n",
        "    # see specific examples\n",
        "    # y_test_pred = predict(model, test_dataloader)\n",
        "    # for file, y, yhat in zip(files_test, y_test, y_test_pred):\n",
        "    #     if y == yhat:\n",
        "    #         print(f'{file}: true: {y if mapping is None else mapping[y]}, '\n",
        "    #               f'pred: {yhat if mapping is None else mapping[yhat]}')\n",
        "    #     else:\n",
        "    #         print(f'    WRONG!!! {file}: true: {y if mapping is None else mapping[y]}, '\n",
        "    #               f'pred: {yhat if mapping is None else mapping[yhat]}')"
      ]
    },
    {
      "cell_type": "code",
      "execution_count": 45,
      "metadata": {
        "colab": {
          "base_uri": "https://localhost:8080/",
          "height": 1000
        },
        "id": "HXifyY9QZNom",
        "outputId": "aabee726-b026-48f7-91ad-ae1e6708d023"
      },
      "outputs": [
        {
          "output_type": "stream",
          "name": "stdout",
          "text": [
            "X_train shape: (478902, 1, 16), y_train shape: (478902,)\n",
            "Epoch: 1: Is model in train mode? True\n"
          ]
        },
        {
          "output_type": "stream",
          "name": "stderr",
          "text": [
            "100%|██████████| 14966/14966 [00:41<00:00, 361.18it/s]\n",
            "100%|██████████| 1663/1663 [00:01<00:00, 1195.27it/s]\n",
            "100%|██████████| 1663/1663 [00:01<00:00, 849.59it/s]\n"
          ]
        },
        {
          "output_type": "stream",
          "name": "stdout",
          "text": [
            "[2024-05-17 07:43:22] Epoch 1/10\n",
            "14966/14966 [==============================] loss: 0.6497 - acc: 0.7188 - val_loss: 0.5709 - val_acc: 0.7600 - lr: 0.0001\n",
            "Epoch: 2: Is model in train mode? True\n"
          ]
        },
        {
          "output_type": "stream",
          "name": "stderr",
          "text": [
            "100%|██████████| 14966/14966 [00:40<00:00, 365.37it/s]\n",
            "100%|██████████| 1663/1663 [00:01<00:00, 1191.81it/s]\n",
            "100%|██████████| 1663/1663 [00:01<00:00, 847.38it/s]\n"
          ]
        },
        {
          "output_type": "stream",
          "name": "stdout",
          "text": [
            "[2024-05-17 07:44:07] Epoch 2/10\n",
            "14966/14966 [==============================] loss: 0.5606 - acc: 0.7659 - val_loss: 0.5553 - val_acc: 0.7746 - lr: 0.0001\n",
            "Epoch: 3: Is model in train mode? True\n"
          ]
        },
        {
          "output_type": "stream",
          "name": "stderr",
          "text": [
            "100%|██████████| 14966/14966 [00:40<00:00, 365.08it/s]\n",
            "100%|██████████| 1663/1663 [00:01<00:00, 1202.34it/s]\n",
            "100%|██████████| 1663/1663 [00:01<00:00, 851.81it/s]\n"
          ]
        },
        {
          "output_type": "stream",
          "name": "stdout",
          "text": [
            "[2024-05-17 07:44:51] Epoch 3/10\n",
            "14966/14966 [==============================] loss: 0.5408 - acc: 0.7749 - val_loss: 0.5520 - val_acc: 0.7639 - lr: 0.0001\n",
            "Epoch: 4: Is model in train mode? True\n"
          ]
        },
        {
          "output_type": "stream",
          "name": "stderr",
          "text": [
            "100%|██████████| 14966/14966 [00:40<00:00, 366.00it/s]\n",
            "100%|██████████| 1663/1663 [00:01<00:00, 1190.97it/s]\n",
            "100%|██████████| 1663/1663 [00:01<00:00, 839.96it/s]\n"
          ]
        },
        {
          "output_type": "stream",
          "name": "stdout",
          "text": [
            "[2024-05-17 07:45:35] Epoch 4/10\n",
            "14966/14966 [==============================] loss: 0.5295 - acc: 0.7805 - val_loss: 0.5149 - val_acc: 0.7880 - lr: 0.0001\n",
            "Epoch: 5: Is model in train mode? True\n"
          ]
        },
        {
          "output_type": "stream",
          "name": "stderr",
          "text": [
            "100%|██████████| 14966/14966 [00:41<00:00, 364.54it/s]\n",
            "100%|██████████| 1663/1663 [00:01<00:00, 1201.74it/s]\n",
            "100%|██████████| 1663/1663 [00:01<00:00, 846.75it/s]\n"
          ]
        },
        {
          "output_type": "stream",
          "name": "stdout",
          "text": [
            "[2024-05-17 07:46:20] Epoch 5/10\n",
            "14966/14966 [==============================] loss: 0.5226 - acc: 0.7841 - val_loss: 0.5258 - val_acc: 0.7841 - lr: 0.0001\n",
            "Epoch: 6: Is model in train mode? True\n"
          ]
        },
        {
          "output_type": "stream",
          "name": "stderr",
          "text": [
            "100%|██████████| 14966/14966 [00:40<00:00, 367.10it/s]\n",
            "100%|██████████| 1663/1663 [00:01<00:00, 1210.47it/s]\n",
            "100%|██████████| 1663/1663 [00:01<00:00, 843.47it/s]\n"
          ]
        },
        {
          "output_type": "stream",
          "name": "stdout",
          "text": [
            "[2024-05-17 07:47:04] Epoch 6/10\n",
            "14966/14966 [==============================] loss: 0.5182 - acc: 0.7861 - val_loss: 0.5136 - val_acc: 0.7901 - lr: 0.0001\n",
            "Epoch: 7: Is model in train mode? True\n"
          ]
        },
        {
          "output_type": "stream",
          "name": "stderr",
          "text": [
            "100%|██████████| 14966/14966 [00:40<00:00, 365.50it/s]\n",
            "100%|██████████| 1663/1663 [00:01<00:00, 1173.23it/s]\n",
            "100%|██████████| 1663/1663 [00:01<00:00, 845.95it/s]\n"
          ]
        },
        {
          "output_type": "stream",
          "name": "stdout",
          "text": [
            "[2024-05-17 07:47:48] Epoch 7/10\n",
            "14966/14966 [==============================] loss: 0.5143 - acc: 0.7881 - val_loss: 0.5220 - val_acc: 0.7833 - lr: 0.0001\n",
            "Epoch: 8: Is model in train mode? True\n"
          ]
        },
        {
          "output_type": "stream",
          "name": "stderr",
          "text": [
            "100%|██████████| 14966/14966 [00:40<00:00, 366.73it/s]\n",
            "100%|██████████| 1663/1663 [00:01<00:00, 1194.61it/s]\n",
            "100%|██████████| 1663/1663 [00:01<00:00, 849.92it/s]\n"
          ]
        },
        {
          "output_type": "stream",
          "name": "stdout",
          "text": [
            "[2024-05-17 07:48:32] Epoch 8/10\n",
            "14966/14966 [==============================] loss: 0.5114 - acc: 0.7890 - val_loss: 0.5063 - val_acc: 0.7911 - lr: 0.0001\n",
            "Epoch: 9: Is model in train mode? True\n"
          ]
        },
        {
          "output_type": "stream",
          "name": "stderr",
          "text": [
            "100%|██████████| 14966/14966 [00:40<00:00, 367.05it/s]\n",
            "100%|██████████| 1663/1663 [00:01<00:00, 1214.48it/s]\n",
            "100%|██████████| 1663/1663 [00:01<00:00, 855.47it/s]\n"
          ]
        },
        {
          "output_type": "stream",
          "name": "stdout",
          "text": [
            "[2024-05-17 07:49:16] Epoch 9/10\n",
            "14966/14966 [==============================] loss: 0.5083 - acc: 0.7904 - val_loss: 0.5063 - val_acc: 0.7928 - lr: 0.0001\n",
            "Epoch: 10: Is model in train mode? True\n"
          ]
        },
        {
          "output_type": "stream",
          "name": "stderr",
          "text": [
            "100%|██████████| 14966/14966 [00:40<00:00, 366.57it/s]\n",
            "100%|██████████| 1663/1663 [00:01<00:00, 1185.41it/s]\n",
            "100%|██████████| 1663/1663 [00:01<00:00, 840.48it/s]\n"
          ]
        },
        {
          "output_type": "stream",
          "name": "stdout",
          "text": [
            "[2024-05-17 07:50:01] Epoch 10/10\n",
            "14966/14966 [==============================] loss: 0.5056 - acc: 0.7917 - val_loss: 0.5055 - val_acc: 0.7943 - lr: 0.0001\n"
          ]
        },
        {
          "output_type": "display_data",
          "data": {
            "text/plain": [
              "<Figure size 640x480 with 2 Axes>"
            ],
            "image/png": "[encoded data removed]"
          },
          "metadata": {}
        },
        {
          "output_type": "stream",
          "name": "stderr",
          "text": [
            "100%|██████████| 876/876 [00:00<00:00, 1150.37it/s]\n",
            "100%|██████████| 876/876 [00:01<00:00, 836.89it/s]"
          ]
        },
        {
          "output_type": "stream",
          "name": "stdout",
          "text": [
            "\n",
            "test_loss: 0.5090, test_acc: 0.7943\n",
            "\n"
          ]
        },
        {
          "output_type": "stream",
          "name": "stderr",
          "text": [
            "\n"
          ]
        }
      ],
      "source": [
        "with open(DATA_PATH, 'rb') as f:\n",
        "    data = json.load(f)\n",
        "mapping = data['mapping']\n",
        "NUM_CLASSES = len(mapping)\n",
        "\n",
        "X_train, X_val, X_test, y_train, y_val, y_test, files_train, files_val, files_test = get_data_splits(DATA_PATH)\n",
        "\n",
        "print(f\"X_train shape: {X_train.shape}, y_train shape: {y_train.shape}\")\n",
        "\n",
        "# build the model\n",
        "pt_model = build_pt_model(NUM_CLASSES)\n",
        "\n",
        "# train the model\n",
        "pt_model, pt_history = train_pt_model(\n",
        "    pt_model, X_train, y_train, X_val=X_val, y_val=y_val,\n",
        "    epochs=EPOCHS, batch_size=BATCH_SIZE, learning_rate=LEARNING_RATE\n",
        ")\n",
        "\n",
        "# plot history\n",
        "plot_history(pt_history)\n",
        "\n",
        "# evaluate the model on test data\n",
        "eval_pt_model(pt_model, torch.nn.CrossEntropyLoss(), X_test, y_test, files_test, mapping=mapping)\n",
        "\n",
        "# save the model\n",
        "# scripted_model = torch.jit.script(pt_model)\n",
        "# scripted_model.save(SAVED_MODEL_PATH)"
      ]
    }
  ],
  "metadata": {
    "kernelspec": {
      "display_name": "Python 3",
      "name": "python3"
    },
    "language_info": {
      "codemirror_mode": {
        "name": "ipython",
        "version": 3
      },
      "file_extension": ".py",
      "mimetype": "text/x-python",
      "name": "python",
      "nbconvert_exporter": "python",
      "pygments_lexer": "ipython3",
      "version": "3.11.2"
    },
    "colab": {
      "provenance": [],
      "machine_shape": "hm"
    }
  },
  "nbformat": 4,
  "nbformat_minor": 0
}