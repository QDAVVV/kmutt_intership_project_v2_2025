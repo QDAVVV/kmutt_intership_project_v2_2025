{
 "cells": [
  {
   "cell_type": "code",
   "execution_count": 194,
   "metadata": {},
   "outputs": [],
   "source": [
    "import os\n",
    "os.chdir('/home/hugo-dev/esirem-dev/4a/kmutt/kmutt_v2')"
   ]
  },
  {
   "cell_type": "code",
   "execution_count": 195,
   "metadata": {},
   "outputs": [],
   "source": [
    "import json\n",
    "import matplotlib.pyplot as plt\n",
    "import numpy as np\n",
    "import torch\n",
    "import torch.nn as nn\n",
    "import torch.nn.functional as F\n",
    "import torch.optim as optim\n",
    "from datetime import datetime\n",
    "from sklearn.model_selection import train_test_split, KFold\n",
    "from tqdm import tqdm"
   ]
  },
  {
   "cell_type": "code",
   "execution_count": 196,
   "metadata": {},
   "outputs": [],
   "source": [
    "DATA_PATH = './data/data_25ms_h=0%_16mfcc_RMT-HRK.json'\n",
    "SAVED_MODEL_PATH = './models/cnn2d/model.pt'\n",
    "EPOCHS = 10\n",
    "BATCH_SIZE = 32\n",
    "PATIENCE = 5\n",
    "LEARNING_RATE = 0.0001"
   ]
  },
  {
   "cell_type": "code",
   "execution_count": 197,
   "metadata": {},
   "outputs": [],
   "source": [
    "def get_data_splits(data_path: str, test_size: float = 0.05, val_size: float = 0.1, n_splits: int = 5):\n",
    "    # read data from .json file\n",
    "    with open(data_path, 'rb') as f:\n",
    "        data = json.load(f)\n",
    "    X, y, files = np.array(data['mfcc']), np.array(data['labels']), np.array(data['files'])\n",
    "\n",
    "    # only keep these MFCC: 0, 1, 9, 13, 2, 4\n",
    "    # X = X[:, :, [0, 1, 9, 13, 2, 4]]\n",
    "\n",
    "    # create train/test splits using KFold\n",
    "    kf = KFold(n_splits=n_splits, shuffle=True, random_state=23)\n",
    "    \n",
    "    for train_index, test_index in kf.split(X):\n",
    "        X_train, X_test = X[train_index], X[test_index]\n",
    "        y_train, y_test = y[train_index], y[test_index]\n",
    "        files_train, files_test = files[train_index], files[test_index]\n",
    "\n",
    "        # create validation split from train set\n",
    "        X_train, X_val, y_train, y_val, files_train, files_val = train_test_split(\n",
    "            X_train, y_train, files_train, test_size=val_size, random_state=23)\n",
    "        \n",
    "        # convert inputs from 2D to 3D arrays (number of segments, number of features) -&gt; (number of segments, number of features, 1)\n",
    "        X_train = X_train[..., np.newaxis]\n",
    "        X_val = X_val[..., np.newaxis]\n",
    "        X_test = X_test[..., np.newaxis]\n",
    "\n",
    "        return X_train, X_val, X_test, y_train, y_val, y_test, files_train, files_val, files_test"
   ]
  },
  {
   "cell_type": "code",
   "execution_count": 198,
   "metadata": {},
   "outputs": [],
   "source": [
    "def plot_history(history):\n",
    "    r\"\"\"Plots accuracy/loss for training/validation set as a function of the epochs.\n",
    "\n",
    "    Args:\n",
    "        history:\n",
    "            Training history of the model.\n",
    "\n",
    "    Returns:\n",
    "        : matplotlib figure\n",
    "    \"\"\"\n",
    "    fig, axs = plt.subplots(2)\n",
    "\n",
    "    # create accuracy subplot\n",
    "    axs[0].plot(history['acc'] if isinstance(history, dict) else history.history['acc'], label='acc')\n",
    "    axs[0].plot(history['val_acc'] if isinstance(history, dict) else history.history['val_acc'], label='val_acc')\n",
    "    axs[0].set_ylabel('Accuracy')\n",
    "    axs[0].legend(loc='lower right')\n",
    "    axs[0].set_title('Accuracy evaluation')\n",
    "\n",
    "    # create loss subplot\n",
    "    axs[1].plot(history['loss'] if isinstance(history, dict) else history.history['loss'], label='loss')\n",
    "    axs[1].plot(history['val_loss'] if isinstance(history, dict) else history.history['val_loss'], label='val_loss')\n",
    "    axs[1].set_xlabel('Epoch')\n",
    "    axs[1].set_ylabel('Loss')\n",
    "    axs[1].legend(loc='upper right')\n",
    "    axs[1].set_title('Loss evaluation')\n",
    "    plt.show()"
   ]
  },
  {
   "cell_type": "code",
   "execution_count": 199,
   "metadata": {},
   "outputs": [],
   "source": [
    "def get_loss(\n",
    "        model: torch.nn.Module,\n",
    "        loss_fn,\n",
    "        dataloader: torch.utils.data.DataLoader,\n",
    "        device=torch.device('cuda' if torch.cuda.is_available() else 'cpu')\n",
    "):\n",
    "    model.eval()  # set the module in evaluation mode\n",
    "    running_loss_per_epoch = 0.0\n",
    "    running_number_of_samples_per_epoch = 0\n",
    "    with torch.no_grad():\n",
    "        for data in tqdm(dataloader):\n",
    "            inputs, labels = data  # get the inputs; data is a list of [inputs, labels]\n",
    "            inputs, labels = inputs.to(device), labels.to(device)\n",
    "            outputs = model(inputs).to(device)\n",
    "            loss = loss_fn(outputs, labels)\n",
    "            running_loss_per_epoch += loss.item() * len(labels)\n",
    "            running_number_of_samples_per_epoch += len(labels)\n",
    "    return running_loss_per_epoch / running_number_of_samples_per_epoch"
   ]
  },
  {
   "cell_type": "code",
   "execution_count": 200,
   "metadata": {},
   "outputs": [],
   "source": [
    "def get_accuracy(\n",
    "        model: torch.nn.Module,\n",
    "        dataloader: torch.utils.data.DataLoader,\n",
    "        device=torch.device('cuda' if torch.cuda.is_available() else 'cpu')\n",
    "):\n",
    "    model.eval()  # set the module in evaluation mode\n",
    "    running_correct_samples_per_epoch = 0\n",
    "    running_number_of_samples_per_epoch = 0\n",
    "    with torch.no_grad():\n",
    "        for data in tqdm(dataloader):\n",
    "            inputs, labels = data  # get the inputs; data is a list of [inputs, labels]\n",
    "            inputs, labels = inputs.to(device), labels.to(device)\n",
    "            y_pred = torch.argmax(model(inputs), dim=1)\n",
    "            number_of_correct_predictions = sum(y_pred == labels).item()\n",
    "            running_correct_samples_per_epoch += number_of_correct_predictions\n",
    "            running_number_of_samples_per_epoch += len(labels)\n",
    "    return running_correct_samples_per_epoch / running_number_of_samples_per_epoch"
   ]
  },
  {
   "cell_type": "code",
   "execution_count": 201,
   "metadata": {},
   "outputs": [],
   "source": [
    "def predict(\n",
    "        model: torch.nn.Module,\n",
    "        dataloader: torch.utils.data.DataLoader,\n",
    "        device=torch.device('cuda' if torch.cuda.is_available() else 'cpu')\n",
    "):\n",
    "    model.eval()  # set the module in evaluation mode\n",
    "    test_preds = []\n",
    "    with torch.no_grad():\n",
    "        for data in tqdm(dataloader):\n",
    "            inputs, y = data  # get the inputs; data is a list of [inputs, labels]\n",
    "            inputs, y = inputs.to(device), y.to(device)\n",
    "            y_pred = torch.argmax(model(inputs), dim=1)\n",
    "            test_preds.extend(list(y_pred.detach().numpy()))\n",
    "    return np.array(test_preds)"
   ]
  },
  {
   "cell_type": "code",
   "execution_count": 202,
   "metadata": {},
   "outputs": [],
   "source": [
    "def prepare_pt_dataloader(X: np.ndarray, y: np.ndarray, batch_size: int = 32, shuffle: bool = False):\n",
    "    # torch wants the input in NCHW (instead of NHWC format)\n",
    "    dataset = torch.utils.data.TensorDataset(\n",
    "        torch.tensor(X, dtype=torch.float32).permute(0, 3, 1, 2), torch.tensor(y, dtype=torch.int64))\n",
    "    dataloader = torch.utils.data.DataLoader(dataset, batch_size=batch_size, shuffle=shuffle)\n",
    "    return dataloader"
   ]
  },
  {
   "cell_type": "code",
   "execution_count": 203,
   "metadata": {},
   "outputs": [],
   "source": [
    "class CNN(nn.Module):\n",
    "    def __init__(self, num_classes: int):\n",
    "        super(CNN, self).__init__()\n",
    "        self.conv1 = nn.Conv2d(1, 64, kernel_size=(1, 3), padding='same')\n",
    "        self.relu = nn.ReLU()\n",
    "        self.bn1 = nn.BatchNorm2d(64)\n",
    "        self.maxpool1 = nn.MaxPool2d((1, 2))\n",
    "\n",
    "        self.conv2 = nn.Conv2d(64, 128, kernel_size=(1, 3), padding='same')\n",
    "        self.bn2 = nn.BatchNorm2d(128)\n",
    "        self.maxpool2 = nn.MaxPool2d((1, 2))\n",
    "\n",
    "        self.conv3 = nn.Conv2d(128, 256, kernel_size=(1, 3), padding='same')\n",
    "        self.bn3 = nn.BatchNorm2d(256)\n",
    "        self.maxpool3 = nn.MaxPool2d((1, 2))\n",
    "\n",
    "        self.flatten = nn.Flatten()\n",
    "\n",
    "        # Adjust input size based on the new shape (1, 16, 1)\n",
    "        self.fc1 = nn.Linear(256 * 1 * 2, 128)  # Adjust input size accordingly\n",
    "        self.dropout = nn.Dropout(0.5)  # Dropout rate\n",
    "\n",
    "        self.fc2 = nn.Linear(128, num_classes)\n",
    "\n",
    "    def forward(self, x):\n",
    "        x = self.conv1(x)\n",
    "        x = self.relu(x)\n",
    "        x = self.bn1(x)\n",
    "        x = self.maxpool1(x)\n",
    "\n",
    "        x = self.conv2(x)\n",
    "        x = self.relu(x)\n",
    "        x = self.bn2(x)\n",
    "        x = self.maxpool2(x)\n",
    "\n",
    "        x = self.conv3(x)\n",
    "        x = self.relu(x)\n",
    "        x = self.bn3(x)\n",
    "        x = self.maxpool3(x)\n",
    "\n",
    "        x = self.flatten(x)\n",
    "        x = self.fc1(x)\n",
    "        x = self.dropout(x)\n",
    "        x = self.relu(x)\n",
    "        x = self.fc2(x)\n",
    "        return x"
   ]
  },
  {
   "cell_type": "code",
   "execution_count": 204,
   "metadata": {},
   "outputs": [],
   "source": [
    "class EarlyStopper:\n",
    "    def __init__(self, monitor: str = 'val_loss', min_delta: float = 0.0, patience: int = 1):\n",
    "        self.monitor = monitor\n",
    "        self.min_delta = min_delta\n",
    "        self.patience = patience\n",
    "        self.counter = 0\n",
    "        self.min_val_loss = float('inf')\n",
    "        self.max_val_acc = 0\n",
    "\n",
    "    def early_stop(self, val):\n",
    "        if self.monitor.endswith('loss'):\n",
    "            if val < self.min_val_loss:\n",
    "                self.min_val_loss = val\n",
    "                self.counter = 0\n",
    "            elif val > self.min_val_loss + self.min_delta:\n",
    "                self.counter += 1\n",
    "                if self.counter >= self.patience:\n",
    "                    return True\n",
    "            return False\n",
    "        elif self.monitor.endswith('acc'):\n",
    "            if val > self.max_val_acc:\n",
    "                self.max_val_acc = val\n",
    "                self.counter = 0\n",
    "            elif val < self.max_val_acc - self.min_delta:\n",
    "                self.counter += 1\n",
    "                if self.counter >= self.patience:\n",
    "                    return True\n",
    "            return False\n",
    "        else:\n",
    "            raise ValueError(f'The only recognized quantities to be monitored are: loss, acc')"
   ]
  },
  {
   "cell_type": "code",
   "execution_count": 205,
   "metadata": {},
   "outputs": [],
   "source": [
    "def build_pt_model(num_classes: int):\n",
    "    model = CNN(num_classes)\n",
    "    # print(torchinfo.summary(model, input_size=(BATCH_SIZE, 1, 44, 13)))\n",
    "    return model"
   ]
  },
  {
   "cell_type": "code",
   "execution_count": 206,
   "metadata": {},
   "outputs": [],
   "source": [
    "def train_pt_model(\n",
    "        model: torch.nn.Module,\n",
    "        X_train,\n",
    "        y_train,\n",
    "        X_val=None,\n",
    "        y_val=None,\n",
    "        epochs: int = 40,\n",
    "        patience: int = 5,\n",
    "        batch_size: int = 32,\n",
    "        learning_rate: float = 0.001\n",
    "):\n",
    "    optimizer = torch.optim.Adam(model.parameters(), lr=learning_rate, weight_decay=0.001)\n",
    "    loss_fn = torch.nn.CrossEntropyLoss()\n",
    "\n",
    "    train_dataloader = prepare_pt_dataloader(X_train, y_train, batch_size=batch_size, shuffle=True)\n",
    "    val_dataloader = prepare_pt_dataloader(X_val, y_val, batch_size=batch_size, shuffle=False)\n",
    "\n",
    "    early_stopper = EarlyStopper(monitor='val_acc', min_delta=0.01, patience=patience)\n",
    "\n",
    "    #  creating history of logs\n",
    "    history = {\n",
    "        'loss': [],\n",
    "        'acc': [],\n",
    "        'val_loss': [],\n",
    "        'val_acc': []\n",
    "    }\n",
    "\n",
    "    device = torch.device('cuda' if torch.cuda.is_available() else 'cpu')\n",
    "    for epoch in range(epochs):\n",
    "        model.train()  # set the module in training mode  (you should set this here inside the `range(epochs)` loop)\n",
    "        print(f'Epoch: {epoch+1}: Is model in train mode?', model.training)\n",
    "        running_loss_per_epoch = 0.0\n",
    "        running_number_of_correct_predictions_per_epoch = 0\n",
    "        running_number_of_samples_per_epoch = 0\n",
    "        for batch_idx, data in enumerate(tqdm(train_dataloader)):\n",
    "            optimizer.zero_grad()  # reset the gradients\n",
    "\n",
    "            inputs, labels = data  # get the inputs; data is a list of [inputs, labels]\n",
    "            inputs, labels = inputs.to(device), labels.to(device)\n",
    "\n",
    "            outputs = model(inputs).to(device)\n",
    "            loss = loss_fn(outputs, labels)\n",
    "\n",
    "            loss.backward()  # compute gradients during backpropagation\n",
    "            optimizer.step()  # update the params\n",
    "\n",
    "            # epoch statistics\n",
    "            y_pred = torch.argmax(outputs, dim=1).to(device)\n",
    "            running_loss_per_epoch += loss.item() * len(labels)\n",
    "            running_number_of_correct_predictions_per_epoch += sum(y_pred == labels).item()\n",
    "            running_number_of_samples_per_epoch += len(labels)\n",
    "\n",
    "        train_loss = running_loss_per_epoch / running_number_of_samples_per_epoch\n",
    "        train_acc = running_number_of_correct_predictions_per_epoch / running_number_of_samples_per_epoch\n",
    "        val_loss = get_loss(model, loss_fn, val_dataloader, device=device)\n",
    "        val_acc = get_accuracy(model, val_dataloader, device=device)\n",
    "\n",
    "        history['loss'].append(train_loss)\n",
    "        history['acc'].append(train_acc)\n",
    "        history['val_loss'].append(val_loss)\n",
    "        history['val_acc'].append(val_acc)\n",
    "\n",
    "        print(f\"[{datetime.now().strftime('%Y-%m-%d %H:%M:%S')}] \"\n",
    "              f\"Epoch {epoch+1}/{epochs}\\n\"\n",
    "              f\"{len(train_dataloader)}/{len(train_dataloader)} [==============================] \"\n",
    "              f\"loss: {train_loss:.4f} - acc: {train_acc:.4f} - \"\n",
    "              f\"val_loss: {val_loss:.4f} - val_acc: {val_acc:.4f} - lr: {optimizer.state_dict()['param_groups'][0]['lr']}\")\n",
    "\n",
    "        if early_stopper.early_stop(val_acc):\n",
    "            print(f'Early stopping criterion triggered: We did not have an increase in val_acc after {patience} epochs.')\n",
    "            break\n",
    "\n",
    "    return model, history"
   ]
  },
  {
   "cell_type": "code",
   "execution_count": 207,
   "metadata": {},
   "outputs": [],
   "source": [
    "def eval_pt_model(\n",
    "        model: torch.nn.Module,\n",
    "        loss_fn,\n",
    "        X_test,\n",
    "        y_test,\n",
    "        files_test,\n",
    "        mapping=None,\n",
    "        device=torch.device('cuda' if torch.cuda.is_available() else 'cpu')\n",
    "):\n",
    "    test_dataloader = prepare_pt_dataloader(X_test, y_test, batch_size=32, shuffle=False)\n",
    "\n",
    "    # get accumulated statistics\n",
    "    test_loss = get_loss(model, loss_fn, test_dataloader, device=device)\n",
    "    test_acc = get_accuracy(model, test_dataloader, device=device)\n",
    "    print(f'\\ntest_loss: {test_loss:.4f}, test_acc: {test_acc:.4f}\\n')\n",
    "\n",
    "    # see specific examples\n",
    "    # y_test_pred = predict(model, test_dataloader)\n",
    "    # for file, y, yhat in zip(files_test, y_test, y_test_pred):\n",
    "    #     if y == yhat:\n",
    "    #         print(f'{file}: true: {y if mapping is None else mapping[y]}, '\n",
    "    #               f'pred: {yhat if mapping is None else mapping[yhat]}')\n",
    "    #     else:\n",
    "    #         print(f'    WRONG!!! {file}: true: {y if mapping is None else mapping[y]}, '\n",
    "    #               f'pred: {yhat if mapping is None else mapping[yhat]}')"
   ]
  },
  {
   "cell_type": "code",
   "execution_count": 208,
   "metadata": {},
   "outputs": [
    {
     "name": "stdout",
     "output_type": "stream",
     "text": [
      "X_train shape: (138933, 1, 16, 1), y_train shape: (138933,)\n",
      "Epoch: 1: Is model in train mode? True\n"
     ]
    },
    {
     "name": "stderr",
     "output_type": "stream",
     "text": [
      "100%|██████████| 4342/4342 [00:58<00:00, 74.26it/s] \n",
      "100%|██████████| 483/483 [00:01<00:00, 317.67it/s]\n",
      "100%|██████████| 483/483 [00:01<00:00, 285.55it/s]\n"
     ]
    },
    {
     "name": "stdout",
     "output_type": "stream",
     "text": [
      "[2024-05-17 16:04:46] Epoch 1/10\n",
      "4342/4342 [==============================] loss: 0.2853 - acc: 0.8746 - val_loss: 0.2244 - val_acc: 0.9064 - lr: 0.0001\n",
      "Epoch: 2: Is model in train mode? True\n"
     ]
    },
    {
     "name": "stderr",
     "output_type": "stream",
     "text": [
      "100%|██████████| 4342/4342 [00:46<00:00, 92.95it/s] \n",
      "100%|██████████| 483/483 [00:01<00:00, 346.00it/s]\n",
      "100%|██████████| 483/483 [00:01<00:00, 300.84it/s]\n"
     ]
    },
    {
     "name": "stdout",
     "output_type": "stream",
     "text": [
      "[2024-05-17 16:05:36] Epoch 2/10\n",
      "4342/4342 [==============================] loss: 0.2342 - acc: 0.8998 - val_loss: 0.2058 - val_acc: 0.9148 - lr: 0.0001\n",
      "Epoch: 3: Is model in train mode? True\n"
     ]
    },
    {
     "name": "stderr",
     "output_type": "stream",
     "text": [
      "100%|██████████| 4342/4342 [00:44<00:00, 96.58it/s] \n",
      "100%|██████████| 483/483 [00:01<00:00, 370.67it/s]\n",
      "100%|██████████| 483/483 [00:01<00:00, 339.36it/s]\n"
     ]
    },
    {
     "name": "stdout",
     "output_type": "stream",
     "text": [
      "[2024-05-17 16:06:24] Epoch 3/10\n",
      "4342/4342 [==============================] loss: 0.2180 - acc: 0.9075 - val_loss: 0.1945 - val_acc: 0.9186 - lr: 0.0001\n",
      "Epoch: 4: Is model in train mode? True\n"
     ]
    },
    {
     "name": "stderr",
     "output_type": "stream",
     "text": [
      "100%|██████████| 4342/4342 [00:51<00:00, 84.09it/s] \n",
      "100%|██████████| 483/483 [00:01<00:00, 349.39it/s]\n",
      "100%|██████████| 483/483 [00:01<00:00, 287.55it/s]\n"
     ]
    },
    {
     "name": "stdout",
     "output_type": "stream",
     "text": [
      "[2024-05-17 16:07:18] Epoch 4/10\n",
      "4342/4342 [==============================] loss: 0.2080 - acc: 0.9119 - val_loss: 0.1878 - val_acc: 0.9221 - lr: 0.0001\n",
      "Epoch: 5: Is model in train mode? True\n"
     ]
    },
    {
     "name": "stderr",
     "output_type": "stream",
     "text": [
      "100%|██████████| 4342/4342 [00:52<00:00, 82.84it/s] \n",
      "100%|██████████| 483/483 [00:01<00:00, 370.28it/s]\n",
      "100%|██████████| 483/483 [00:01<00:00, 349.21it/s]\n"
     ]
    },
    {
     "name": "stdout",
     "output_type": "stream",
     "text": [
      "[2024-05-17 16:08:14] Epoch 5/10\n",
      "4342/4342 [==============================] loss: 0.2016 - acc: 0.9155 - val_loss: 0.1795 - val_acc: 0.9275 - lr: 0.0001\n",
      "Epoch: 6: Is model in train mode? True\n"
     ]
    },
    {
     "name": "stderr",
     "output_type": "stream",
     "text": [
      "100%|██████████| 4342/4342 [00:43<00:00, 100.78it/s]\n",
      "100%|██████████| 483/483 [00:01<00:00, 383.80it/s]\n",
      "100%|██████████| 483/483 [00:01<00:00, 329.55it/s]\n"
     ]
    },
    {
     "name": "stdout",
     "output_type": "stream",
     "text": [
      "[2024-05-17 16:08:59] Epoch 6/10\n",
      "4342/4342 [==============================] loss: 0.1944 - acc: 0.9186 - val_loss: 0.1814 - val_acc: 0.9243 - lr: 0.0001\n",
      "Epoch: 7: Is model in train mode? True\n"
     ]
    },
    {
     "name": "stderr",
     "output_type": "stream",
     "text": [
      "100%|██████████| 4342/4342 [00:41<00:00, 103.80it/s]\n",
      "100%|██████████| 483/483 [00:01<00:00, 374.49it/s]\n",
      "100%|██████████| 483/483 [00:01<00:00, 333.01it/s]\n"
     ]
    },
    {
     "name": "stdout",
     "output_type": "stream",
     "text": [
      "[2024-05-17 16:09:44] Epoch 7/10\n",
      "4342/4342 [==============================] loss: 0.1883 - acc: 0.9205 - val_loss: 0.1821 - val_acc: 0.9259 - lr: 0.0001\n",
      "Epoch: 8: Is model in train mode? True\n"
     ]
    },
    {
     "name": "stderr",
     "output_type": "stream",
     "text": [
      "100%|██████████| 4342/4342 [00:42<00:00, 102.68it/s]\n",
      "100%|██████████| 483/483 [00:01<00:00, 387.47it/s]\n",
      "100%|██████████| 483/483 [00:01<00:00, 342.34it/s]\n"
     ]
    },
    {
     "name": "stdout",
     "output_type": "stream",
     "text": [
      "[2024-05-17 16:10:29] Epoch 8/10\n",
      "4342/4342 [==============================] loss: 0.1852 - acc: 0.9226 - val_loss: 0.1809 - val_acc: 0.9268 - lr: 0.0001\n",
      "Epoch: 9: Is model in train mode? True\n"
     ]
    },
    {
     "name": "stderr",
     "output_type": "stream",
     "text": [
      "100%|██████████| 4342/4342 [00:41<00:00, 104.18it/s]\n",
      "100%|██████████| 483/483 [00:01<00:00, 370.03it/s]\n",
      "100%|██████████| 483/483 [00:01<00:00, 335.87it/s]\n"
     ]
    },
    {
     "name": "stdout",
     "output_type": "stream",
     "text": [
      "[2024-05-17 16:11:13] Epoch 9/10\n",
      "4342/4342 [==============================] loss: 0.1822 - acc: 0.9233 - val_loss: 0.1742 - val_acc: 0.9279 - lr: 0.0001\n",
      "Epoch: 10: Is model in train mode? True\n"
     ]
    },
    {
     "name": "stderr",
     "output_type": "stream",
     "text": [
      "100%|██████████| 4342/4342 [00:44<00:00, 97.17it/s] \n",
      "100%|██████████| 483/483 [00:01<00:00, 427.25it/s]\n",
      "100%|██████████| 483/483 [00:01<00:00, 337.02it/s]\n"
     ]
    },
    {
     "name": "stdout",
     "output_type": "stream",
     "text": [
      "[2024-05-17 16:12:01] Epoch 10/10\n",
      "4342/4342 [==============================] loss: 0.1783 - acc: 0.9254 - val_loss: 0.1742 - val_acc: 0.9279 - lr: 0.0001\n"
     ]
    },
    {
     "data": {
      "image/png": "[encoded data removed]",
      "text/plain": [
       "<Figure size 640x480 with 2 Axes>"
      ]
     },
     "metadata": {},
     "output_type": "display_data"
    },
    {
     "name": "stderr",
     "output_type": "stream",
     "text": [
      "100%|██████████| 1207/1207 [00:03<00:00, 395.57it/s]\n",
      "100%|██████████| 1207/1207 [00:03<00:00, 343.93it/s]\n"
     ]
    },
    {
     "name": "stdout",
     "output_type": "stream",
     "text": [
      "\n",
      "test_loss: 0.1722, test_acc: 0.9280\n",
      "\n"
     ]
    }
   ],
   "source": [
    "with open(DATA_PATH, 'rb') as f:\n",
    "    data = json.load(f)\n",
    "mapping = data['mapping']\n",
    "NUM_CLASSES = len(mapping)\n",
    "\n",
    "X_train, X_val, X_test, y_train, y_val, y_test, files_train, files_val, files_test = get_data_splits(DATA_PATH)\n",
    "\n",
    "print(f\"X_train shape: {X_train.shape}, y_train shape: {y_train.shape}\")\n",
    "\n",
    "# build the model\n",
    "pt_model = build_pt_model(NUM_CLASSES)\n",
    "\n",
    "# train the model\n",
    "pt_model, pt_history = train_pt_model(\n",
    "    pt_model, X_train, y_train, X_val=X_val, y_val=y_val,\n",
    "    epochs=EPOCHS, batch_size=BATCH_SIZE, learning_rate=LEARNING_RATE\n",
    ")\n",
    "\n",
    "# plot history\n",
    "plot_history(pt_history)\n",
    "\n",
    "# evaluate the model on test data\n",
    "eval_pt_model(pt_model, torch.nn.CrossEntropyLoss(), X_test, y_test, files_test, mapping=mapping)\n",
    "\n",
    "# save the model\n",
    "scripted_model = torch.jit.script(pt_model)\n",
    "scripted_model.save(SAVED_MODEL_PATH)"
   ]
  },
  {
   "cell_type": "code",
   "execution_count": 209,
   "metadata": {},
   "outputs": [
    {
     "name": "stderr",
     "output_type": "stream",
     "text": [
      "100%|██████████| 1207/1207 [00:03<00:00, 375.36it/s]"
     ]
    },
    {
     "name": "stdout",
     "output_type": "stream",
     "text": [
      "              precision    recall  f1-score   support\n",
      "\n",
      "           0       0.91      0.92      0.92     16298\n",
      "           1       0.94      0.93      0.94     22295\n",
      "\n",
      "    accuracy                           0.93     38593\n",
      "   macro avg       0.93      0.93      0.93     38593\n",
      "weighted avg       0.93      0.93      0.93     38593\n",
      "\n"
     ]
    },
    {
     "name": "stderr",
     "output_type": "stream",
     "text": [
      "\n"
     ]
    }
   ],
   "source": [
    "# get recall, F1, and precision\n",
    "from sklearn.metrics import classification_report\n",
    "\n",
    "y_pred = predict(pt_model, prepare_pt_dataloader(X_test, y_test, batch_size=32, shuffle=False))\n",
    "print(classification_report(y_test, y_pred, zero_division=0))"
   ]
  },
  {
   "cell_type": "code",
   "execution_count": 210,
   "metadata": {},
   "outputs": [
    {
     "data": {
      "image/png": "[encoded data removed]",
      "text/plain": [
       "<Figure size 640x480 with 1 Axes>"
      ]
     },
     "metadata": {},
     "output_type": "display_data"
    }
   ],
   "source": [
    "# AUC-ROC\n",
    "from sklearn.metrics import roc_auc_score\n",
    "from sklearn.preprocessing import label_binarize\n",
    "\n",
    "y_test_bin = label_binarize(y_test, classes=[0, 1, 2, 3, 4, 5, 6, 7, 8, 9])\n",
    "y_pred_bin = label_binarize(y_pred, classes=[0, 1, 2, 3, 4, 5, 6, 7, 8, 9])\n",
    "\n",
    "roc_auc_score(y_test_bin, y_pred_bin, average='micro')\n",
    "\n",
    "# ROC curve\n",
    "from sklearn.metrics import roc_curve\n",
    "import matplotlib.pyplot as plt\n",
    "\n",
    "fpr = dict()\n",
    "tpr = dict()\n",
    "roc_auc = dict()\n",
    "for i in range(NUM_CLASSES):\n",
    "    fpr[i], tpr[i], _ = roc_curve(y_test_bin[:, i], y_pred_bin[:, i])\n",
    "    roc_auc[i] = roc_auc_score(y_test_bin[:, i], y_pred_bin[:, i])\n",
    "\n",
    "plt.figure()\n",
    "lw = 2\n",
    "for i in range(NUM_CLASSES):\n",
    "    plt.plot(fpr[i], tpr[i], lw=lw, label=f'ROC curve of class {i} (area = {roc_auc[i]:0.2f})')\n",
    "plt.plot([0, 1], [0, 1], color='navy', lw=lw, linestyle='--')\n",
    "plt.xlim([0.0, 1.0])\n",
    "plt.ylim([0.0, 1.05])\n",
    "plt.xlabel('False Positive Rate')\n",
    "plt.ylabel('True Positive Rate')\n",
    "plt.title('Receiver Operating Characteristic')\n",
    "plt.legend(loc=\"lower right\")\n",
    "plt.show()\n"
   ]
  }
 ],
 "metadata": {
  "kernelspec": {
   "display_name": ".venv",
   "language": "python",
   "name": "python3"
  },
  "language_info": {
   "codemirror_mode": {
    "name": "ipython",
    "version": 3
   },
   "file_extension": ".py",
   "mimetype": "text/x-python",
   "name": "python",
   "nbconvert_exporter": "python",
   "pygments_lexer": "ipython3",
   "version": "3.11.2"
  }
 },
 "nbformat": 4,
 "nbformat_minor": 2
}
