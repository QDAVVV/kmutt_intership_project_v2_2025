{
 "cells": [
  {
   "cell_type": "code",
   "execution_count": 1,
   "metadata": {},
   "outputs": [],
   "source": [
    "# import os\n",
    "# os.chdir('/home/hugo-dev/esirem-dev/4a/kmutt/kmutt_v2')"
   ]
  },
  {
   "cell_type": "code",
   "execution_count": 2,
   "metadata": {},
   "outputs": [],
   "source": [
    "import json\n",
    "import matplotlib.pyplot as plt\n",
    "import numpy as np\n",
    "import torch\n",
    "import torch.nn as nn\n",
    "import torch.nn.functional as F\n",
    "import torch.optim as optim\n",
    "from datetime import datetime\n",
    "from sklearn.model_selection import train_test_split, KFold\n",
    "from tqdm import tqdm"
   ]
  },
  {
   "cell_type": "code",
   "execution_count": 3,
   "metadata": {},
   "outputs": [],
   "source": [
    "DATA_PATH = '/Users/hugog/hugo-dev/esirem-dev/4a/kmutt/kmutt_intership_project_v2/data/data_25ms_h=50%_16mfcc_DPR-HRK.json'\n",
    "SAVED_MODEL_PATH = './models/cnn2d/model.pt'\n",
    "EPOCHS = 10\n",
    "BATCH_SIZE = 32\n",
    "PATIENCE = 5\n",
    "LEARNING_RATE = 0.0001"
   ]
  },
  {
   "cell_type": "code",
   "execution_count": 4,
   "metadata": {},
   "outputs": [],
   "source": [
    "def get_data_splits(data_path: str, test_size: float = 0.05, val_size: float = 0.1, n_splits: int = 5):\n",
    "    # read data from .json file\n",
    "    with open(data_path, 'rb') as f:\n",
    "        data = json.load(f)\n",
    "    X, y, files = np.array(data['mfcc']), np.array(data['labels']), np.array(data['files'])\n",
    "\n",
    "    # create train/test splits using KFold\n",
    "    kf = KFold(n_splits=n_splits, shuffle=True, random_state=23)\n",
    "\n",
    "    for train_index, test_index in kf.split(X):\n",
    "        X_train, X_test = X[train_index], X[test_index]\n",
    "        y_train, y_test = y[train_index], y[test_index]\n",
    "        files_train, files_test = files[train_index], files[test_index]\n",
    "\n",
    "        # create validation split from train set\n",
    "        X_train, X_val, y_train, y_val, files_train, files_val = train_test_split(\n",
    "            X_train, y_train, files_train, test_size=val_size, random_state=23)\n",
    "\n",
    "        # convert inputs from 2D to 3D arrays (number of segments, number of features) -&gt; (number of segments, number of features, 1)\n",
    "        X_train = X_train[..., np.newaxis]\n",
    "        X_val = X_val[..., np.newaxis]\n",
    "        X_test = X_test[..., np.newaxis]\n",
    "\n",
    "        return X_train, X_val, X_test, y_train, y_val, y_test, files_train, files_val, files_test"
   ]
  },
  {
   "cell_type": "code",
   "execution_count": 5,
   "metadata": {},
   "outputs": [],
   "source": [
    "def plot_history(history):\n",
    "    r\"\"\"Plots accuracy/loss for training/validation set as a function of the epochs.\n",
    "\n",
    "    Args:\n",
    "        history:\n",
    "            Training history of the model.\n",
    "\n",
    "    Returns:\n",
    "        : matplotlib figure\n",
    "    \"\"\"\n",
    "    fig, axs = plt.subplots(2)\n",
    "\n",
    "    # create accuracy subplot\n",
    "    axs[0].plot(history['acc'] if isinstance(history, dict) else history.history['acc'], label='acc')\n",
    "    axs[0].plot(history['val_acc'] if isinstance(history, dict) else history.history['val_acc'], label='val_acc')\n",
    "    axs[0].set_ylabel('Accuracy')\n",
    "    axs[0].legend(loc='lower right')\n",
    "    axs[0].set_title('Accuracy evaluation')\n",
    "\n",
    "    # create loss subplot\n",
    "    axs[1].plot(history['loss'] if isinstance(history, dict) else history.history['loss'], label='loss')\n",
    "    axs[1].plot(history['val_loss'] if isinstance(history, dict) else history.history['val_loss'], label='val_loss')\n",
    "    axs[1].set_xlabel('Epoch')\n",
    "    axs[1].set_ylabel('Loss')\n",
    "    axs[1].legend(loc='upper right')\n",
    "    axs[1].set_title('Loss evaluation')\n",
    "    plt.show()"
   ]
  },
  {
   "cell_type": "code",
   "execution_count": 6,
   "metadata": {},
   "outputs": [],
   "source": [
    "def get_loss(\n",
    "        model: torch.nn.Module,\n",
    "        loss_fn,\n",
    "        dataloader: torch.utils.data.DataLoader,\n",
    "        device=torch.device('cuda' if torch.cuda.is_available() else 'cpu')\n",
    "):\n",
    "    model.eval()  # set the module in evaluation mode\n",
    "    running_loss_per_epoch = 0.0\n",
    "    running_number_of_samples_per_epoch = 0\n",
    "    with torch.no_grad():\n",
    "        for data in tqdm(dataloader):\n",
    "            inputs, labels = data  # get the inputs; data is a list of [inputs, labels]\n",
    "            inputs, labels = inputs.to(device), labels.to(device)\n",
    "            outputs = model(inputs).to(device)\n",
    "            loss = loss_fn(outputs, labels)\n",
    "            running_loss_per_epoch += loss.item() * len(labels)\n",
    "            running_number_of_samples_per_epoch += len(labels)\n",
    "    return running_loss_per_epoch / running_number_of_samples_per_epoch"
   ]
  },
  {
   "cell_type": "code",
   "execution_count": 7,
   "metadata": {},
   "outputs": [],
   "source": [
    "def get_accuracy(\n",
    "        model: torch.nn.Module,\n",
    "        dataloader: torch.utils.data.DataLoader,\n",
    "        device=torch.device('cuda' if torch.cuda.is_available() else 'cpu')\n",
    "):\n",
    "    model.eval()  # set the module in evaluation mode\n",
    "    running_correct_samples_per_epoch = 0\n",
    "    running_number_of_samples_per_epoch = 0\n",
    "    with torch.no_grad():\n",
    "        for data in tqdm(dataloader):\n",
    "            inputs, labels = data  # get the inputs; data is a list of [inputs, labels]\n",
    "            inputs, labels = inputs.to(device), labels.to(device)\n",
    "            y_pred = torch.argmax(model(inputs), dim=1)\n",
    "            number_of_correct_predictions = sum(y_pred == labels).item()\n",
    "            running_correct_samples_per_epoch += number_of_correct_predictions\n",
    "            running_number_of_samples_per_epoch += len(labels)\n",
    "    return running_correct_samples_per_epoch / running_number_of_samples_per_epoch"
   ]
  },
  {
   "cell_type": "code",
   "execution_count": 8,
   "metadata": {},
   "outputs": [],
   "source": [
    "def predict(\n",
    "        model: torch.nn.Module,\n",
    "        dataloader: torch.utils.data.DataLoader,\n",
    "        device=torch.device('cuda' if torch.cuda.is_available() else 'cpu')\n",
    "):\n",
    "    model.eval()  # set the module in evaluation mode\n",
    "    test_preds = []\n",
    "    with torch.no_grad():\n",
    "        for data in tqdm(dataloader):\n",
    "            inputs, y = data  # get the inputs; data is a list of [inputs, labels]\n",
    "            inputs, y = inputs.to(device), y.to(device)\n",
    "            y_pred = torch.argmax(model(inputs), dim=1)\n",
    "            test_preds.extend(list(y_pred.detach().numpy()))\n",
    "    return np.array(test_preds)"
   ]
  },
  {
   "cell_type": "code",
   "execution_count": 9,
   "metadata": {},
   "outputs": [],
   "source": [
    "def prepare_pt_dataloader(X: np.ndarray, y: np.ndarray, batch_size: int = 32, shuffle: bool = False):\n",
    "    # torch wants the input in NCHW (instead of NHWC format)\n",
    "    dataset = torch.utils.data.TensorDataset(\n",
    "        torch.tensor(X, dtype=torch.float32).permute(0, 3, 1, 2), torch.tensor(y, dtype=torch.int64))\n",
    "    dataloader = torch.utils.data.DataLoader(dataset, batch_size=batch_size, shuffle=shuffle)\n",
    "    return dataloader"
   ]
  },
  {
   "cell_type": "code",
   "execution_count": 10,
   "metadata": {},
   "outputs": [],
   "source": [
    "class CNN(nn.Module):\n",
    "    def __init__(self, num_mfccs: int, num_classes: int):\n",
    "        super(CNN, self).__init__()\n",
    "        self.num_mfccs = num_mfccs\n",
    "\n",
    "        # Convolution layers\n",
    "        self.conv1 = nn.Conv2d(1, 64, kernel_size=(1, 3), padding=(0, 1))\n",
    "        self.conv2 = nn.Conv2d(64, 128, kernel_size=(1, 3), padding=(0, 1))\n",
    "        self.conv3 = nn.Conv2d(128, 256, kernel_size=(1, 3), padding=(0, 1))\n",
    "\n",
    "        # Batch normalization\n",
    "        self.bn1 = nn.BatchNorm2d(64)\n",
    "        self.bn2 = nn.BatchNorm2d(128)\n",
    "        self.bn3 = nn.BatchNorm2d(256)\n",
    "\n",
    "        # Calculate the size of the input to the fully connected layer\n",
    "        self._calculate_fc_input_size()\n",
    "\n",
    "        self.flatten = nn.Flatten()\n",
    "        self.fc1 = nn.Linear(self.fc_input_size, 128)\n",
    "        self.dropout = nn.Dropout(0.5)\n",
    "        self.fc2 = nn.Linear(128, num_classes)\n",
    "\n",
    "    def _calculate_fc_input_size(self):\n",
    "        # Simulate the forward pass to compute the size of the input to the fully connected layer\n",
    "        with torch.no_grad():\n",
    "            x = torch.zeros(1, 1, self.num_mfccs, 1)\n",
    "            x = self.conv1(x)\n",
    "            x = self.bn1(x)\n",
    "            x = self.conv2(x)\n",
    "            x = self.bn2(x)\n",
    "            x = self.conv3(x)\n",
    "            x = self.bn3(x)\n",
    "\n",
    "            self.fc_input_size = x.numel()\n",
    "\n",
    "    def forward(self, x):\n",
    "        x = self.conv1(x)\n",
    "        x = nn.ReLU()(x)\n",
    "        x = self.bn1(x)\n",
    "\n",
    "        x = self.conv2(x)\n",
    "        x = nn.ReLU()(x)\n",
    "        x = self.bn2(x)\n",
    "\n",
    "        x = self.conv3(x)\n",
    "        x = nn.ReLU()(x)\n",
    "        x = self.bn3(x)\n",
    "\n",
    "        x = self.flatten(x)\n",
    "        x = self.fc1(x)\n",
    "        x = self.dropout(x)\n",
    "        x = nn.ReLU()(x)\n",
    "        x = self.fc2(x)\n",
    "        return x"
   ]
  },
  {
   "cell_type": "code",
   "execution_count": 11,
   "metadata": {},
   "outputs": [],
   "source": [
    "class EarlyStopper:\n",
    "    def __init__(self, monitor: str = 'val_loss', min_delta: float = 0.0, patience: int = 1):\n",
    "        self.monitor = monitor\n",
    "        self.min_delta = min_delta\n",
    "        self.patience = patience\n",
    "        self.counter = 0\n",
    "        self.min_val_loss = float('inf')\n",
    "        self.max_val_acc = 0\n",
    "\n",
    "    def early_stop(self, val):\n",
    "        if self.monitor.endswith('loss'):\n",
    "            if val < self.min_val_loss:\n",
    "                self.min_val_loss = val\n",
    "                self.counter = 0\n",
    "            elif val > self.min_val_loss + self.min_delta:\n",
    "                self.counter += 1\n",
    "                if self.counter >= self.patience:\n",
    "                    return True\n",
    "            return False\n",
    "        elif self.monitor.endswith('acc'):\n",
    "            if val > self.max_val_acc:\n",
    "                self.max_val_acc = val\n",
    "                self.counter = 0\n",
    "            elif val < self.max_val_acc - self.min_delta:\n",
    "                self.counter += 1\n",
    "                if self.counter >= self.patience:\n",
    "                    return True\n",
    "            return False\n",
    "        else:\n",
    "            raise ValueError(f'The only recognized quantities to be monitored are: loss, acc')"
   ]
  },
  {
   "cell_type": "code",
   "execution_count": 12,
   "metadata": {},
   "outputs": [],
   "source": [
    "def build_pt_model(num_mfccs: int, num_classes: int):\n",
    "    model = CNN(num_mfccs, num_classes)\n",
    "    # print(torchinfo.summary(model, input_size=(BATCH_SIZE, 1, 44, 13)))\n",
    "    return model"
   ]
  },
  {
   "cell_type": "code",
   "execution_count": 13,
   "metadata": {},
   "outputs": [],
   "source": [
    "def train_pt_model(\n",
    "        model: torch.nn.Module,\n",
    "        X_train,\n",
    "        y_train,\n",
    "        X_val=None,\n",
    "        y_val=None,\n",
    "        epochs: int = 40,\n",
    "        patience: int = 5,\n",
    "        batch_size: int = 32,\n",
    "        learning_rate: float = 0.001\n",
    "):\n",
    "    optimizer = torch.optim.Adam(model.parameters(), lr=learning_rate, weight_decay=0.001)\n",
    "    loss_fn = torch.nn.CrossEntropyLoss()\n",
    "\n",
    "    train_dataloader = prepare_pt_dataloader(X_train, y_train, batch_size=batch_size, shuffle=True)\n",
    "    val_dataloader = prepare_pt_dataloader(X_val, y_val, batch_size=batch_size, shuffle=False)\n",
    "\n",
    "    early_stopper = EarlyStopper(monitor='val_acc', min_delta=0.01, patience=patience)\n",
    "\n",
    "    #  creating history of logs\n",
    "    history = {\n",
    "        'loss': [],\n",
    "        'acc': [],\n",
    "        'val_loss': [],\n",
    "        'val_acc': []\n",
    "    }\n",
    "\n",
    "    device = torch.device('cuda' if torch.cuda.is_available() else 'cpu')\n",
    "    for epoch in range(epochs):\n",
    "        model.train()  # set the module in training mode  (you should set this here inside the `range(epochs)` loop)\n",
    "        print(f'Epoch: {epoch+1}: Is model in train mode?', model.training)\n",
    "        running_loss_per_epoch = 0.0\n",
    "        running_number_of_correct_predictions_per_epoch = 0\n",
    "        running_number_of_samples_per_epoch = 0\n",
    "        for batch_idx, data in enumerate(tqdm(train_dataloader)):\n",
    "            optimizer.zero_grad()  # reset the gradients\n",
    "\n",
    "            inputs, labels = data  # get the inputs; data is a list of [inputs, labels]\n",
    "            inputs, labels = inputs.to(device), labels.to(device)\n",
    "\n",
    "            outputs = model(inputs).to(device)\n",
    "            loss = loss_fn(outputs, labels)\n",
    "\n",
    "            loss.backward()  # compute gradients during backpropagation\n",
    "            optimizer.step()  # update the params\n",
    "\n",
    "            # epoch statistics\n",
    "            y_pred = torch.argmax(outputs, dim=1).to(device)\n",
    "            running_loss_per_epoch += loss.item() * len(labels)\n",
    "            running_number_of_correct_predictions_per_epoch += sum(y_pred == labels).item()\n",
    "            running_number_of_samples_per_epoch += len(labels)\n",
    "\n",
    "        train_loss = running_loss_per_epoch / running_number_of_samples_per_epoch\n",
    "        train_acc = running_number_of_correct_predictions_per_epoch / running_number_of_samples_per_epoch\n",
    "        val_loss = get_loss(model, loss_fn, val_dataloader, device=device)\n",
    "        val_acc = get_accuracy(model, val_dataloader, device=device)\n",
    "\n",
    "        history['loss'].append(train_loss)\n",
    "        history['acc'].append(train_acc)\n",
    "        history['val_loss'].append(val_loss)\n",
    "        history['val_acc'].append(val_acc)\n",
    "\n",
    "        print(f\"[{datetime.now().strftime('%Y-%m-%d %H:%M:%S')}] \"\n",
    "              f\"Epoch {epoch+1}/{epochs}\\n\"\n",
    "              f\"{len(train_dataloader)}/{len(train_dataloader)} [==============================] \"\n",
    "              f\"loss: {train_loss:.4f} - acc: {train_acc:.4f} - \"\n",
    "              f\"val_loss: {val_loss:.4f} - val_acc: {val_acc:.4f} - lr: {optimizer.state_dict()['param_groups'][0]['lr']}\")\n",
    "\n",
    "        if early_stopper.early_stop(val_acc):\n",
    "            print(f'Early stopping criterion triggered: We did not have an increase in val_acc after {patience} epochs.')\n",
    "            break\n",
    "\n",
    "    return model, history"
   ]
  },
  {
   "cell_type": "code",
   "execution_count": 14,
   "metadata": {},
   "outputs": [],
   "source": [
    "def eval_pt_model(\n",
    "        model: torch.nn.Module,\n",
    "        loss_fn,\n",
    "        X_test,\n",
    "        y_test,\n",
    "        files_test,\n",
    "        mapping=None,\n",
    "        device=torch.device('cuda' if torch.cuda.is_available() else 'cpu')\n",
    "):\n",
    "    test_dataloader = prepare_pt_dataloader(X_test, y_test, batch_size=32, shuffle=False)\n",
    "\n",
    "    # get accumulated statistics\n",
    "    test_loss = get_loss(model, loss_fn, test_dataloader, device=device)\n",
    "    test_acc = get_accuracy(model, test_dataloader, device=device)\n",
    "    print(f'\\ntest_loss: {test_loss:.4f}, test_acc: {test_acc:.4f}\\n')"
   ]
  },
  {
   "cell_type": "code",
   "execution_count": 15,
   "metadata": {},
   "outputs": [
    {
     "name": "stdout",
     "output_type": "stream",
     "text": [
      "X_train shape: (286315, 1, 16, 1), y_train shape: (286315,)\n",
      "Epoch: 1: Is model in train mode? True\n"
     ]
    },
    {
     "name": "stderr",
     "output_type": "stream",
     "text": [
      " 43%|████▎     | 3824/8948 [00:52<01:10, 72.55it/s]\n"
     ]
    },
    {
     "ename": "KeyboardInterrupt",
     "evalue": "",
     "output_type": "error",
     "traceback": [
      "\u001b[0;31m---------------------------------------------------------------------------\u001b[0m",
      "\u001b[0;31mKeyboardInterrupt\u001b[0m                         Traceback (most recent call last)",
      "Cell \u001b[0;32mIn[15], line 16\u001b[0m\n\u001b[1;32m     13\u001b[0m pt_model \u001b[38;5;241m=\u001b[39m build_pt_model(NUM_MFCCS, NUM_CLASSES)\n\u001b[1;32m     15\u001b[0m \u001b[38;5;66;03m# train the model\u001b[39;00m\n\u001b[0;32m---> 16\u001b[0m pt_model, pt_history \u001b[38;5;241m=\u001b[39m \u001b[43mtrain_pt_model\u001b[49m\u001b[43m(\u001b[49m\n\u001b[1;32m     17\u001b[0m \u001b[43m    \u001b[49m\u001b[43mpt_model\u001b[49m\u001b[43m,\u001b[49m\u001b[43m \u001b[49m\u001b[43mX_train\u001b[49m\u001b[43m,\u001b[49m\u001b[43m \u001b[49m\u001b[43my_train\u001b[49m\u001b[43m,\u001b[49m\u001b[43m \u001b[49m\u001b[43mX_val\u001b[49m\u001b[38;5;241;43m=\u001b[39;49m\u001b[43mX_val\u001b[49m\u001b[43m,\u001b[49m\u001b[43m \u001b[49m\u001b[43my_val\u001b[49m\u001b[38;5;241;43m=\u001b[39;49m\u001b[43my_val\u001b[49m\u001b[43m,\u001b[49m\n\u001b[1;32m     18\u001b[0m \u001b[43m    \u001b[49m\u001b[43mepochs\u001b[49m\u001b[38;5;241;43m=\u001b[39;49m\u001b[43mEPOCHS\u001b[49m\u001b[43m,\u001b[49m\u001b[43m \u001b[49m\u001b[43mbatch_size\u001b[49m\u001b[38;5;241;43m=\u001b[39;49m\u001b[43mBATCH_SIZE\u001b[49m\u001b[43m,\u001b[49m\u001b[43m \u001b[49m\u001b[43mlearning_rate\u001b[49m\u001b[38;5;241;43m=\u001b[39;49m\u001b[43mLEARNING_RATE\u001b[49m\n\u001b[1;32m     19\u001b[0m \u001b[43m)\u001b[49m\n\u001b[1;32m     21\u001b[0m \u001b[38;5;66;03m# plot history\u001b[39;00m\n\u001b[1;32m     22\u001b[0m plot_history(pt_history)\n",
      "Cell \u001b[0;32mIn[13], line 44\u001b[0m, in \u001b[0;36mtrain_pt_model\u001b[0;34m(model, X_train, y_train, X_val, y_val, epochs, patience, batch_size, learning_rate)\u001b[0m\n\u001b[1;32m     41\u001b[0m outputs \u001b[38;5;241m=\u001b[39m model(inputs)\u001b[38;5;241m.\u001b[39mto(device)\n\u001b[1;32m     42\u001b[0m loss \u001b[38;5;241m=\u001b[39m loss_fn(outputs, labels)\n\u001b[0;32m---> 44\u001b[0m \u001b[43mloss\u001b[49m\u001b[38;5;241;43m.\u001b[39;49m\u001b[43mbackward\u001b[49m\u001b[43m(\u001b[49m\u001b[43m)\u001b[49m  \u001b[38;5;66;03m# compute gradients during backpropagation\u001b[39;00m\n\u001b[1;32m     45\u001b[0m optimizer\u001b[38;5;241m.\u001b[39mstep()  \u001b[38;5;66;03m# update the params\u001b[39;00m\n\u001b[1;32m     47\u001b[0m \u001b[38;5;66;03m# epoch statistics\u001b[39;00m\n",
      "File \u001b[0;32m~/hugo-dev/esirem-dev/4a/kmutt/kmutt_intership_project_v2/.venv/lib/python3.12/site-packages/torch/_tensor.py:525\u001b[0m, in \u001b[0;36mTensor.backward\u001b[0;34m(self, gradient, retain_graph, create_graph, inputs)\u001b[0m\n\u001b[1;32m    515\u001b[0m \u001b[38;5;28;01mif\u001b[39;00m has_torch_function_unary(\u001b[38;5;28mself\u001b[39m):\n\u001b[1;32m    516\u001b[0m     \u001b[38;5;28;01mreturn\u001b[39;00m handle_torch_function(\n\u001b[1;32m    517\u001b[0m         Tensor\u001b[38;5;241m.\u001b[39mbackward,\n\u001b[1;32m    518\u001b[0m         (\u001b[38;5;28mself\u001b[39m,),\n\u001b[0;32m   (...)\u001b[0m\n\u001b[1;32m    523\u001b[0m         inputs\u001b[38;5;241m=\u001b[39minputs,\n\u001b[1;32m    524\u001b[0m     )\n\u001b[0;32m--> 525\u001b[0m \u001b[43mtorch\u001b[49m\u001b[38;5;241;43m.\u001b[39;49m\u001b[43mautograd\u001b[49m\u001b[38;5;241;43m.\u001b[39;49m\u001b[43mbackward\u001b[49m\u001b[43m(\u001b[49m\n\u001b[1;32m    526\u001b[0m \u001b[43m    \u001b[49m\u001b[38;5;28;43mself\u001b[39;49m\u001b[43m,\u001b[49m\u001b[43m \u001b[49m\u001b[43mgradient\u001b[49m\u001b[43m,\u001b[49m\u001b[43m \u001b[49m\u001b[43mretain_graph\u001b[49m\u001b[43m,\u001b[49m\u001b[43m \u001b[49m\u001b[43mcreate_graph\u001b[49m\u001b[43m,\u001b[49m\u001b[43m \u001b[49m\u001b[43minputs\u001b[49m\u001b[38;5;241;43m=\u001b[39;49m\u001b[43minputs\u001b[49m\n\u001b[1;32m    527\u001b[0m \u001b[43m\u001b[49m\u001b[43m)\u001b[49m\n",
      "File \u001b[0;32m~/hugo-dev/esirem-dev/4a/kmutt/kmutt_intership_project_v2/.venv/lib/python3.12/site-packages/torch/autograd/__init__.py:267\u001b[0m, in \u001b[0;36mbackward\u001b[0;34m(tensors, grad_tensors, retain_graph, create_graph, grad_variables, inputs)\u001b[0m\n\u001b[1;32m    262\u001b[0m     retain_graph \u001b[38;5;241m=\u001b[39m create_graph\n\u001b[1;32m    264\u001b[0m \u001b[38;5;66;03m# The reason we repeat the same comment below is that\u001b[39;00m\n\u001b[1;32m    265\u001b[0m \u001b[38;5;66;03m# some Python versions print out the first line of a multi-line function\u001b[39;00m\n\u001b[1;32m    266\u001b[0m \u001b[38;5;66;03m# calls in the traceback and some print out the last line\u001b[39;00m\n\u001b[0;32m--> 267\u001b[0m \u001b[43m_engine_run_backward\u001b[49m\u001b[43m(\u001b[49m\n\u001b[1;32m    268\u001b[0m \u001b[43m    \u001b[49m\u001b[43mtensors\u001b[49m\u001b[43m,\u001b[49m\n\u001b[1;32m    269\u001b[0m \u001b[43m    \u001b[49m\u001b[43mgrad_tensors_\u001b[49m\u001b[43m,\u001b[49m\n\u001b[1;32m    270\u001b[0m \u001b[43m    \u001b[49m\u001b[43mretain_graph\u001b[49m\u001b[43m,\u001b[49m\n\u001b[1;32m    271\u001b[0m \u001b[43m    \u001b[49m\u001b[43mcreate_graph\u001b[49m\u001b[43m,\u001b[49m\n\u001b[1;32m    272\u001b[0m \u001b[43m    \u001b[49m\u001b[43minputs\u001b[49m\u001b[43m,\u001b[49m\n\u001b[1;32m    273\u001b[0m \u001b[43m    \u001b[49m\u001b[43mallow_unreachable\u001b[49m\u001b[38;5;241;43m=\u001b[39;49m\u001b[38;5;28;43;01mTrue\u001b[39;49;00m\u001b[43m,\u001b[49m\n\u001b[1;32m    274\u001b[0m \u001b[43m    \u001b[49m\u001b[43maccumulate_grad\u001b[49m\u001b[38;5;241;43m=\u001b[39;49m\u001b[38;5;28;43;01mTrue\u001b[39;49;00m\u001b[43m,\u001b[49m\n\u001b[1;32m    275\u001b[0m \u001b[43m\u001b[49m\u001b[43m)\u001b[49m\n",
      "File \u001b[0;32m~/hugo-dev/esirem-dev/4a/kmutt/kmutt_intership_project_v2/.venv/lib/python3.12/site-packages/torch/autograd/graph.py:744\u001b[0m, in \u001b[0;36m_engine_run_backward\u001b[0;34m(t_outputs, *args, **kwargs)\u001b[0m\n\u001b[1;32m    742\u001b[0m     unregister_hooks \u001b[38;5;241m=\u001b[39m _register_logging_hooks_on_whole_graph(t_outputs)\n\u001b[1;32m    743\u001b[0m \u001b[38;5;28;01mtry\u001b[39;00m:\n\u001b[0;32m--> 744\u001b[0m     \u001b[38;5;28;01mreturn\u001b[39;00m \u001b[43mVariable\u001b[49m\u001b[38;5;241;43m.\u001b[39;49m\u001b[43m_execution_engine\u001b[49m\u001b[38;5;241;43m.\u001b[39;49m\u001b[43mrun_backward\u001b[49m\u001b[43m(\u001b[49m\u001b[43m  \u001b[49m\u001b[38;5;66;43;03m# Calls into the C++ engine to run the backward pass\u001b[39;49;00m\n\u001b[1;32m    745\u001b[0m \u001b[43m        \u001b[49m\u001b[43mt_outputs\u001b[49m\u001b[43m,\u001b[49m\u001b[43m \u001b[49m\u001b[38;5;241;43m*\u001b[39;49m\u001b[43margs\u001b[49m\u001b[43m,\u001b[49m\u001b[43m \u001b[49m\u001b[38;5;241;43m*\u001b[39;49m\u001b[38;5;241;43m*\u001b[39;49m\u001b[43mkwargs\u001b[49m\n\u001b[1;32m    746\u001b[0m \u001b[43m    \u001b[49m\u001b[43m)\u001b[49m  \u001b[38;5;66;03m# Calls into the C++ engine to run the backward pass\u001b[39;00m\n\u001b[1;32m    747\u001b[0m \u001b[38;5;28;01mfinally\u001b[39;00m:\n\u001b[1;32m    748\u001b[0m     \u001b[38;5;28;01mif\u001b[39;00m attach_logging_hooks:\n",
      "\u001b[0;31mKeyboardInterrupt\u001b[0m: "
     ]
    }
   ],
   "source": [
    "with open(DATA_PATH, 'rb') as f:\n",
    "    data = json.load(f)\n",
    "mapping = data['mapping']\n",
    "NUM_CLASSES = len(mapping)\n",
    "\n",
    "X_train, X_val, X_test, y_train, y_val, y_test, files_train, files_val, files_test = get_data_splits(DATA_PATH)\n",
    "\n",
    "NUM_MFCCS = X_train.shape[2]\n",
    "\n",
    "print(f\"X_train shape: {X_train.shape}, y_train shape: {y_train.shape}\")\n",
    "\n",
    "# build the model\n",
    "pt_model = build_pt_model(NUM_MFCCS, NUM_CLASSES)\n",
    "\n",
    "# train the model\n",
    "pt_model, pt_history = train_pt_model(\n",
    "    pt_model, X_train, y_train, X_val=X_val, y_val=y_val,\n",
    "    epochs=EPOCHS, batch_size=BATCH_SIZE, learning_rate=LEARNING_RATE\n",
    ")\n",
    "\n",
    "# plot history\n",
    "plot_history(pt_history)\n",
    "\n",
    "# evaluate the model on test data\n",
    "eval_pt_model(pt_model, torch.nn.CrossEntropyLoss(), X_test, y_test, files_test, mapping=mapping)\n",
    "\n",
    "# save the model\n",
    "# scripted_model = torch.jit.script(pt_model)\n",
    "# scripted_model.save(SAVED_MODEL_PATH)"
   ]
  },
  {
   "cell_type": "code",
   "execution_count": null,
   "metadata": {},
   "outputs": [
    {
     "name": "stderr",
     "output_type": "stream",
     "text": [
      "100%|██████████| 3501/3501 [01:06<00:00, 52.27it/s]\n"
     ]
    },
    {
     "name": "stdout",
     "output_type": "stream",
     "text": [
      "              precision    recall  f1-score   support\n",
      "\n",
      "           0       0.88      0.73      0.80     32546\n",
      "           1       0.90      0.96      0.93     79479\n",
      "\n",
      "    accuracy                           0.89    112025\n",
      "   macro avg       0.89      0.85      0.86    112025\n",
      "weighted avg       0.89      0.89      0.89    112025\n",
      "\n"
     ]
    }
   ],
   "source": [
    "# get recall, F1, and precision\n",
    "from sklearn.metrics import classification_report\n",
    "\n",
    "y_pred = predict(pt_model, prepare_pt_dataloader(X_test, y_test, batch_size=32, shuffle=False))\n",
    "print(classification_report(y_test, y_pred, zero_division=0))"
   ]
  },
  {
   "cell_type": "code",
   "execution_count": null,
   "metadata": {},
   "outputs": [
    {
     "data": {
      "image/png": "[encoded data removed]",
      "text/plain": [
       "<Figure size 640x480 with 1 Axes>"
      ]
     },
     "metadata": {},
     "output_type": "display_data"
    }
   ],
   "source": [
    "# AUC-ROC\n",
    "from sklearn.metrics import roc_auc_score\n",
    "from sklearn.preprocessing import label_binarize\n",
    "\n",
    "y_test_bin = label_binarize(y_test, classes=[0, 1, 2, 3, 4, 5, 6, 7, 8, 9])\n",
    "y_pred_bin = label_binarize(y_pred, classes=[0, 1, 2, 3, 4, 5, 6, 7, 8, 9])\n",
    "\n",
    "roc_auc_score(y_test_bin, y_pred_bin, average='micro')\n",
    "\n",
    "# ROC curve\n",
    "from sklearn.metrics import roc_curve\n",
    "import matplotlib.pyplot as plt\n",
    "\n",
    "fpr = dict()\n",
    "tpr = dict()\n",
    "roc_auc = dict()\n",
    "for i in range(NUM_CLASSES):\n",
    "    fpr[i], tpr[i], _ = roc_curve(y_test_bin[:, i], y_pred_bin[:, i])\n",
    "    roc_auc[i] = roc_auc_score(y_test_bin[:, i], y_pred_bin[:, i])\n",
    "\n",
    "plt.figure()\n",
    "lw = 2\n",
    "for i in range(NUM_CLASSES):\n",
    "    plt.plot(fpr[i], tpr[i], lw=lw, label=f'ROC curve of class {i} (area = {roc_auc[i]:0.2f})')\n",
    "plt.plot([0, 1], [0, 1], color='navy', lw=lw, linestyle='--')\n",
    "plt.xlim([0.0, 1.0])\n",
    "plt.ylim([0.0, 1.05])\n",
    "plt.xlabel('False Positive Rate')\n",
    "plt.ylabel('True Positive Rate')\n",
    "plt.title('Receiver Operating Characteristic')\n",
    "plt.legend(loc=\"lower right\")\n",
    "plt.show()\n"
   ]
  },
  {
   "cell_type": "code",
   "execution_count": null,
   "metadata": {},
   "outputs": [
    {
     "data": {
      "image/png": "[encoded data removed]",
      "text/plain": [
       "<Figure size 1000x700 with 2 Axes>"
      ]
     },
     "metadata": {},
     "output_type": "display_data"
    },
    {
     "data": {
      "text/plain": [
       "0.8460526439080986"
      ]
     },
     "execution_count": 36,
     "metadata": {},
     "output_type": "execute_result"
    }
   ],
   "source": [
    "# confusion matrix and roc value\n",
    "from sklearn.metrics import confusion_matrix\n",
    "import seaborn as sns\n",
    "\n",
    "cm = confusion_matrix(y_test, y_pred)\n",
    "plt.figure(figsize=(10, 7))\n",
    "sns.heatmap(cm, annot=True, fmt='d', cmap='Blues', xticklabels=mapping, yticklabels=mapping)\n",
    "plt.xlabel('Predicted')\n",
    "plt.ylabel('Truth')\n",
    "plt.title('Confusion Matrix')\n",
    "plt.show()\n",
    "\n",
    "# print roc value\n",
    "from sklearn.metrics import roc_auc_score\n",
    "roc_auc_score(y_test, y_pred, multi_class='ovr')"
   ]
  }
 ],
 "metadata": {
  "kernelspec": {
   "display_name": ".venv",
   "language": "python",
   "name": "python3"
  },
  "language_info": {
   "codemirror_mode": {
    "name": "ipython",
    "version": 3
   },
   "file_extension": ".py",
   "mimetype": "text/x-python",
   "name": "python",
   "nbconvert_exporter": "python",
   "pygments_lexer": "ipython3",
   "version": "3.12.3"
  }
 },
 "nbformat": 4,
 "nbformat_minor": 2
}
