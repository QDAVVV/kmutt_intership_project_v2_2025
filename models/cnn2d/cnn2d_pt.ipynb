{
 "cells": [
  {
   "cell_type": "code",
   "execution_count": 1,
   "metadata": {},
   "outputs": [],
   "source": [
    "import os\n",
    "os.chdir('/home/hugo-dev/esirem-dev/4a/kmutt/kmutt_v2')"
   ]
  },
  {
   "cell_type": "code",
   "execution_count": 2,
   "metadata": {},
   "outputs": [],
   "source": [
    "import json\n",
    "import matplotlib.pyplot as plt\n",
    "import numpy as np\n",
    "import torch\n",
    "import torch.nn as nn\n",
    "import torch.nn.functional as F\n",
    "import torch.optim as optim\n",
    "from datetime import datetime\n",
    "from sklearn.model_selection import train_test_split\n",
    "from tqdm import tqdm"
   ]
  },
  {
   "cell_type": "code",
   "execution_count": 3,
   "metadata": {},
   "outputs": [],
   "source": [
    "DATA_PATH = './data/data_25ms_h=50%_16mfcc_RMT-DPR+HRK.json'\n",
    "SAVED_MODEL_PATH = './models/cnn2d/model.pt'\n",
    "EPOCHS = 10\n",
    "BATCH_SIZE = 32\n",
    "PATIENCE = 5\n",
    "LEARNING_RATE = 0.0001"
   ]
  },
  {
   "cell_type": "code",
   "execution_count": 4,
   "metadata": {},
   "outputs": [],
   "source": [
    "def get_data_splits(data_path: str, test_size: float = 0.05, val_size: float = 0.1):\n",
    "    # read data from .json file\n",
    "    with open(data_path, 'rb') as f:\n",
    "        data = json.load(f)\n",
    "    X, y, files = np.array(data['mfcc']), np.array(data['labels']), np.array(data['files'])\n",
    "\n",
    "    # create train/validation/test splits\n",
    "    X_train, X_test, y_train, y_test, files_train, files_test = train_test_split(\n",
    "        X, y, files, test_size=test_size, random_state=23)\n",
    "    X_train, X_val, y_train, y_val, files_train, files_val = train_test_split(\n",
    "        X_train, y_train, files_train, test_size=val_size, random_state=23)\n",
    "\n",
    "    # convert inputs from 2D to 3D arrays (number of segments, 13) -> (number of segments, 13, 1)\n",
    "    X_train = X_train[..., np.newaxis]\n",
    "    X_val = X_val[..., np.newaxis]\n",
    "    X_test = X_test[..., np.newaxis]\n",
    "    return X_train, X_val, X_test, y_train, y_val, y_test, files_train, files_val, files_test"
   ]
  },
  {
   "cell_type": "code",
   "execution_count": 5,
   "metadata": {},
   "outputs": [],
   "source": [
    "def plot_history(history):\n",
    "    r\"\"\"Plots accuracy/loss for training/validation set as a function of the epochs.\n",
    "\n",
    "    Args:\n",
    "        history:\n",
    "            Training history of the model.\n",
    "\n",
    "    Returns:\n",
    "        : matplotlib figure\n",
    "    \"\"\"\n",
    "    fig, axs = plt.subplots(2)\n",
    "\n",
    "    # create accuracy subplot\n",
    "    axs[0].plot(history['acc'] if isinstance(history, dict) else history.history['acc'], label='acc')\n",
    "    axs[0].plot(history['val_acc'] if isinstance(history, dict) else history.history['val_acc'], label='val_acc')\n",
    "    axs[0].set_ylabel('Accuracy')\n",
    "    axs[0].legend(loc='lower right')\n",
    "    axs[0].set_title('Accuracy evaluation')\n",
    "\n",
    "    # create loss subplot\n",
    "    axs[1].plot(history['loss'] if isinstance(history, dict) else history.history['loss'], label='loss')\n",
    "    axs[1].plot(history['val_loss'] if isinstance(history, dict) else history.history['val_loss'], label='val_loss')\n",
    "    axs[1].set_xlabel('Epoch')\n",
    "    axs[1].set_ylabel('Loss')\n",
    "    axs[1].legend(loc='upper right')\n",
    "    axs[1].set_title('Loss evaluation')\n",
    "    plt.show()"
   ]
  },
  {
   "cell_type": "code",
   "execution_count": 6,
   "metadata": {},
   "outputs": [],
   "source": [
    "def get_loss(\n",
    "        model: torch.nn.Module,\n",
    "        loss_fn,\n",
    "        dataloader: torch.utils.data.DataLoader,\n",
    "        device=torch.device('cuda' if torch.cuda.is_available() else 'cpu')\n",
    "):\n",
    "    model.eval()  # set the module in evaluation mode\n",
    "    running_loss_per_epoch = 0.0\n",
    "    running_number_of_samples_per_epoch = 0\n",
    "    with torch.no_grad():\n",
    "        for data in tqdm(dataloader):\n",
    "            inputs, labels = data  # get the inputs; data is a list of [inputs, labels]\n",
    "            inputs, labels = inputs.to(device), labels.to(device)\n",
    "            outputs = model(inputs).to(device)\n",
    "            loss = loss_fn(outputs, labels)\n",
    "            running_loss_per_epoch += loss.item() * len(labels)\n",
    "            running_number_of_samples_per_epoch += len(labels)\n",
    "    return running_loss_per_epoch / running_number_of_samples_per_epoch"
   ]
  },
  {
   "cell_type": "code",
   "execution_count": 7,
   "metadata": {},
   "outputs": [],
   "source": [
    "def get_accuracy(\n",
    "        model: torch.nn.Module,\n",
    "        dataloader: torch.utils.data.DataLoader,\n",
    "        device=torch.device('cuda' if torch.cuda.is_available() else 'cpu')\n",
    "):\n",
    "    model.eval()  # set the module in evaluation mode\n",
    "    running_correct_samples_per_epoch = 0\n",
    "    running_number_of_samples_per_epoch = 0\n",
    "    with torch.no_grad():\n",
    "        for data in tqdm(dataloader):\n",
    "            inputs, labels = data  # get the inputs; data is a list of [inputs, labels]\n",
    "            inputs, labels = inputs.to(device), labels.to(device)\n",
    "            y_pred = torch.argmax(model(inputs), dim=1)\n",
    "            number_of_correct_predictions = sum(y_pred == labels).item()\n",
    "            running_correct_samples_per_epoch += number_of_correct_predictions\n",
    "            running_number_of_samples_per_epoch += len(labels)\n",
    "    return running_correct_samples_per_epoch / running_number_of_samples_per_epoch"
   ]
  },
  {
   "cell_type": "code",
   "execution_count": 8,
   "metadata": {},
   "outputs": [],
   "source": [
    "def predict(\n",
    "        model: torch.nn.Module,\n",
    "        dataloader: torch.utils.data.DataLoader,\n",
    "        device=torch.device('cuda' if torch.cuda.is_available() else 'cpu')\n",
    "):\n",
    "    model.eval()  # set the module in evaluation mode\n",
    "    test_preds = []\n",
    "    with torch.no_grad():\n",
    "        for data in tqdm(dataloader):\n",
    "            inputs, y = data  # get the inputs; data is a list of [inputs, labels]\n",
    "            inputs, y = inputs.to(device), y.to(device)\n",
    "            y_pred = torch.argmax(model(inputs), dim=1)\n",
    "            test_preds.extend(list(y_pred.detach().numpy()))\n",
    "    return np.array(test_preds)"
   ]
  },
  {
   "cell_type": "code",
   "execution_count": 9,
   "metadata": {},
   "outputs": [],
   "source": [
    "def prepare_pt_dataloader(X: np.ndarray, y: np.ndarray, batch_size: int = 32, shuffle: bool = False):\n",
    "    # torch wants the input in NCHW (instead of NHWC format)\n",
    "    dataset = torch.utils.data.TensorDataset(\n",
    "        torch.tensor(X, dtype=torch.float32).permute(0, 3, 1, 2), torch.tensor(y, dtype=torch.int64))\n",
    "    dataloader = torch.utils.data.DataLoader(dataset, batch_size=batch_size, shuffle=shuffle)\n",
    "    return dataloader"
   ]
  },
  {
   "cell_type": "code",
   "execution_count": 10,
   "metadata": {},
   "outputs": [],
   "source": [
    "class CNN(torch.nn.Module):\n",
    "    def __init__(self, num_classes: int):\n",
    "        super(CNN, self).__init__()\n",
    "        self.conv1 = torch.nn.Conv2d(1, 64, kernel_size=(1, 1), padding='valid')\n",
    "        self.relu = torch.nn.ReLU()\n",
    "        self.bn1 = torch.nn.BatchNorm2d(64)\n",
    "        self.maxpool1 = torch.nn.MaxPool2d((1, 1), stride=(1, 1))\n",
    "\n",
    "        self.conv2 = torch.nn.Conv2d(64, 32, kernel_size=(1, 1), padding='valid')\n",
    "        self.bn2 = torch.nn.BatchNorm2d(32)\n",
    "        self.maxpool2 = torch.nn.MaxPool2d((1, 1), stride=(1, 1))\n",
    "\n",
    "        self.flatten = torch.nn.Flatten()\n",
    "\n",
    "        self.fc1 = torch.nn.Linear(32 * 1 * 16, 64)  # Adjusted input size\n",
    "        self.dropout = torch.nn.Dropout(0.5)  # Adjusted dropout rate\n",
    "\n",
    "        self.fc2 = torch.nn.Linear(64, num_classes)\n",
    "\n",
    "    def forward(self, x):\n",
    "        # conv layer 1\n",
    "        x = self.conv1(x)\n",
    "        x = self.relu(x)\n",
    "        x = self.bn1(x)\n",
    "        x = self.maxpool1(x)\n",
    "\n",
    "        # conv layer 2\n",
    "        x = self.conv2(x)\n",
    "        x = self.relu(x)\n",
    "        x = self.bn2(x)\n",
    "        x = self.maxpool2(x)\n",
    "\n",
    "        # flatten output\n",
    "        x = self.flatten(x)\n",
    "\n",
    "        # dense layer\n",
    "        x = self.fc1(x)\n",
    "        x = self.relu(x)\n",
    "        x = self.dropout(x)\n",
    "\n",
    "        # last layer\n",
    "        x = self.fc2(x)\n",
    "\n",
    "        return x"
   ]
  },
  {
   "cell_type": "code",
   "execution_count": 11,
   "metadata": {},
   "outputs": [],
   "source": [
    "class EarlyStopper:\n",
    "    def __init__(self, monitor: str = 'val_loss', min_delta: float = 0.0, patience: int = 1):\n",
    "        self.monitor = monitor\n",
    "        self.min_delta = min_delta\n",
    "        self.patience = patience\n",
    "        self.counter = 0\n",
    "        self.min_val_loss = float('inf')\n",
    "        self.max_val_acc = 0\n",
    "\n",
    "    def early_stop(self, val):\n",
    "        if self.monitor.endswith('loss'):\n",
    "            if val < self.min_val_loss:\n",
    "                self.min_val_loss = val\n",
    "                self.counter = 0\n",
    "            elif val > self.min_val_loss + self.min_delta:\n",
    "                self.counter += 1\n",
    "                if self.counter >= self.patience:\n",
    "                    return True\n",
    "            return False\n",
    "        elif self.monitor.endswith('acc'):\n",
    "            if val > self.max_val_acc:\n",
    "                self.max_val_acc = val\n",
    "                self.counter = 0\n",
    "            elif val < self.max_val_acc - self.min_delta:\n",
    "                self.counter += 1\n",
    "                if self.counter >= self.patience:\n",
    "                    return True\n",
    "            return False\n",
    "        else:\n",
    "            raise ValueError(f'The only recognized quantities to be monitored are: loss, acc')"
   ]
  },
  {
   "cell_type": "code",
   "execution_count": 12,
   "metadata": {},
   "outputs": [],
   "source": [
    "def build_pt_model(num_classes: int):\n",
    "    model = CNN(num_classes)\n",
    "    # print(torchinfo.summary(model, input_size=(BATCH_SIZE, 1, 44, 13)))\n",
    "    return model"
   ]
  },
  {
   "cell_type": "code",
   "execution_count": 13,
   "metadata": {},
   "outputs": [],
   "source": [
    "def train_pt_model(\n",
    "        model: torch.nn.Module,\n",
    "        X_train,\n",
    "        y_train,\n",
    "        X_val=None,\n",
    "        y_val=None,\n",
    "        epochs: int = 40,\n",
    "        patience: int = 5,\n",
    "        batch_size: int = 32,\n",
    "        learning_rate: float = 0.001\n",
    "):\n",
    "    optimizer = torch.optim.Adam(model.parameters(), lr=learning_rate, weight_decay=0.001)\n",
    "    loss_fn = torch.nn.CrossEntropyLoss()\n",
    "\n",
    "    train_dataloader = prepare_pt_dataloader(X_train, y_train, batch_size=batch_size, shuffle=True)\n",
    "    val_dataloader = prepare_pt_dataloader(X_val, y_val, batch_size=batch_size, shuffle=False)\n",
    "\n",
    "    early_stopper = EarlyStopper(monitor='val_acc', min_delta=0.001, patience=patience)\n",
    "\n",
    "    #  creating history of logs\n",
    "    history = {\n",
    "        'loss': [],\n",
    "        'acc': [],\n",
    "        'val_loss': [],\n",
    "        'val_acc': []\n",
    "    }\n",
    "\n",
    "    device = torch.device('cuda' if torch.cuda.is_available() else 'cpu')\n",
    "    for epoch in range(epochs):\n",
    "        model.train()  # set the module in training mode  (you should set this here inside the `range(epochs)` loop)\n",
    "        print(f'Epoch: {epoch+1}: Is model in train mode?', model.training)\n",
    "        running_loss_per_epoch = 0.0\n",
    "        running_number_of_correct_predictions_per_epoch = 0\n",
    "        running_number_of_samples_per_epoch = 0\n",
    "        for batch_idx, data in enumerate(tqdm(train_dataloader)):\n",
    "            optimizer.zero_grad()  # reset the gradients\n",
    "\n",
    "            inputs, labels = data  # get the inputs; data is a list of [inputs, labels]\n",
    "            inputs, labels = inputs.to(device), labels.to(device)\n",
    "\n",
    "            outputs = model(inputs).to(device)\n",
    "            loss = loss_fn(outputs, labels)\n",
    "\n",
    "            loss.backward()  # compute gradients during backpropagation\n",
    "            optimizer.step()  # update the params\n",
    "\n",
    "            # epoch statistics\n",
    "            y_pred = torch.argmax(outputs, dim=1).to(device)\n",
    "            running_loss_per_epoch += loss.item() * len(labels)\n",
    "            running_number_of_correct_predictions_per_epoch += sum(y_pred == labels).item()\n",
    "            running_number_of_samples_per_epoch += len(labels)\n",
    "\n",
    "        train_loss = running_loss_per_epoch / running_number_of_samples_per_epoch\n",
    "        train_acc = running_number_of_correct_predictions_per_epoch / running_number_of_samples_per_epoch\n",
    "        val_loss = get_loss(model, loss_fn, val_dataloader, device=device)\n",
    "        val_acc = get_accuracy(model, val_dataloader, device=device)\n",
    "\n",
    "        history['loss'].append(train_loss)\n",
    "        history['acc'].append(train_acc)\n",
    "        history['val_loss'].append(val_loss)\n",
    "        history['val_acc'].append(val_acc)\n",
    "\n",
    "        print(f\"[{datetime.now().strftime('%Y-%m-%d %H:%M:%S')}] \"\n",
    "              f\"Epoch {epoch+1}/{epochs}\\n\"\n",
    "              f\"{len(train_dataloader)}/{len(train_dataloader)} [==============================] \"\n",
    "              f\"loss: {train_loss:.4f} - acc: {train_acc:.4f} - \"\n",
    "              f\"val_loss: {val_loss:.4f} - val_acc: {val_acc:.4f} - lr: {optimizer.state_dict()['param_groups'][0]['lr']}\")\n",
    "\n",
    "        if early_stopper.early_stop(val_acc):\n",
    "            print(f'Early stopping criterion triggered: We did not have an increase in val_acc after {patience} epochs.')\n",
    "            break\n",
    "\n",
    "    return model, history"
   ]
  },
  {
   "cell_type": "code",
   "execution_count": 14,
   "metadata": {},
   "outputs": [],
   "source": [
    "def eval_pt_model(\n",
    "        model: torch.nn.Module,\n",
    "        loss_fn,\n",
    "        X_test,\n",
    "        y_test,\n",
    "        files_test,\n",
    "        mapping=None,\n",
    "        device=torch.device('cuda' if torch.cuda.is_available() else 'cpu')\n",
    "):\n",
    "    test_dataloader = prepare_pt_dataloader(X_test, y_test, batch_size=32, shuffle=False)\n",
    "\n",
    "    # get accumulated statistics\n",
    "    test_loss = get_loss(model, loss_fn, test_dataloader, device=device)\n",
    "    test_acc = get_accuracy(model, test_dataloader, device=device)\n",
    "    print(f'\\ntest_loss: {test_loss:.4f}, test_acc: {test_acc:.4f}\\n')\n",
    "\n",
    "    # see specific examples\n",
    "    # y_test_pred = predict(model, test_dataloader)\n",
    "    # for file, y, yhat in zip(files_test, y_test, y_test_pred):\n",
    "    #     if y == yhat:\n",
    "    #         print(f'{file}: true: {y if mapping is None else mapping[y]}, '\n",
    "    #               f'pred: {yhat if mapping is None else mapping[yhat]}')\n",
    "    #     else:\n",
    "    #         print(f'    WRONG!!! {file}: true: {y if mapping is None else mapping[y]}, '\n",
    "    #               f'pred: {yhat if mapping is None else mapping[yhat]}')"
   ]
  },
  {
   "cell_type": "code",
   "execution_count": 15,
   "metadata": {},
   "outputs": [
    {
     "name": "stdout",
     "output_type": "stream",
     "text": [
      "X_train shape: (239459, 1, 16, 1), y_train shape: (239459,)\n",
      "Epoch: 1: Is model in train mode? True\n"
     ]
    },
    {
     "name": "stderr",
     "output_type": "stream",
     "text": [
      "100%|██████████| 7484/7484 [00:46<00:00, 161.11it/s]\n",
      "100%|██████████| 832/832 [00:01<00:00, 596.99it/s]\n",
      "100%|██████████| 832/832 [00:01<00:00, 514.04it/s]\n"
     ]
    },
    {
     "name": "stdout",
     "output_type": "stream",
     "text": [
      "[2024-05-16 10:53:04] Epoch 1/10\n",
      "7484/7484 [==============================] loss: 0.4289 - acc: 0.8009 - val_loss: 0.3698 - val_acc: 0.8276 - lr: 0.0001\n",
      "Epoch: 2: Is model in train mode? True\n"
     ]
    },
    {
     "name": "stderr",
     "output_type": "stream",
     "text": [
      "100%|██████████| 7484/7484 [00:42<00:00, 175.84it/s]\n",
      "100%|██████████| 832/832 [00:01<00:00, 621.45it/s]\n",
      "100%|██████████| 832/832 [00:01<00:00, 509.46it/s]\n"
     ]
    },
    {
     "name": "stdout",
     "output_type": "stream",
     "text": [
      "[2024-05-16 10:53:50] Epoch 2/10\n",
      "7484/7484 [==============================] loss: 0.3867 - acc: 0.8225 - val_loss: 0.3495 - val_acc: 0.8436 - lr: 0.0001\n",
      "Epoch: 3: Is model in train mode? True\n"
     ]
    },
    {
     "name": "stderr",
     "output_type": "stream",
     "text": [
      "100%|██████████| 7484/7484 [00:48<00:00, 153.82it/s]\n",
      "100%|██████████| 832/832 [00:02<00:00, 385.21it/s]\n",
      "100%|██████████| 832/832 [00:02<00:00, 393.00it/s]\n"
     ]
    },
    {
     "name": "stdout",
     "output_type": "stream",
     "text": [
      "[2024-05-16 10:54:43] Epoch 3/10\n",
      "7484/7484 [==============================] loss: 0.3741 - acc: 0.8290 - val_loss: 0.3365 - val_acc: 0.8484 - lr: 0.0001\n",
      "Epoch: 4: Is model in train mode? True\n"
     ]
    },
    {
     "name": "stderr",
     "output_type": "stream",
     "text": [
      "100%|██████████| 7484/7484 [00:47<00:00, 156.68it/s]\n",
      "100%|██████████| 832/832 [00:01<00:00, 569.37it/s]\n",
      "100%|██████████| 832/832 [00:02<00:00, 407.60it/s]\n"
     ]
    },
    {
     "name": "stdout",
     "output_type": "stream",
     "text": [
      "[2024-05-16 10:55:34] Epoch 4/10\n",
      "7484/7484 [==============================] loss: 0.3686 - acc: 0.8321 - val_loss: 0.3344 - val_acc: 0.8476 - lr: 0.0001\n",
      "Epoch: 5: Is model in train mode? True\n"
     ]
    },
    {
     "name": "stderr",
     "output_type": "stream",
     "text": [
      "100%|██████████| 7484/7484 [00:49<00:00, 149.89it/s]\n",
      "100%|██████████| 832/832 [00:01<00:00, 568.83it/s]\n",
      "100%|██████████| 832/832 [00:01<00:00, 497.11it/s]\n"
     ]
    },
    {
     "name": "stdout",
     "output_type": "stream",
     "text": [
      "[2024-05-16 10:56:27] Epoch 5/10\n",
      "7484/7484 [==============================] loss: 0.3657 - acc: 0.8335 - val_loss: 0.3315 - val_acc: 0.8509 - lr: 0.0001\n",
      "Epoch: 6: Is model in train mode? True\n"
     ]
    },
    {
     "name": "stderr",
     "output_type": "stream",
     "text": [
      "100%|██████████| 7484/7484 [00:42<00:00, 175.81it/s]\n",
      "100%|██████████| 832/832 [00:01<00:00, 722.30it/s]\n",
      "100%|██████████| 832/832 [00:01<00:00, 517.10it/s]\n"
     ]
    },
    {
     "name": "stdout",
     "output_type": "stream",
     "text": [
      "[2024-05-16 10:57:13] Epoch 6/10\n",
      "7484/7484 [==============================] loss: 0.3632 - acc: 0.8347 - val_loss: 0.3267 - val_acc: 0.8534 - lr: 0.0001\n",
      "Epoch: 7: Is model in train mode? True\n"
     ]
    },
    {
     "name": "stderr",
     "output_type": "stream",
     "text": [
      "100%|██████████| 7484/7484 [00:40<00:00, 183.71it/s]\n",
      "100%|██████████| 832/832 [00:01<00:00, 479.26it/s]\n",
      "100%|██████████| 832/832 [00:01<00:00, 443.92it/s]\n"
     ]
    },
    {
     "name": "stdout",
     "output_type": "stream",
     "text": [
      "[2024-05-16 10:57:57] Epoch 7/10\n",
      "7484/7484 [==============================] loss: 0.3603 - acc: 0.8361 - val_loss: 0.3298 - val_acc: 0.8534 - lr: 0.0001\n",
      "Epoch: 8: Is model in train mode? True\n"
     ]
    },
    {
     "name": "stderr",
     "output_type": "stream",
     "text": [
      "100%|██████████| 7484/7484 [00:44<00:00, 167.47it/s]\n",
      "100%|██████████| 832/832 [00:01<00:00, 517.29it/s]\n",
      "100%|██████████| 832/832 [00:02<00:00, 392.94it/s]\n"
     ]
    },
    {
     "name": "stdout",
     "output_type": "stream",
     "text": [
      "[2024-05-16 10:58:45] Epoch 8/10\n",
      "7484/7484 [==============================] loss: 0.3577 - acc: 0.8375 - val_loss: 0.3366 - val_acc: 0.8455 - lr: 0.0001\n",
      "Epoch: 9: Is model in train mode? True\n"
     ]
    },
    {
     "name": "stderr",
     "output_type": "stream",
     "text": [
      "100%|██████████| 7484/7484 [00:48<00:00, 154.51it/s]\n",
      "100%|██████████| 832/832 [00:01<00:00, 611.26it/s]\n",
      "100%|██████████| 832/832 [00:01<00:00, 521.56it/s]\n"
     ]
    },
    {
     "name": "stdout",
     "output_type": "stream",
     "text": [
      "[2024-05-16 10:59:37] Epoch 9/10\n",
      "7484/7484 [==============================] loss: 0.3558 - acc: 0.8379 - val_loss: 0.3280 - val_acc: 0.8495 - lr: 0.0001\n",
      "Epoch: 10: Is model in train mode? True\n"
     ]
    },
    {
     "name": "stderr",
     "output_type": "stream",
     "text": [
      "100%|██████████| 7484/7484 [00:41<00:00, 179.29it/s]\n",
      "100%|██████████| 832/832 [00:01<00:00, 622.94it/s]\n",
      "100%|██████████| 832/832 [00:01<00:00, 518.89it/s]\n"
     ]
    },
    {
     "name": "stdout",
     "output_type": "stream",
     "text": [
      "[2024-05-16 11:00:22] Epoch 10/10\n",
      "7484/7484 [==============================] loss: 0.3553 - acc: 0.8386 - val_loss: 0.3223 - val_acc: 0.8528 - lr: 0.0001\n"
     ]
    },
    {
     "data": {
      "image/png": "[encoded data removed]",
      "text/plain": [
       "<Figure size 640x480 with 2 Axes>"
      ]
     },
     "metadata": {},
     "output_type": "display_data"
    },
    {
     "name": "stderr",
     "output_type": "stream",
     "text": [
      "100%|██████████| 438/438 [00:00<00:00, 631.35it/s]\n",
      "100%|██████████| 438/438 [00:00<00:00, 536.82it/s]\n"
     ]
    },
    {
     "name": "stdout",
     "output_type": "stream",
     "text": [
      "\n",
      "test_loss: 0.3278, test_acc: 0.8486\n",
      "\n"
     ]
    }
   ],
   "source": [
    "with open(DATA_PATH, 'rb') as f:\n",
    "    data = json.load(f)\n",
    "mapping = data['mapping']\n",
    "NUM_CLASSES = len(mapping)\n",
    "\n",
    "X_train, X_val, X_test, y_train, y_val, y_test, files_train, files_val, files_test = get_data_splits(DATA_PATH)\n",
    "\n",
    "print(f\"X_train shape: {X_train.shape}, y_train shape: {y_train.shape}\")\n",
    "\n",
    "# build the model\n",
    "pt_model = build_pt_model(NUM_CLASSES)\n",
    "\n",
    "# train the model\n",
    "pt_model, pt_history = train_pt_model(\n",
    "    pt_model, X_train, y_train, X_val=X_val, y_val=y_val,\n",
    "    epochs=EPOCHS, batch_size=BATCH_SIZE, learning_rate=LEARNING_RATE\n",
    ")\n",
    "\n",
    "# plot history\n",
    "plot_history(pt_history)\n",
    "\n",
    "# evaluate the model on test data\n",
    "eval_pt_model(pt_model, torch.nn.CrossEntropyLoss(), X_test, y_test, files_test, mapping=mapping)\n",
    "\n",
    "# save the model\n",
    "scripted_model = torch.jit.script(pt_model)\n",
    "scripted_model.save(SAVED_MODEL_PATH)"
   ]
  }
 ],
 "metadata": {
  "kernelspec": {
   "display_name": ".venv",
   "language": "python",
   "name": "python3"
  },
  "language_info": {
   "codemirror_mode": {
    "name": "ipython",
    "version": 3
   },
   "file_extension": ".py",
   "mimetype": "text/x-python",
   "name": "python",
   "nbconvert_exporter": "python",
   "pygments_lexer": "ipython3",
   "version": "3.11.2"
  }
 },
 "nbformat": 4,
 "nbformat_minor": 2
}
