{
 "cells": [
  {
   "cell_type": "code",
   "execution_count": 1,
   "metadata": {},
   "outputs": [],
   "source": [
    "import os\n",
    "os.chdir('/home/hugo-dev/esirem-dev/4a/kmutt/kmutt_v2')"
   ]
  },
  {
   "cell_type": "code",
   "execution_count": 2,
   "metadata": {},
   "outputs": [
    {
     "name": "stderr",
     "output_type": "stream",
     "text": [
      "2024-05-15 18:02:09.570673: I tensorflow/core/platform/cpu_feature_guard.cc:210] This TensorFlow binary is optimized to use available CPU instructions in performance-critical operations.\n",
      "To enable the following instructions: AVX2 FMA, in other operations, rebuild TensorFlow with the appropriate compiler flags.\n",
      "2024-05-15 18:02:17.906439: W tensorflow/compiler/tf2tensorrt/utils/py_utils.cc:38] TF-TRT Warning: Could not find TensorRT\n"
     ]
    }
   ],
   "source": [
    "import json\n",
    "import numpy as np\n",
    "import tensorflow as tf\n",
    "import matplotlib.pyplot as plt\n",
    "from sklearn.model_selection import train_test_split\n",
    "from sklearn.preprocessing import StandardScaler, MinMaxScaler\n",
    "from utils.load_data import load_data\n",
    "from utils.plot_history import plot_history"
   ]
  },
  {
   "cell_type": "code",
   "execution_count": 3,
   "metadata": {},
   "outputs": [],
   "source": [
    "DATA_PATH = \"./data/data_25ms_h=50%_16mfcc_RMT-HRK.json\"\n",
    "SAVED_MODEL_PATH = \"./models/svm/model.keras\"\n",
    "EPOCHS = 50\n",
    "BATCH_SIZE = 32\n",
    "PATIENCE = 5\n",
    "LEARNING_RATE = 0.0001"
   ]
  },
  {
   "cell_type": "code",
   "execution_count": 4,
   "metadata": {},
   "outputs": [],
   "source": [
    "def prepare_dataset(data_path, test_size=0.2, validation_size=0.2):\n",
    "    # load dataset\n",
    "    X, y = load_data(data_path)\n",
    "\n",
    "    # initialisez le scaler\n",
    "    scaler = MinMaxScaler()\n",
    "\n",
    "    # redimensionnez X en 2D pour le scaling\n",
    "    X_2d = X.reshape(-1, X.shape[-1])\n",
    "\n",
    "    # ajustez et transformez les données\n",
    "    X_scaled = scaler.fit_transform(X_2d)\n",
    "\n",
    "    # redimensionnez X à sa forme originale\n",
    "    X_normalized = X_scaled.reshape(X.shape)\n",
    "\n",
    "    # create train, validation, test split\n",
    "    X_train, X_test, y_train, y_test = train_test_split(X_normalized, y, test_size=test_size)\n",
    "    X_train, X_validation, y_train, y_validation = train_test_split(X_train, y_train, test_size=validation_size)\n",
    "\n",
    "    return X_train, y_train, X_validation, y_validation, X_test, y_test"
   ]
  },
  {
   "cell_type": "code",
   "execution_count": 5,
   "metadata": {},
   "outputs": [
    {
     "name": "stdout",
     "output_type": "stream",
     "text": [
      "Training sets loaded!\n",
      "Validation Accuracy:  0.8023319838056681\n",
      "\n",
      "Test accuracy: 80.27362475060245\n"
     ]
    }
   ],
   "source": [
    "from sklearn import svm\n",
    "from sklearn.metrics import accuracy_score\n",
    "from sklearn.model_selection import train_test_split\n",
    "\n",
    "# generate train, validation and test sets\n",
    "X_train, y_train, X_validation, y_validation, X_test, y_test = prepare_dataset(DATA_PATH)\n",
    "\n",
    "# flatten the data for SVM\n",
    "X_train_flatten = X_train.reshape(X_train.shape[0], -1)\n",
    "X_validation_flatten = X_validation.reshape(X_validation.shape[0], -1)\n",
    "X_test_flatten = X_test.reshape(X_test.shape[0], -1)\n",
    "\n",
    "# create SVM model\n",
    "clf = svm.SVC(kernel='linear')  # Vous pouvez changer le noyau ici\n",
    "\n",
    "# train SVM\n",
    "clf.fit(X_train_flatten, y_train)\n",
    "\n",
    "# validate the model\n",
    "validation_predictions = clf.predict(X_validation_flatten)\n",
    "print(\"Validation Accuracy: \", accuracy_score(y_validation, validation_predictions))\n",
    "\n",
    "# evaluate network on test set\n",
    "test_predictions = clf.predict(X_test_flatten)\n",
    "test_acc = accuracy_score(y_test, test_predictions)\n",
    "print(\"\\nTest accuracy: {}\".format(100*test_acc))\n"
   ]
  }
 ],
 "metadata": {
  "kernelspec": {
   "display_name": ".venv",
   "language": "python",
   "name": "python3"
  },
  "language_info": {
   "codemirror_mode": {
    "name": "ipython",
    "version": 3
   },
   "file_extension": ".py",
   "mimetype": "text/x-python",
   "name": "python",
   "nbconvert_exporter": "python",
   "pygments_lexer": "ipython3",
   "version": "3.11.2"
  }
 },
 "nbformat": 4,
 "nbformat_minor": 2
}
